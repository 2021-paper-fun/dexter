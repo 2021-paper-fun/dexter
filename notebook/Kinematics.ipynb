{
 "cells": [
  {
   "cell_type": "markdown",
   "metadata": {},
   "source": [
    "# Kinematics"
   ]
  },
  {
   "cell_type": "code",
   "execution_count": 1,
   "metadata": {
    "collapsed": false
   },
   "outputs": [],
   "source": [
    "import numpy as np\n",
    "from sympy import *\n",
    "from IPython.display import display\n",
    "import matplotlib.pyplot as plt\n",
    "from mpl_toolkits.mplot3d import Axes3D\n",
    "\n",
    "%matplotlib notebook\n",
    "init_printing()"
   ]
  },
  {
   "cell_type": "markdown",
   "metadata": {},
   "source": [
    "### Helpers"
   ]
  },
  {
   "cell_type": "markdown",
   "metadata": {},
   "source": [
    "Create rotational matrix generator."
   ]
  },
  {
   "cell_type": "code",
   "execution_count": 2,
   "metadata": {
    "collapsed": true
   },
   "outputs": [],
   "source": [
    "def rotate(p, theta, o, direction):\n",
    "    \"\"\"\n",
    "    Rotate a point about an direction through a point.\n",
    "    Represents a counterclockwise rotation by theta about the line passing through point pointing in direction.\n",
    "    :param p: The point to be rotated.\n",
    "    :param theta: How much to rotate p.\n",
    "    :param o: The origin of the rotational axis.\n",
    "    :param direction: The direction of the rotational axis.\n",
    "    \"\"\"\n",
    "    \n",
    "    # Ensure direction is matrix (for norm).\n",
    "    direction = Matrix(direction)\n",
    "    \n",
    "    # Unpack.\n",
    "    u, v, w = direction / direction.norm()\n",
    "    x, y, z = p\n",
    "    a, b, c = o\n",
    "    \n",
    "    x1 = (a*(v**2+w**2)-u*(b*v+c*w-u*x-v*y-w*z))*(1-cos(theta))+x*cos(theta)+(-c*v+b*w-w*y+v*z)*sin(theta)\n",
    "    y1 = (b*(u**2+w**2)-v*(a*u+c*w-u*x-v*y-w*z))*(1-cos(theta))+y*cos(theta)+(c*u-a*w+w*x-u*z)*sin(theta)\n",
    "    z1 = (c*(u**2+v**2)-w*(a*u+b*v-u*x-v*y-w*z))*(1-cos(theta))+z*cos(theta)+(-b*u+a*v-v*x+u*y)*sin(theta)\n",
    "    \n",
    "    return Matrix((x1, y1, z1))"
   ]
  },
  {
   "cell_type": "markdown",
   "metadata": {},
   "source": [
    "Create pretty simplification function."
   ]
  },
  {
   "cell_type": "code",
   "execution_count": 3,
   "metadata": {
    "collapsed": false
   },
   "outputs": [],
   "source": [
    "def pretty(eqn, expressions, symbols):\n",
    "    \"\"\"\n",
    "    Does pretty simplification by replacing expressions in a expression or matrix with symbols.\n",
    "    :param eqn: The desired input expression or matrix.\n",
    "    :param expressions: The expressions to replace.\n",
    "    :param symbols: The symbols to use.\n",
    "    \"\"\"\n",
    "    \n",
    "    eqn = eqn.copy()\n",
    "\n",
    "    for expr, sub in zip(expressions, symbols):\n",
    "        eqn = eqn.subs(expr, sub)\n",
    "        \n",
    "    return simplify(eqn)"
   ]
  },
  {
   "cell_type": "markdown",
   "metadata": {},
   "source": [
    "Create plotting functions."
   ]
  },
  {
   "cell_type": "code",
   "execution_count": 4,
   "metadata": {
    "collapsed": true
   },
   "outputs": [],
   "source": [
    "def equal_ax(ax):\n",
    "    extents = np.array([getattr(ax, 'get_{}lim'.format(dim))() for dim in 'xyz'])\n",
    "    sz = extents[:,1] - extents[:,0]\n",
    "    centers = np.mean(extents, axis=1)\n",
    "    maxsize = max(abs(sz))\n",
    "    r = maxsize/2\n",
    "    for ctr, dim in zip(centers, 'xyz'):\n",
    "        getattr(ax, 'set_{}lim'.format(dim))(ctr - r, ctr + r)\n",
    "     \n",
    "    \n",
    "def plot_arm(points):\n",
    "    fig = plt.figure()\n",
    "    ax = fig.add_subplot(111, projection='3d')\n",
    "    \n",
    "    ax.set_xlabel('X axis')\n",
    "    ax.set_ylabel('Y axis')\n",
    "    ax.set_zlabel('Z axis')\n",
    "    \n",
    "    xs, ys, zs = zip(*points)\n",
    "    ax.plot(xs, ys, zs, 'go-')\n",
    "    \n",
    "    ax.view_init(30, 150)\n",
    "    equal_ax(ax)\n",
    "    \n",
    "    plt.show()"
   ]
  },
  {
   "cell_type": "markdown",
   "metadata": {},
   "source": [
    "### Preliminary Tests"
   ]
  },
  {
   "cell_type": "markdown",
   "metadata": {},
   "source": [
    "Run test cases for rotations about origin. Ensure that the rotate function works."
   ]
  },
  {
   "cell_type": "code",
   "execution_count": 5,
   "metadata": {
    "collapsed": false
   },
   "outputs": [],
   "source": [
    "theta = Symbol('theta')\n",
    "nx = (1, 0, 0)\n",
    "ny = (0, 1, 0)\n",
    "nz = (0, 0, 1)\n",
    "o = (0, 0, 0)"
   ]
  },
  {
   "cell_type": "code",
   "execution_count": 6,
   "metadata": {
    "collapsed": false
   },
   "outputs": [
    {
     "data": {
      "text/latex": [
       "$$\\left[\\begin{matrix}1\\\\0\\\\0\\end{matrix}\\right]$$"
      ],
      "text/plain": [
       "⎡1⎤\n",
       "⎢ ⎥\n",
       "⎢0⎥\n",
       "⎢ ⎥\n",
       "⎣0⎦"
      ]
     },
     "execution_count": 6,
     "metadata": {},
     "output_type": "execute_result"
    }
   ],
   "source": [
    "# Rotate p about x.\n",
    "p = Matrix((1, 0, 0))\n",
    "rotate(p, theta, o, nx)"
   ]
  },
  {
   "cell_type": "code",
   "execution_count": 7,
   "metadata": {
    "collapsed": false
   },
   "outputs": [
    {
     "data": {
      "text/latex": [
       "$$\\left[\\begin{matrix}\\cos{\\left (\\theta \\right )}\\\\0\\\\- \\sin{\\left (\\theta \\right )}\\end{matrix}\\right]$$"
      ],
      "text/plain": [
       "⎡cos(θ) ⎤\n",
       "⎢       ⎥\n",
       "⎢   0   ⎥\n",
       "⎢       ⎥\n",
       "⎣-sin(θ)⎦"
      ]
     },
     "execution_count": 7,
     "metadata": {},
     "output_type": "execute_result"
    }
   ],
   "source": [
    "# Rotate p about y.\n",
    "p = Matrix((1, 0, 0))\n",
    "rotate(p, theta, o, ny)"
   ]
  },
  {
   "cell_type": "code",
   "execution_count": 8,
   "metadata": {
    "collapsed": false,
    "scrolled": true
   },
   "outputs": [
    {
     "data": {
      "text/latex": [
       "$$\\left[\\begin{matrix}\\cos{\\left (\\theta \\right )}\\\\\\sin{\\left (\\theta \\right )}\\\\0\\end{matrix}\\right]$$"
      ],
      "text/plain": [
       "⎡cos(θ)⎤\n",
       "⎢      ⎥\n",
       "⎢sin(θ)⎥\n",
       "⎢      ⎥\n",
       "⎣  0   ⎦"
      ]
     },
     "execution_count": 8,
     "metadata": {},
     "output_type": "execute_result"
    }
   ],
   "source": [
    "# Rotate p about z.\n",
    "p = Matrix((1, 0, 0))\n",
    "rotate(p, theta, o, nz)"
   ]
  },
  {
   "cell_type": "markdown",
   "metadata": {},
   "source": [
    "### Forward Kinematics"
   ]
  },
  {
   "cell_type": "markdown",
   "metadata": {},
   "source": [
    "Define lengths for arm segments. Graph points for base condition."
   ]
  },
  {
   "cell_type": "code",
   "execution_count": 9,
   "metadata": {
    "collapsed": false
   },
   "outputs": [
    {
     "data": {
      "application/javascript": [
       "/* Put everything inside the global mpl namespace */\n",
       "window.mpl = {};\n",
       "\n",
       "mpl.get_websocket_type = function() {\n",
       "    if (typeof(WebSocket) !== 'undefined') {\n",
       "        return WebSocket;\n",
       "    } else if (typeof(MozWebSocket) !== 'undefined') {\n",
       "        return MozWebSocket;\n",
       "    } else {\n",
       "        alert('Your browser does not have WebSocket support.' +\n",
       "              'Please try Chrome, Safari or Firefox ≥ 6. ' +\n",
       "              'Firefox 4 and 5 are also supported but you ' +\n",
       "              'have to enable WebSockets in about:config.');\n",
       "    };\n",
       "}\n",
       "\n",
       "mpl.figure = function(figure_id, websocket, ondownload, parent_element) {\n",
       "    this.id = figure_id;\n",
       "\n",
       "    this.ws = websocket;\n",
       "\n",
       "    this.supports_binary = (this.ws.binaryType != undefined);\n",
       "\n",
       "    if (!this.supports_binary) {\n",
       "        var warnings = document.getElementById(\"mpl-warnings\");\n",
       "        if (warnings) {\n",
       "            warnings.style.display = 'block';\n",
       "            warnings.textContent = (\n",
       "                \"This browser does not support binary websocket messages. \" +\n",
       "                    \"Performance may be slow.\");\n",
       "        }\n",
       "    }\n",
       "\n",
       "    this.imageObj = new Image();\n",
       "\n",
       "    this.context = undefined;\n",
       "    this.message = undefined;\n",
       "    this.canvas = undefined;\n",
       "    this.rubberband_canvas = undefined;\n",
       "    this.rubberband_context = undefined;\n",
       "    this.format_dropdown = undefined;\n",
       "\n",
       "    this.image_mode = 'full';\n",
       "\n",
       "    this.root = $('<div/>');\n",
       "    this._root_extra_style(this.root)\n",
       "    this.root.attr('style', 'display: inline-block');\n",
       "\n",
       "    $(parent_element).append(this.root);\n",
       "\n",
       "    this._init_header(this);\n",
       "    this._init_canvas(this);\n",
       "    this._init_toolbar(this);\n",
       "\n",
       "    var fig = this;\n",
       "\n",
       "    this.waiting = false;\n",
       "\n",
       "    this.ws.onopen =  function () {\n",
       "            fig.send_message(\"supports_binary\", {value: fig.supports_binary});\n",
       "            fig.send_message(\"send_image_mode\", {});\n",
       "            fig.send_message(\"refresh\", {});\n",
       "        }\n",
       "\n",
       "    this.imageObj.onload = function() {\n",
       "            if (fig.image_mode == 'full') {\n",
       "                // Full images could contain transparency (where diff images\n",
       "                // almost always do), so we need to clear the canvas so that\n",
       "                // there is no ghosting.\n",
       "                fig.context.clearRect(0, 0, fig.canvas.width, fig.canvas.height);\n",
       "            }\n",
       "            fig.context.drawImage(fig.imageObj, 0, 0);\n",
       "        };\n",
       "\n",
       "    this.imageObj.onunload = function() {\n",
       "        this.ws.close();\n",
       "    }\n",
       "\n",
       "    this.ws.onmessage = this._make_on_message_function(this);\n",
       "\n",
       "    this.ondownload = ondownload;\n",
       "}\n",
       "\n",
       "mpl.figure.prototype._init_header = function() {\n",
       "    var titlebar = $(\n",
       "        '<div class=\"ui-dialog-titlebar ui-widget-header ui-corner-all ' +\n",
       "        'ui-helper-clearfix\"/>');\n",
       "    var titletext = $(\n",
       "        '<div class=\"ui-dialog-title\" style=\"width: 100%; ' +\n",
       "        'text-align: center; padding: 3px;\"/>');\n",
       "    titlebar.append(titletext)\n",
       "    this.root.append(titlebar);\n",
       "    this.header = titletext[0];\n",
       "}\n",
       "\n",
       "\n",
       "\n",
       "mpl.figure.prototype._canvas_extra_style = function(canvas_div) {\n",
       "\n",
       "}\n",
       "\n",
       "\n",
       "mpl.figure.prototype._root_extra_style = function(canvas_div) {\n",
       "\n",
       "}\n",
       "\n",
       "mpl.figure.prototype._init_canvas = function() {\n",
       "    var fig = this;\n",
       "\n",
       "    var canvas_div = $('<div/>');\n",
       "\n",
       "    canvas_div.attr('style', 'position: relative; clear: both; outline: 0');\n",
       "\n",
       "    function canvas_keyboard_event(event) {\n",
       "        return fig.key_event(event, event['data']);\n",
       "    }\n",
       "\n",
       "    canvas_div.keydown('key_press', canvas_keyboard_event);\n",
       "    canvas_div.keyup('key_release', canvas_keyboard_event);\n",
       "    this.canvas_div = canvas_div\n",
       "    this._canvas_extra_style(canvas_div)\n",
       "    this.root.append(canvas_div);\n",
       "\n",
       "    var canvas = $('<canvas/>');\n",
       "    canvas.addClass('mpl-canvas');\n",
       "    canvas.attr('style', \"left: 0; top: 0; z-index: 0; outline: 0\")\n",
       "\n",
       "    this.canvas = canvas[0];\n",
       "    this.context = canvas[0].getContext(\"2d\");\n",
       "\n",
       "    var rubberband = $('<canvas/>');\n",
       "    rubberband.attr('style', \"position: absolute; left: 0; top: 0; z-index: 1;\")\n",
       "\n",
       "    var pass_mouse_events = true;\n",
       "\n",
       "    canvas_div.resizable({\n",
       "        start: function(event, ui) {\n",
       "            pass_mouse_events = false;\n",
       "        },\n",
       "        resize: function(event, ui) {\n",
       "            fig.request_resize(ui.size.width, ui.size.height);\n",
       "        },\n",
       "        stop: function(event, ui) {\n",
       "            pass_mouse_events = true;\n",
       "            fig.request_resize(ui.size.width, ui.size.height);\n",
       "        },\n",
       "    });\n",
       "\n",
       "    function mouse_event_fn(event) {\n",
       "        if (pass_mouse_events)\n",
       "            return fig.mouse_event(event, event['data']);\n",
       "    }\n",
       "\n",
       "    rubberband.mousedown('button_press', mouse_event_fn);\n",
       "    rubberband.mouseup('button_release', mouse_event_fn);\n",
       "    // Throttle sequential mouse events to 1 every 20ms.\n",
       "    rubberband.mousemove('motion_notify', mouse_event_fn);\n",
       "\n",
       "    rubberband.mouseenter('figure_enter', mouse_event_fn);\n",
       "    rubberband.mouseleave('figure_leave', mouse_event_fn);\n",
       "\n",
       "    canvas_div.on(\"wheel\", function (event) {\n",
       "        event = event.originalEvent;\n",
       "        event['data'] = 'scroll'\n",
       "        if (event.deltaY < 0) {\n",
       "            event.step = 1;\n",
       "        } else {\n",
       "            event.step = -1;\n",
       "        }\n",
       "        mouse_event_fn(event);\n",
       "    });\n",
       "\n",
       "    canvas_div.append(canvas);\n",
       "    canvas_div.append(rubberband);\n",
       "\n",
       "    this.rubberband = rubberband;\n",
       "    this.rubberband_canvas = rubberband[0];\n",
       "    this.rubberband_context = rubberband[0].getContext(\"2d\");\n",
       "    this.rubberband_context.strokeStyle = \"#000000\";\n",
       "\n",
       "    this._resize_canvas = function(width, height) {\n",
       "        // Keep the size of the canvas, canvas container, and rubber band\n",
       "        // canvas in synch.\n",
       "        canvas_div.css('width', width)\n",
       "        canvas_div.css('height', height)\n",
       "\n",
       "        canvas.attr('width', width);\n",
       "        canvas.attr('height', height);\n",
       "\n",
       "        rubberband.attr('width', width);\n",
       "        rubberband.attr('height', height);\n",
       "    }\n",
       "\n",
       "    // Set the figure to an initial 600x600px, this will subsequently be updated\n",
       "    // upon first draw.\n",
       "    this._resize_canvas(600, 600);\n",
       "\n",
       "    // Disable right mouse context menu.\n",
       "    $(this.rubberband_canvas).bind(\"contextmenu\",function(e){\n",
       "        return false;\n",
       "    });\n",
       "\n",
       "    function set_focus () {\n",
       "        canvas.focus();\n",
       "        canvas_div.focus();\n",
       "    }\n",
       "\n",
       "    window.setTimeout(set_focus, 100);\n",
       "}\n",
       "\n",
       "mpl.figure.prototype._init_toolbar = function() {\n",
       "    var fig = this;\n",
       "\n",
       "    var nav_element = $('<div/>')\n",
       "    nav_element.attr('style', 'width: 100%');\n",
       "    this.root.append(nav_element);\n",
       "\n",
       "    // Define a callback function for later on.\n",
       "    function toolbar_event(event) {\n",
       "        return fig.toolbar_button_onclick(event['data']);\n",
       "    }\n",
       "    function toolbar_mouse_event(event) {\n",
       "        return fig.toolbar_button_onmouseover(event['data']);\n",
       "    }\n",
       "\n",
       "    for(var toolbar_ind in mpl.toolbar_items) {\n",
       "        var name = mpl.toolbar_items[toolbar_ind][0];\n",
       "        var tooltip = mpl.toolbar_items[toolbar_ind][1];\n",
       "        var image = mpl.toolbar_items[toolbar_ind][2];\n",
       "        var method_name = mpl.toolbar_items[toolbar_ind][3];\n",
       "\n",
       "        if (!name) {\n",
       "            // put a spacer in here.\n",
       "            continue;\n",
       "        }\n",
       "        var button = $('<button/>');\n",
       "        button.addClass('ui-button ui-widget ui-state-default ui-corner-all ' +\n",
       "                        'ui-button-icon-only');\n",
       "        button.attr('role', 'button');\n",
       "        button.attr('aria-disabled', 'false');\n",
       "        button.click(method_name, toolbar_event);\n",
       "        button.mouseover(tooltip, toolbar_mouse_event);\n",
       "\n",
       "        var icon_img = $('<span/>');\n",
       "        icon_img.addClass('ui-button-icon-primary ui-icon');\n",
       "        icon_img.addClass(image);\n",
       "        icon_img.addClass('ui-corner-all');\n",
       "\n",
       "        var tooltip_span = $('<span/>');\n",
       "        tooltip_span.addClass('ui-button-text');\n",
       "        tooltip_span.html(tooltip);\n",
       "\n",
       "        button.append(icon_img);\n",
       "        button.append(tooltip_span);\n",
       "\n",
       "        nav_element.append(button);\n",
       "    }\n",
       "\n",
       "    var fmt_picker_span = $('<span/>');\n",
       "\n",
       "    var fmt_picker = $('<select/>');\n",
       "    fmt_picker.addClass('mpl-toolbar-option ui-widget ui-widget-content');\n",
       "    fmt_picker_span.append(fmt_picker);\n",
       "    nav_element.append(fmt_picker_span);\n",
       "    this.format_dropdown = fmt_picker[0];\n",
       "\n",
       "    for (var ind in mpl.extensions) {\n",
       "        var fmt = mpl.extensions[ind];\n",
       "        var option = $(\n",
       "            '<option/>', {selected: fmt === mpl.default_extension}).html(fmt);\n",
       "        fmt_picker.append(option)\n",
       "    }\n",
       "\n",
       "    // Add hover states to the ui-buttons\n",
       "    $( \".ui-button\" ).hover(\n",
       "        function() { $(this).addClass(\"ui-state-hover\");},\n",
       "        function() { $(this).removeClass(\"ui-state-hover\");}\n",
       "    );\n",
       "\n",
       "    var status_bar = $('<span class=\"mpl-message\"/>');\n",
       "    nav_element.append(status_bar);\n",
       "    this.message = status_bar[0];\n",
       "}\n",
       "\n",
       "mpl.figure.prototype.request_resize = function(x_pixels, y_pixels) {\n",
       "    // Request matplotlib to resize the figure. Matplotlib will then trigger a resize in the client,\n",
       "    // which will in turn request a refresh of the image.\n",
       "    this.send_message('resize', {'width': x_pixels, 'height': y_pixels});\n",
       "}\n",
       "\n",
       "mpl.figure.prototype.send_message = function(type, properties) {\n",
       "    properties['type'] = type;\n",
       "    properties['figure_id'] = this.id;\n",
       "    this.ws.send(JSON.stringify(properties));\n",
       "}\n",
       "\n",
       "mpl.figure.prototype.send_draw_message = function() {\n",
       "    if (!this.waiting) {\n",
       "        this.waiting = true;\n",
       "        this.ws.send(JSON.stringify({type: \"draw\", figure_id: this.id}));\n",
       "    }\n",
       "}\n",
       "\n",
       "\n",
       "mpl.figure.prototype.handle_save = function(fig, msg) {\n",
       "    var format_dropdown = fig.format_dropdown;\n",
       "    var format = format_dropdown.options[format_dropdown.selectedIndex].value;\n",
       "    fig.ondownload(fig, format);\n",
       "}\n",
       "\n",
       "\n",
       "mpl.figure.prototype.handle_resize = function(fig, msg) {\n",
       "    var size = msg['size'];\n",
       "    if (size[0] != fig.canvas.width || size[1] != fig.canvas.height) {\n",
       "        fig._resize_canvas(size[0], size[1]);\n",
       "        fig.send_message(\"refresh\", {});\n",
       "    };\n",
       "}\n",
       "\n",
       "mpl.figure.prototype.handle_rubberband = function(fig, msg) {\n",
       "    var x0 = msg['x0'];\n",
       "    var y0 = fig.canvas.height - msg['y0'];\n",
       "    var x1 = msg['x1'];\n",
       "    var y1 = fig.canvas.height - msg['y1'];\n",
       "    x0 = Math.floor(x0) + 0.5;\n",
       "    y0 = Math.floor(y0) + 0.5;\n",
       "    x1 = Math.floor(x1) + 0.5;\n",
       "    y1 = Math.floor(y1) + 0.5;\n",
       "    var min_x = Math.min(x0, x1);\n",
       "    var min_y = Math.min(y0, y1);\n",
       "    var width = Math.abs(x1 - x0);\n",
       "    var height = Math.abs(y1 - y0);\n",
       "\n",
       "    fig.rubberband_context.clearRect(\n",
       "        0, 0, fig.canvas.width, fig.canvas.height);\n",
       "\n",
       "    fig.rubberband_context.strokeRect(min_x, min_y, width, height);\n",
       "}\n",
       "\n",
       "mpl.figure.prototype.handle_figure_label = function(fig, msg) {\n",
       "    // Updates the figure title.\n",
       "    fig.header.textContent = msg['label'];\n",
       "}\n",
       "\n",
       "mpl.figure.prototype.handle_cursor = function(fig, msg) {\n",
       "    var cursor = msg['cursor'];\n",
       "    switch(cursor)\n",
       "    {\n",
       "    case 0:\n",
       "        cursor = 'pointer';\n",
       "        break;\n",
       "    case 1:\n",
       "        cursor = 'default';\n",
       "        break;\n",
       "    case 2:\n",
       "        cursor = 'crosshair';\n",
       "        break;\n",
       "    case 3:\n",
       "        cursor = 'move';\n",
       "        break;\n",
       "    }\n",
       "    fig.rubberband_canvas.style.cursor = cursor;\n",
       "}\n",
       "\n",
       "mpl.figure.prototype.handle_message = function(fig, msg) {\n",
       "    fig.message.textContent = msg['message'];\n",
       "}\n",
       "\n",
       "mpl.figure.prototype.handle_draw = function(fig, msg) {\n",
       "    // Request the server to send over a new figure.\n",
       "    fig.send_draw_message();\n",
       "}\n",
       "\n",
       "mpl.figure.prototype.handle_image_mode = function(fig, msg) {\n",
       "    fig.image_mode = msg['mode'];\n",
       "}\n",
       "\n",
       "mpl.figure.prototype.updated_canvas_event = function() {\n",
       "    // Called whenever the canvas gets updated.\n",
       "    this.send_message(\"ack\", {});\n",
       "}\n",
       "\n",
       "// A function to construct a web socket function for onmessage handling.\n",
       "// Called in the figure constructor.\n",
       "mpl.figure.prototype._make_on_message_function = function(fig) {\n",
       "    return function socket_on_message(evt) {\n",
       "        if (evt.data instanceof Blob) {\n",
       "            /* FIXME: We get \"Resource interpreted as Image but\n",
       "             * transferred with MIME type text/plain:\" errors on\n",
       "             * Chrome.  But how to set the MIME type?  It doesn't seem\n",
       "             * to be part of the websocket stream */\n",
       "            evt.data.type = \"image/png\";\n",
       "\n",
       "            /* Free the memory for the previous frames */\n",
       "            if (fig.imageObj.src) {\n",
       "                (window.URL || window.webkitURL).revokeObjectURL(\n",
       "                    fig.imageObj.src);\n",
       "            }\n",
       "\n",
       "            fig.imageObj.src = (window.URL || window.webkitURL).createObjectURL(\n",
       "                evt.data);\n",
       "            fig.updated_canvas_event();\n",
       "            fig.waiting = false;\n",
       "            return;\n",
       "        }\n",
       "        else if (typeof evt.data === 'string' && evt.data.slice(0, 21) == \"data:image/png;base64\") {\n",
       "            fig.imageObj.src = evt.data;\n",
       "            fig.updated_canvas_event();\n",
       "            fig.waiting = false;\n",
       "            return;\n",
       "        }\n",
       "\n",
       "        var msg = JSON.parse(evt.data);\n",
       "        var msg_type = msg['type'];\n",
       "\n",
       "        // Call the  \"handle_{type}\" callback, which takes\n",
       "        // the figure and JSON message as its only arguments.\n",
       "        try {\n",
       "            var callback = fig[\"handle_\" + msg_type];\n",
       "        } catch (e) {\n",
       "            console.log(\"No handler for the '\" + msg_type + \"' message type: \", msg);\n",
       "            return;\n",
       "        }\n",
       "\n",
       "        if (callback) {\n",
       "            try {\n",
       "                // console.log(\"Handling '\" + msg_type + \"' message: \", msg);\n",
       "                callback(fig, msg);\n",
       "            } catch (e) {\n",
       "                console.log(\"Exception inside the 'handler_\" + msg_type + \"' callback:\", e, e.stack, msg);\n",
       "            }\n",
       "        }\n",
       "    };\n",
       "}\n",
       "\n",
       "// from http://stackoverflow.com/questions/1114465/getting-mouse-location-in-canvas\n",
       "mpl.findpos = function(e) {\n",
       "    //this section is from http://www.quirksmode.org/js/events_properties.html\n",
       "    var targ;\n",
       "    if (!e)\n",
       "        e = window.event;\n",
       "    if (e.target)\n",
       "        targ = e.target;\n",
       "    else if (e.srcElement)\n",
       "        targ = e.srcElement;\n",
       "    if (targ.nodeType == 3) // defeat Safari bug\n",
       "        targ = targ.parentNode;\n",
       "\n",
       "    // jQuery normalizes the pageX and pageY\n",
       "    // pageX,Y are the mouse positions relative to the document\n",
       "    // offset() returns the position of the element relative to the document\n",
       "    var x = e.pageX - $(targ).offset().left;\n",
       "    var y = e.pageY - $(targ).offset().top;\n",
       "\n",
       "    return {\"x\": x, \"y\": y};\n",
       "};\n",
       "\n",
       "/*\n",
       " * return a copy of an object with only non-object keys\n",
       " * we need this to avoid circular references\n",
       " * http://stackoverflow.com/a/24161582/3208463\n",
       " */\n",
       "function simpleKeys (original) {\n",
       "  return Object.keys(original).reduce(function (obj, key) {\n",
       "    if (typeof original[key] !== 'object')\n",
       "        obj[key] = original[key]\n",
       "    return obj;\n",
       "  }, {});\n",
       "}\n",
       "\n",
       "mpl.figure.prototype.mouse_event = function(event, name) {\n",
       "    var canvas_pos = mpl.findpos(event)\n",
       "\n",
       "    if (name === 'button_press')\n",
       "    {\n",
       "        this.canvas.focus();\n",
       "        this.canvas_div.focus();\n",
       "    }\n",
       "\n",
       "    var x = canvas_pos.x;\n",
       "    var y = canvas_pos.y;\n",
       "\n",
       "    this.send_message(name, {x: x, y: y, button: event.button,\n",
       "                             step: event.step,\n",
       "                             guiEvent: simpleKeys(event)});\n",
       "\n",
       "    /* This prevents the web browser from automatically changing to\n",
       "     * the text insertion cursor when the button is pressed.  We want\n",
       "     * to control all of the cursor setting manually through the\n",
       "     * 'cursor' event from matplotlib */\n",
       "    event.preventDefault();\n",
       "    return false;\n",
       "}\n",
       "\n",
       "mpl.figure.prototype._key_event_extra = function(event, name) {\n",
       "    // Handle any extra behaviour associated with a key event\n",
       "}\n",
       "\n",
       "mpl.figure.prototype.key_event = function(event, name) {\n",
       "\n",
       "    // Prevent repeat events\n",
       "    if (name == 'key_press')\n",
       "    {\n",
       "        if (event.which === this._key)\n",
       "            return;\n",
       "        else\n",
       "            this._key = event.which;\n",
       "    }\n",
       "    if (name == 'key_release')\n",
       "        this._key = null;\n",
       "\n",
       "    var value = '';\n",
       "    if (event.ctrlKey && event.which != 17)\n",
       "        value += \"ctrl+\";\n",
       "    if (event.altKey && event.which != 18)\n",
       "        value += \"alt+\";\n",
       "    if (event.shiftKey && event.which != 16)\n",
       "        value += \"shift+\";\n",
       "\n",
       "    value += 'k';\n",
       "    value += event.which.toString();\n",
       "\n",
       "    this._key_event_extra(event, name);\n",
       "\n",
       "    this.send_message(name, {key: value,\n",
       "                             guiEvent: simpleKeys(event)});\n",
       "    return false;\n",
       "}\n",
       "\n",
       "mpl.figure.prototype.toolbar_button_onclick = function(name) {\n",
       "    if (name == 'download') {\n",
       "        this.handle_save(this, null);\n",
       "    } else {\n",
       "        this.send_message(\"toolbar_button\", {name: name});\n",
       "    }\n",
       "};\n",
       "\n",
       "mpl.figure.prototype.toolbar_button_onmouseover = function(tooltip) {\n",
       "    this.message.textContent = tooltip;\n",
       "};\n",
       "mpl.toolbar_items = [[\"Home\", \"Reset original view\", \"fa fa-home icon-home\", \"home\"], [\"Back\", \"Back to  previous view\", \"fa fa-arrow-left icon-arrow-left\", \"back\"], [\"Forward\", \"Forward to next view\", \"fa fa-arrow-right icon-arrow-right\", \"forward\"], [\"\", \"\", \"\", \"\"], [\"Pan\", \"Pan axes with left mouse, zoom with right\", \"fa fa-arrows icon-move\", \"pan\"], [\"Zoom\", \"Zoom to rectangle\", \"fa fa-square-o icon-check-empty\", \"zoom\"], [\"\", \"\", \"\", \"\"], [\"Download\", \"Download plot\", \"fa fa-floppy-o icon-save\", \"download\"]];\n",
       "\n",
       "mpl.extensions = [\"eps\", \"jpeg\", \"pdf\", \"png\", \"ps\", \"raw\", \"svg\", \"tif\"];\n",
       "\n",
       "mpl.default_extension = \"png\";var comm_websocket_adapter = function(comm) {\n",
       "    // Create a \"websocket\"-like object which calls the given IPython comm\n",
       "    // object with the appropriate methods. Currently this is a non binary\n",
       "    // socket, so there is still some room for performance tuning.\n",
       "    var ws = {};\n",
       "\n",
       "    ws.close = function() {\n",
       "        comm.close()\n",
       "    };\n",
       "    ws.send = function(m) {\n",
       "        //console.log('sending', m);\n",
       "        comm.send(m);\n",
       "    };\n",
       "    // Register the callback with on_msg.\n",
       "    comm.on_msg(function(msg) {\n",
       "        //console.log('receiving', msg['content']['data'], msg);\n",
       "        // Pass the mpl event to the overriden (by mpl) onmessage function.\n",
       "        ws.onmessage(msg['content']['data'])\n",
       "    });\n",
       "    return ws;\n",
       "}\n",
       "\n",
       "mpl.mpl_figure_comm = function(comm, msg) {\n",
       "    // This is the function which gets called when the mpl process\n",
       "    // starts-up an IPython Comm through the \"matplotlib\" channel.\n",
       "\n",
       "    var id = msg.content.data.id;\n",
       "    // Get hold of the div created by the display call when the Comm\n",
       "    // socket was opened in Python.\n",
       "    var element = $(\"#\" + id);\n",
       "    var ws_proxy = comm_websocket_adapter(comm)\n",
       "\n",
       "    function ondownload(figure, format) {\n",
       "        window.open(figure.imageObj.src);\n",
       "    }\n",
       "\n",
       "    var fig = new mpl.figure(id, ws_proxy,\n",
       "                           ondownload,\n",
       "                           element.get(0));\n",
       "\n",
       "    // Call onopen now - mpl needs it, as it is assuming we've passed it a real\n",
       "    // web socket which is closed, not our websocket->open comm proxy.\n",
       "    ws_proxy.onopen();\n",
       "\n",
       "    fig.parent_element = element.get(0);\n",
       "    fig.cell_info = mpl.find_output_cell(\"<div id='\" + id + \"'></div>\");\n",
       "    if (!fig.cell_info) {\n",
       "        console.error(\"Failed to find cell for figure\", id, fig);\n",
       "        return;\n",
       "    }\n",
       "\n",
       "    var output_index = fig.cell_info[2]\n",
       "    var cell = fig.cell_info[0];\n",
       "\n",
       "};\n",
       "\n",
       "mpl.figure.prototype.handle_close = function(fig, msg) {\n",
       "    fig.root.unbind('remove')\n",
       "\n",
       "    // Update the output cell to use the data from the current canvas.\n",
       "    fig.push_to_output();\n",
       "    var dataURL = fig.canvas.toDataURL();\n",
       "    // Re-enable the keyboard manager in IPython - without this line, in FF,\n",
       "    // the notebook keyboard shortcuts fail.\n",
       "    IPython.keyboard_manager.enable()\n",
       "    $(fig.parent_element).html('<img src=\"' + dataURL + '\">');\n",
       "    fig.close_ws(fig, msg);\n",
       "}\n",
       "\n",
       "mpl.figure.prototype.close_ws = function(fig, msg){\n",
       "    fig.send_message('closing', msg);\n",
       "    // fig.ws.close()\n",
       "}\n",
       "\n",
       "mpl.figure.prototype.push_to_output = function(remove_interactive) {\n",
       "    // Turn the data on the canvas into data in the output cell.\n",
       "    var dataURL = this.canvas.toDataURL();\n",
       "    this.cell_info[1]['text/html'] = '<img src=\"' + dataURL + '\">';\n",
       "}\n",
       "\n",
       "mpl.figure.prototype.updated_canvas_event = function() {\n",
       "    // Tell IPython that the notebook contents must change.\n",
       "    IPython.notebook.set_dirty(true);\n",
       "    this.send_message(\"ack\", {});\n",
       "    var fig = this;\n",
       "    // Wait a second, then push the new image to the DOM so\n",
       "    // that it is saved nicely (might be nice to debounce this).\n",
       "    setTimeout(function () { fig.push_to_output() }, 1000);\n",
       "}\n",
       "\n",
       "mpl.figure.prototype._init_toolbar = function() {\n",
       "    var fig = this;\n",
       "\n",
       "    var nav_element = $('<div/>')\n",
       "    nav_element.attr('style', 'width: 100%');\n",
       "    this.root.append(nav_element);\n",
       "\n",
       "    // Define a callback function for later on.\n",
       "    function toolbar_event(event) {\n",
       "        return fig.toolbar_button_onclick(event['data']);\n",
       "    }\n",
       "    function toolbar_mouse_event(event) {\n",
       "        return fig.toolbar_button_onmouseover(event['data']);\n",
       "    }\n",
       "\n",
       "    for(var toolbar_ind in mpl.toolbar_items){\n",
       "        var name = mpl.toolbar_items[toolbar_ind][0];\n",
       "        var tooltip = mpl.toolbar_items[toolbar_ind][1];\n",
       "        var image = mpl.toolbar_items[toolbar_ind][2];\n",
       "        var method_name = mpl.toolbar_items[toolbar_ind][3];\n",
       "\n",
       "        if (!name) { continue; };\n",
       "\n",
       "        var button = $('<button class=\"btn btn-default\" href=\"#\" title=\"' + name + '\"><i class=\"fa ' + image + ' fa-lg\"></i></button>');\n",
       "        button.click(method_name, toolbar_event);\n",
       "        button.mouseover(tooltip, toolbar_mouse_event);\n",
       "        nav_element.append(button);\n",
       "    }\n",
       "\n",
       "    // Add the status bar.\n",
       "    var status_bar = $('<span class=\"mpl-message\" style=\"text-align:right; float: right;\"/>');\n",
       "    nav_element.append(status_bar);\n",
       "    this.message = status_bar[0];\n",
       "\n",
       "    // Add the close button to the window.\n",
       "    var buttongrp = $('<div class=\"btn-group inline pull-right\"></div>');\n",
       "    var button = $('<button class=\"btn btn-mini btn-primary\" href=\"#\" title=\"Stop Interaction\"><i class=\"fa fa-power-off icon-remove icon-large\"></i></button>');\n",
       "    button.click(function (evt) { fig.handle_close(fig, {}); } );\n",
       "    button.mouseover('Stop Interaction', toolbar_mouse_event);\n",
       "    buttongrp.append(button);\n",
       "    var titlebar = this.root.find($('.ui-dialog-titlebar'));\n",
       "    titlebar.prepend(buttongrp);\n",
       "}\n",
       "\n",
       "mpl.figure.prototype._root_extra_style = function(el){\n",
       "    var fig = this\n",
       "    el.on(\"remove\", function(){\n",
       "\tfig.close_ws(fig, {});\n",
       "    });\n",
       "}\n",
       "\n",
       "mpl.figure.prototype._canvas_extra_style = function(el){\n",
       "    // this is important to make the div 'focusable\n",
       "    el.attr('tabindex', 0)\n",
       "    // reach out to IPython and tell the keyboard manager to turn it's self\n",
       "    // off when our div gets focus\n",
       "\n",
       "    // location in version 3\n",
       "    if (IPython.notebook.keyboard_manager) {\n",
       "        IPython.notebook.keyboard_manager.register_events(el);\n",
       "    }\n",
       "    else {\n",
       "        // location in version 2\n",
       "        IPython.keyboard_manager.register_events(el);\n",
       "    }\n",
       "\n",
       "}\n",
       "\n",
       "mpl.figure.prototype._key_event_extra = function(event, name) {\n",
       "    var manager = IPython.notebook.keyboard_manager;\n",
       "    if (!manager)\n",
       "        manager = IPython.keyboard_manager;\n",
       "\n",
       "    // Check for shift+enter\n",
       "    if (event.shiftKey && event.which == 13) {\n",
       "        this.canvas_div.blur();\n",
       "        // select the cell after this one\n",
       "        var index = IPython.notebook.find_cell_index(this.cell_info[0]);\n",
       "        IPython.notebook.select(index + 1);\n",
       "    }\n",
       "}\n",
       "\n",
       "mpl.figure.prototype.handle_save = function(fig, msg) {\n",
       "    fig.ondownload(fig, null);\n",
       "}\n",
       "\n",
       "\n",
       "mpl.find_output_cell = function(html_output) {\n",
       "    // Return the cell and output element which can be found *uniquely* in the notebook.\n",
       "    // Note - this is a bit hacky, but it is done because the \"notebook_saving.Notebook\"\n",
       "    // IPython event is triggered only after the cells have been serialised, which for\n",
       "    // our purposes (turning an active figure into a static one), is too late.\n",
       "    var cells = IPython.notebook.get_cells();\n",
       "    var ncells = cells.length;\n",
       "    for (var i=0; i<ncells; i++) {\n",
       "        var cell = cells[i];\n",
       "        if (cell.cell_type === 'code'){\n",
       "            for (var j=0; j<cell.output_area.outputs.length; j++) {\n",
       "                var data = cell.output_area.outputs[j];\n",
       "                if (data.data) {\n",
       "                    // IPython >= 3 moved mimebundle to data attribute of output\n",
       "                    data = data.data;\n",
       "                }\n",
       "                if (data['text/html'] == html_output) {\n",
       "                    return [cell, data, j];\n",
       "                }\n",
       "            }\n",
       "        }\n",
       "    }\n",
       "}\n",
       "\n",
       "// Register the function which deals with the matplotlib target/channel.\n",
       "// The kernel may be null if the page has been refreshed.\n",
       "if (IPython.notebook.kernel != null) {\n",
       "    IPython.notebook.kernel.comm_manager.register_target('matplotlib', mpl.mpl_figure_comm);\n",
       "}\n"
      ],
      "text/plain": [
       "<IPython.core.display.Javascript object>"
      ]
     },
     "metadata": {},
     "output_type": "display_data"
    },
    {
     "data": {
      "text/html": [
       "<img src=\"data:image/png;base64,iVBORw0KGgoAAAANSUhEUgAAAoAAAAHgCAYAAAA10dzkAAAgAElEQVR4XuxdCdgXVbl/sVtqsomWuOXyZFmp11BxVyRxQUMzSxT3FANNU1Hc0OuKC+aSmrlkuKXoJSWDzIVcwS3XwMxMxaviiktlWXmf3/C9cJhvljPnnDlzzn/eeR4e4PvmbL/zzpnfvGsPkksQEAQEAUFAEBAEBAFBoFUI9GjVamWxgoAgIAgIAoKAICAICAIkBFCEQBAQBAQBQUAQEAQEgZYhIASwZRsuyxUEBAFBQBAQBAQBQUAIoMiAICAICAKCgCAgCAgCLUNACGDLNlyWKwgIAoKAICAICAKCgBBAkQFBQBAQBAQBQUAQEARahoAQwJZtuCxXEBAEBAFBQBAQBAQBIYAiA4KAICAICAKCgCAgCLQMASGALdtwWa4gIAgIAoKAICAICAJCAEUGBAFBQBAQBAQBQUAQaBkCQgBbtuGyXEFAEBAEBAFBQBAQBIQAigwIAoKAICAICAKCgCDQMgSEALZsw2W5goAgIAgIAoKAICAICAEUGRAEBAFBQBAQBAQBQaBlCAgBbNmGy3IFAUFAEBAEBAFBQBAQAigyIAgIAoKAICAICAKCQMsQEALYsg2X5QoCgoAgIAgIAoKAICAEUGRAEBAEBAFBQBAQBASBliEgBLBlGy7LFQQEAUFAEBAEBAFBQAigyIAgIAgIAoKAICAICAItQ0AIYMs2XJYrCAgCgoAgIAgIAoKAEECRAUFAEBAEBAFBQBAQBFqGgBDAlm24LFcQEAQEAUFAEBAEBAEhgCIDgoAgIAgIAoKAICAItAwBIYAt23BZriAgCAgCgoAgIAgIAkIARQYEAUFAEBAEBAFBQBBoGQJCAFu24bJcQUAQEAQEAUFAEBAEhACKDAgCgoAgIAgIAoKAINAyBIQAtmzDZbmCgCAgCAgCgoAgIAgIARQZEAQEAUFAEBAEBAFBoGUICAFs2YbLcgUBQUAQEAQEAUFAEBACKDIgCAgCgoAgIAgIAoJAyxAQAtiyDZflCgKCgCAgCAgCgoAgIARQZEAQEAQEAUFAEBAEBIGWISAEsGUbLssVBAQBQUAQEAQEAUFACKDIgCAgCAgCgoAgIAgIAi1DQAhgyzZclisICAKCgCAgCAgCgoAQQJEBQUAQEAQEAUFAEBAEWoaAEMCWbbgsVxAQBAQBQUAQEAQEASGAIgOCgCAgCAgCgoAgIAi0DAEhgC3bcFmuICAICAKCgCAgCAgCQgBFBgQBQUAQEAQEAUFAEGgZAkIAW7bhslxBQBAQBAQBQUAQEASEAIoMCAKCgCAgCAgCgoAg0DIEhAC2bMNluYKAICAICAKCgCAgCAgBFBkQBAQBQUAQEAQEAUGgZQgIAWzZhstyBQFBQBAQBAQBQUAQEAJoKQOffPLJJ5ZdSHNBQBAQBAQBQUAQ8IxAjx49Ws2BWr14F7ImBNAFitKHICAICAKCgCDgFwEhgH7x7rjRhAB23JbKggQBQUAQEARagIAQwBZscp1LFAJYJ7rStyAgCAgCgoAgUA8CQgDrwbU1vQoBbM1Wy0IFAUFAEBAEOggBIYAdtJlNLEUIYBOoy5iCgCAgCAgCgoAdAkIA7fBrfWshgK0XAQFAEBAEBAFBIEIEhABGuGkhTVkIYEi7IXMRBAQBQUAQEAT0EBACqIeT3JWDgBBAEQ1BQBAQBAQBQSA+BIQAxrdnQc1YCGBQ2yGTEQQEAUFAEBAEtBAQAqgFk9yUh4AQQJENQUAQEAQEAUEgPgSEAMa3Z0HNWAhgUNshkxEEBAFBQBAQBLQQEAKoBZPcJBpAkQFBQBAQBAQBQaBzEBAC2Dl72chKRAPYCOwyqCAgCAgCgoAgYIWAEEAr+KSxEECRAUFAEBAEBAFBID4EhADGt2dBzVgIYFDbIZMRBAQBQUAQEAS0EBACqAWT3JSHgBBAkQ1BQBAQBAQBQSA+BIQAxrdnQc1YCGBQ2yGTEQQEAUFAEBAEtBAQAqgFk9wkGkCRAUFAEBAEBAFBoHMQEALYOXvZyEpEA9gI7DKoICAICAKCgCBghYAQQCv4pLEQQJEBQUAQEAQEAUEgPgSEAMa3Z0HNWAhgUNshkxEEBAFBQBAQBLQQEAKoBZPclIeAEECRDUFAEBAEBAFBID4EhADGt2dBzVgIYFDbIZMRBAQBQUAQEAS0EBACqAWT3CQaQJEBQUAQ6AQEPvnkE8Kf//znP8lyPvWpT1GPHj06YWmyBkGgEgJCACvBJTenERANoMiEICAIhIoAkz0mfCB9/LOPP/6Y/vWvf9Hiiy9OSyyxREIE5RIE2oSAEMA27XYNaxUCWAOo0qUgIAhURqCI7KmdsbYP5A8kEBd+BiKIP4sttljlsaWBIBAjAkIAY9y1gOYsBDCgzZCpCAItQaAq2csy8YL84c9//dd/JVrBf//73wn5gzbwM5/5jJiFWyJLbV6mEMA2776DtQsBdACidCEICAK5CKg+e/j3P//5z8R/D8SNL5XgFfnzMdFj7R/+D60ft0G/+ANz8JJLLpmMIf6BIpydioAQwE7dWU/rEgLoCWgZRhBoAQIq2WN/PQ7W4OV/9NFHCUnr2bNnISLoC0QPmj3+G/8GoePAD/wcFzR+TPbYXxB/4+fiH9gCwWvpEoUAtnTjXS1bCKArJKUfQaA9CIBc4WKNm0q6VBRY+6Zq4f72t78lJtulllpqwa3oB+Qui+yB2IHw8d8w86I/aBLZBxD/Zj9ADgZhbSEGAQkU/8D2yGdbVioEsC07XdM6hQDWBKx0Kwh0CAJpsqdG4paRvSwI/vrXvy4wATPhQ58gcCrZY41engkXpA8aQPYBBBnEz/B/aP44GISJIPphIihm4Q4RzpYvQwhgywXAdvlCAG0RlPaCQOcg4CI4Q0UDxC5txmWT8Kc//elFCF/V6N1//OMficZQ9SVE30wM0b8aDKL6B4II4vdCBDtHdtu4EiGAbdx1h2sWAugQTOlKEIgIAZdkj03AqgkXxA8/B7FTNXsgbiBeqgnYBLYsAsj9YB74PfsBqv6BPFcQQBBBlUCazEPaCAJNISAEsCnkO2RcIYAdspGyDEGgAAFfZA/+d6q/XlYULkzAIICf/exnrfYMBI8jfrM6YtMvE04OFMG9HGACkgoiiojhqhpIq8lLY0HAAQJCAB2A2OYuhAC2efdl7Z2IQB1kL23GxRhpoqdbks0XAeS9xVzZPxBz5GAQrAnmYjYTi39gJz4Nnb0mIYCdvb+1r04IYO0QywCCQG0IpHPssZ+bOmDVHHtpMy76MiV7WQt3RQBB3jBX3RJwaf9AaPxADKGJlETStYmodFwjAkIAawS3DV0LAWzDLssaOwGBrBx7yKkHggd/NlxZaVey1q4mVFYJH+5Np13R1ezpYuyKAJaZgPPmg/UyeWRTdDqRNDCAWdj12nUxkvsEAR0EhADqoCT35CIgBFCEQxAIC4EqOfZAprjqRd4q8sgeJ1RWCR/n2KsTkaYJINYGTEAgYQZW8wfi35JIus7dl75dIiAE0CWaLexLCGALN12WHAwCtjn2Pvzww0UIYFn1DJC9dEJl32CEQACxZrWWMDSCINLwB0wnkmaCKImkfUuKjFeGgBDAMoTk94UICAEUAREE/CDgMjgDM4ZPGwggLmjuoM3KSqgMQuNDs6eLYpq06rZL32dqAuZ+QACBGUy92BuuLFKUSBr3qrkFTecu7QQBFwgIAXSBYov7EALY4s2XpdeGQB1kLy+hMsgdtFMcqBF6OhNXBBD+jxyNbLKRKgHk9iDQnF8QRE9NFq0mkgYRzEpxYzIPaSMImCIgBNAUOWmXICAEUARBELBDwCXZ476yyF46oTII39///ncnOfXsEKjWOhQCyIEgIHPpi1PEYD+YXKf9A0EOOVCkGgJytyDgBgEhgG5wbG0vQgBbu/WycAMEXJM9aJV0qmewGTc9ZVf+dAZQGDcJiQACf+T/y7rYnxJEUQ0U6fpwTsztTBDRR+iaV+MNk4bBIiAEMNitiWNiQgDj2CeZpX8EXOfYy6qLyybMsuoZeasXAjg/IbXJBWJXRAC5zzL/QK5tLImkTXZB2tggIATQBj1pKyZgkQFBoCstCKf/YM0Ov9gZoCo59pjsqaZc9OMyoTL6azMBhPmbMTURYl0CyH2riaTz/AOhBYRZWPUdNJmbtBEEdBAQAqiDktyTi4BoAEU42oRAXo49OP6zOQ94VCF7MOFmVc+oO6FyrATwgw8+SAIosnzvqsiiLQHkPc8zAefNBXvNbbm+MPsH8kcErw9/yyUI1IWAEMC6kG1Jv0IAW7LRLVxmlRx7IBPQ8PTs2bPoY6kb0QMZwKWSPfzbV9qVGDWAIIDQkFUlXumNQRQwLlPfO1MCiDF1/QNBELFOUzN1Cx9bWXIFBIQAVgBLbu2OgBBAkYpOQMA2OAMEEGSOCaBOQmU17Ypab9cnnkIA7Qgg9gpRvqYX5ATpZGBOLsofiDEkkbQpytIuDwEhgCIbVggIAbSCTxo3gIAt2UtPGZq/v/3tbwkBBKmLJaEy1iEEsFkCyLKk+gdCu6kmi+ZSfLgX2kD8aeqDoYHHVYasEQEhgDWC24auhQC2YZfjXWMdZC/tr8fVM/gFzZo9vKRDf1G3mQByDkQbE7CtBjD9ZOX5BzJZZy2hJJKO90wKaeZCAEPajQjnIgQwwk3r0CnXQfbyEiqno3G5DFivXr2iQlcIYA9jH0D4EHJ+P5ebzho/+Biifw4UwV7BDMwBI+If6BL1dvYlBLCd++5s1UIAnUEpHVVAoI4cezYJlUEG4MslBLDCJhre6ioIxFYDWBcBZFhU/0B8cEA+uXJI2iws/oGGwtTyZkIAWy4AtssXAmiLoLQvQ0Ale65y7DHZYw2fbUJlIYBlu+ju9++//36iCbMJvsBs4LcJ86+pCRh7jrbQxNV5QTahDYSsggiqPoBMBKEVlETSde5CZ/YtBLAz99XbqoQAeoO64wfKy7HHP2cAquTYK6qekc6zZ+Ovhxc0/vTu3TuqfYrRBNw2AsgChRJ4IJyQ6bxE0kwQJZF0VI9hY5MVAtgY9J0xsBDAzthH36vIyrEHrRy0KmqC3ypkLy+hsuvqGVlYCQH0J0FtJoCf/exnEwIIecMFLSjkm/0CWUPOeRIlkbQ/uYxxJCGAMe5aQHMWAhjQZgQ6Fd3gDLy88HLv169f4UrY7JUO0EAjH9UzOo0AYj1LLbVUoNLTfVqhEED4EIJ81W0CVjWAIIDQAqb9AzEHThbN1US4Mg1Mw6Zm7miEQiZqhIAQQCPYpBEjIARQZEFFQJfsZWn2oMF77733aOmll16QPkUle0z4cB/apzV7vqpnZO04ooBBCPr06ROVQMAELARwMaM980kA8Rxgr5gAKudvkkQaAUhZiaS5HrX4Bxptccc3EgLY8Vtc7wKFANaLb8i925C9rHUxAYQJmM25TPbSmr0myV4nEUAEQmAfRQNY/UkDAYRcwtxa95VHAHlcNgvjecnzD8QzAyKoJpmue97Sf9gICAEMe3+Cn50QwOC3yMkEXZM9vLCyEipjsnihqtq90MieEEAnImXcCbTErNEy7qQrCpj950z6aYIAgqgXBStBSw6NIJt/Vf9ANg2DtHI6GZvAJxPMpE1YCAgBDGs/opuNEMDotqx0wi5z7GGwrEhc/AzETiV6+Dde7n379o3OZylWE3CMGkDICAiMre8d1t5pBBDPG9ehhkxyouos/0BJJF16FHb8DUIAO36L612gEMB68a27d9c59vjlowZo4Gcge1lmXHV9uO/dd9+NkgDCBws+WiCvMV1CAOdH0JpcwA7aah8mYK43XaYBTD9PRf6B7F7BORUlUMRECuJuIwQw7v1rfPZCABvfAq0J1JVjL6t6BrQNac2e7svlnXfeSQIpWGOhtbgAbhIC6G8TQtEAggBymba6V88EsGfPnpWHQlsQQXyUpf0DOchK/AMrw9oRDYQAdsQ2NrcIIYDNYZ83claOPdb0qW2q5NgrSqicjsY11ahgbiCASKYcW/4yIYD+ngMXBBDPAwgc5MxUXmMhgLwz+FhD/kCsnYkrrx3PN/7gWYZ53QYXf5IgI9kiIATQFsGWtxcC2KwApIMzQETY5GpK9ppMqAwTMOrpxkYAoV1BjVqksInpapMJOJ1SCM9KmghV2TufBBDPJIJOTDSAabMwB4oU+QfCrM2BIlUwkXvjQkAIYFz7FdxshQD62xKdSFz4ofFXfJlmg1+I6bq4WFFTCZVBAPGS8+FX5XLnhAC6RLO4Lx0NYF6ycDwTLNsggNB6pYmQ7kp8E0BUyXGVrkdNJJ2XPxDnAvwD07kHdfGR+8JHQAhg+HsU9AyFANazPTpkDyOnzbh5tV2LXoiqzx5eBk2mXZk3b17ykhMCWI9cpXvtBA1gmWxDppn0sWyzCRiyDyLIiZRBeMo+nBhDPGu434e2msskuiKAvAbVPxDPnJojEOZirjssiaT9PI++RxEC6BvxDhtPCKD9hpqSvayR8ULHoY0XkxqgEWL1jKz5gwBC42Cb4sN+V6r1IBrAaniZ3o1nBTIC+eaI87Rsp8le1lhpH8CiRMp5cwUBBDHyEbAE+QIhc00AeW3AEIEiTPiAIf6PC8SQ0zbBLIz/65Jk032Wdn4QEALoB+eOHUUIYLWtzSJ7XK6Je1IP17KDNp1QmX0AVVOXzgux2irqu1vHvFff6OY9cxWTsjrG5iPU0zJkDWDaRYE/aIAESJeaMLyq1jovCISJFp6fsgjfTiKAwJTxBtHkcwc4M9lOJ5L2ofmsR+qlV+VdY5YDqUMgbPXiXeyhEMB8FF3m2MMoedUz1ITKeEliXARSxHi5qvLge+1CAO0QZ3IBAqbmkESvqj8q/v3+++9b+4kWRQEX+cepq/RNAKGRg3a87ktdP4ggtH6cxon3iTWD6u/qnpf07x4B0QC6x7RVPQoBnP/lzAQNJI0PSf55WrNXptXjvtQXIQhGunqGqtnjMeAoDi1grAQQL3dOTBvTgyQEUH+3VLKnBiCxZk/12cuq1OHCT7SIAPJKivLn4Z4PP/zQW6QsR+76IIC8fkQd816l/QNZW4izTPwD9WU/tDuFAIa2I5HNp40EkA9Fzp3Fmj5166rm2MtKqKxTPSMtLjDf4A9y6cV4gQByiaqY5g9ZADFBGhgdgh/K2uo2AfOzko40x885fyR/yOiWZfNFAHmP1Px5+DjhefokgByo4psA8h7hTAEOkkg6lCfXzTyEALrBsbW9tJEAssN0Vc1eluaDTbbp6hmmiVhxUEMLiGoaMV7IpQdtA7QKMV0xE0DM3Ta/HPZKh+ypScNNibILAog1Q8OlG23OAScww+LDDEQQ5NlXihQQQGgBYXL1dQEfnEOMEWshgYVKhNliIYmkfe2Mu3GEALrDspU9tZkAFpU3y/JpUsleOs+e6cswLXR4QeHgjpUAQqvCeQxjeqBiJYCQFcilCQHk6jDpus/ptEK6mj3d/XaRK7IqAeS54bnm+rr4ma9kyU0QwKxax0yE8aGJfYVGkKOgVdcX1uL7iJDWlRu5rzsCQgBFKqwQEAK4MHoubcYFsKZmLtNNibUkGa9XCKDpzpu10yWA6VKAIH1sxk3LuKuPmbwVuagWY0oAeU5cmQP/51yAda4bpBNj+tQAFiW6VolwViJpTs3D/ry6tcDNpFhamSIgBNAUOWmXINBGAoiXB0yVKuEDFk1Vz1BFMdZ8dLyGvETWoT9ueCGCmPTt23dBxGToc8b8sghgVt1nDkBSAzRM3RRscQmBAGK/IavQdOGjy7SaiC4WnKPPp2uETqWTovyJaqAIiKuaZFp33XJfvQgIAawX347vva0EEOlKVA1f1TxkdQkGCCACKWLLRycEsC6JKO4XL3nIDPy82JSrkj1Vu1enhqvK6kMigPABBC4ggSBpaW1YlXUV3dsEAaxS6UT1D0zXV+ZgOcgSCKwkknYlFfb9CAG0x7DVPbSVAMIHJkSzBqcjiS0alR+iuqNS63pYY9AA5uWRBCbsy5WVWqguzEz7dUUAESxlmsyYNYCozMHEuCxtjOl60Q7nDcb0qQGsmudQDZRJa0RV/0AO8jLF3gZHabsoAkIARSKsEGgjAcRhhpcHDrlQtCK8ibEGI8ROADH/d955Jwm+CcHxnV/GaoBGVh5JaK5cRQFbHSQVGrsigFWigNPTyyKAfE86WtYF0WmCAJqmuSnzD+RcqfAPBKEN8UO6gjhGfasQwKi3r/nJCwEMq5hMDJqoIqnVDUpoXvK7z6ApAshkT821h5cslwNUfVPTL9sY8Q6dAEIysCdsFuZyajZEBwQQF0iTrwsE0CbNjaoRzUokzSUwJZG0rx3tPo4QwOaw74iRhQAKAXQpyDESEl6/DwLIjvVqyTSOuEyXTNMhHDHi7QJnYAYtvm4ewLSMg7zAXUE1AWc9B9gvkDf2szQNhIiRADIeaiLtPP9AyCoCRcQ/0OVpWt6XEMByjOSOAgTaSAABB14euEIzAWNOLl6QTQl9zKXsXOOukj014pw1e+kADRNZFAL4aSNR1yWAOiRIZwLscuJLA8gmbhsNoLquMv9A9hHERwyIoAuzuQ6ubb9HCGDbJcBy/UIAw9IAYjtdmMgsxcK4ecwE0Ab3IrKXzrPnMuJcCKAdAaySQLuIBJU9MHgusO/QoPm4inwcbcYvMo3z7/CxA80qTMMh+NParDf0tkIAQ9+hwOfXVgLITtkmWpe6t9RFqay655jXf8y1jHUJIJO9dH1cyJJaKg1aEJdkLwvzNhNAyJqppok1gFUIIOOfDpKAVq/sHOkUAsgY5PkHcs1jNpVLIul6T2IhgPXi2/G9CwEMTwMoBLCZxy6LALJpS/XZw79xpZMq1032hAAuRID90poggCoJAgnFXEB4ivzfQNS59JoP6a5q4jadE9dVx3jAgHMGwgzMH0p4LqANNPWfNJ1bG9oJAWzDLte4xjYTQE6rUSO8Rl0jSTVn3jfqoMFGMdcyBgGEzxQuNf0Kkz3VlNsE2RMC6I4Acik4Ew1geh8gKyCC0AJykET6nqYIoIv1lR0nTPQ40AU48HOEtmoiafYPLNOYlo0pv5+PgBBAkQQrBNpKALk2p06kpRXABo1RCYRNJwbNG20SCwFUNXuqKRfg+a7/bLNhsZmAOc2Rbb5FWw0gRxHDV83FpfrGZVUTwT7h56ZRy1Xn6JLg6o4NDLBOEL506hw1kTRIsvgH6qJafJ8QQDc4traXthJA+Krgyz1EAog6xZxtPzbBBK6oQICauqFc/PJJ++zh5yrZ47Qgvhz1XeCDFy7kuFevXi66q70PV3kuQyOADFxeNZEmCCD8Dl0RXF3BUH2rcRZk5Q/E3uHi/IEhnsG66236PiGATe9A5OMLAVwsuB0UAmi+JTpkTw3UUE1RMZreY4u6dkUA2exqqlFzrQFMS6yaOw/afBAj9hM0l279lnWvL28marobkOE8H0k2G+P5k0TS+vuavlMIoDl20nJ+xvtP2ghEyBpAZPAHSYG/TGwXXswgsKhl7OPCSyYdoMGavbQpt8zvSAhg/TvmkgDC3cA0CIQJZJ0aMjVtDP4NAuhLu+xjfVnSkhXtnC6th+dSrb/MJmMQQUkkXe0ZFAJYDS+5O4VAWwkgDiWQwBDNDzChph2pYxHcOgkgkz3VlJsme0z6ysheFp5CAOuXsjYRQEaTc/Lh/2mTaF2IM+lSgzHqGkvtNy/YhckwNIIcDc05AvE71tyz64spsfexxpDGEAIY0m5EOJe2EkBOXxAqAYQo1amdqEtUgSuIVL9+/ayGSJM99MtR2+n0KyZkTwig1fYYNw6JAEKD6Isg4aMO5IblOF1SzRjQnIacj8/X+ngaZb6O6RyKwIHPYDVQBGZzaARDPJ9d75VNf0IAbdCTtq01AYdMABGMgMMwZgIIE7AuMQOxSwdoqGQvXTKtrsc2xujrNvsA2pqAfRNAJjTsH4jnA0SnjmoZ7OLi240EZxeIbplvZpl/IH6PS/wDi087IYB1vQ1a0q9oAMMLAokttYf6qODgRiLrPAKokj0mfUz2skqm+XwMO4EAgtS8/fbbtMwyy3jzN6uyR2XyodsXmzhNTYW+TaTQAKqpT8rSxujikHdfkwQwLxdi1lzVYJm0VpTzB0oi6XxpEAJo+6S0vH1bCSB/gYZoYohNq5NHAPFzNaEy/h0K2ct67GMmgNAWH3PaMTT191PpwyU+pJ4f9aShA4bSmSecGZQZLRQC6NtEisAuaOPS2r68tDG2ryXOc9qEBrAKAcQ61WCZLK0oE0GQfcZQ17pgi2Po7YUAhr5Dgc9PCGB4GsAY6+nyIQ6SBw0miDUObhzUWSXTQnwsQAA5SW2I88uaE38snHreqXTZ3Mvoo5U/WnDbEnOWoJHLjaSzTzw7mOUIAfxU5l6kI2VNNZvcOQggsIbW0eeV1nRWGVvXP1ASSS9EVQhgFQmTe7shIARQCGDVx4JzeKnpV2DKYbIH7Qo0UvADClHDmrfeGPMvggDipbvl97ak5zd6vtvS1pixBj1202PBmINDIoCQX18aMmgAEZBR9DyoZuF0JY2qzygnZI6JAPIaVa1oXiJp1hTChzKmM6bqPpbdLwSwDCH5fSECbSWAOGw5aWlo5oSQyqmpZI999lSylw7QAJbvvPMO2Zb6auKxjZUAzpkzh4aMG0Kvr/t6N9j6P9GfZp4/k/r3798EpN3GdEUA2YRrqinz6SPHaWDKCCCDhftB4EBQTdPGcF1eECSflw7R1Z1PkX+gmkia66aHdo7rrtPmPiGANuhJ29ZGAYdMAJsqp1ZE9rICNPIOXCGA/g6WUg3gzDXosUmdpwHsZALI0lNEgMokrAkCWJXolq0Bv9f1D+TE+fggaBMRFAKoI0VyTy4CogHsEdyBgZcbvqTrrKbBZC+dfgWHp1oqDQcqTCxVDtV33303qU1rqp1p6nGNsQJLm3wAOU8cp3CCNhEariqyybLlM0iCiRHcIqrOtWM2GksAACAASURBVIwA5T0rakk2X8+TzTrL5lhkHuffQWMKjLOCbcr6j/X3QgBj3blA5t1mAshfyVUP5bq3znU1DX5xpkumYR0gaap2ryrZy8ICBLBnz56lucDqxrFq/zETQI4CvuHBG2je4vNolR6r0PYDtg8uCrhKovCiyi+QU8gzLpDAqh8bsRBA1SyMOePjEGstI75ZJdmqPg9V76+TAPJc8vwDOYgGuGAebUkkLQSwqpTK/Ysg0FYCCBBwSOIKjQBWeUmmxdk32ct6nJAHkINAYnrcYiWAIAa9e/dOoL780cvpxkdvpKn7Tw0m8EOVgTzZVqPI0/khsyq/gAhh3Rw5invUqhJlcuczShakBQmSTTSA6XUUJVBW780ryVaGi83vXa6zbB6sBcbfTPrwb2j/VP/ATk8kLQSwTFLk94UICAEMjwDqOsqrZE8N0MDP0z57agH2uh8JEEA4vPsqfO9qPTHWYMZHjEoAf/7kz2nS7Ek0dfhUV7A47YcJIAirmiNSDSxSCV9ehKfqA2iSSy9WAsibAexgwcDHa1bevbKSbE43taszJoDQ/vu4mOiplhy19J2aSBrEEAE1oX3s2+IkBNAWwZa3bzMB5FQJoR0KTAD79u3brU5m2mdPJXuq716Ta0ItYI7Mi+nxipEApnNGggDeOOtGmrb7tCCgT2ukmfRhckz02A2hivtBVhAIB02g77ISa00QQNfESPWLS2tAmyCAwB8fJL5LWHJAH8ZPp8/B71gGOZF0VXeBIB6knEkIAQx5dyKYW9sJIFemCGmrmADia1YtnRYi2cvCDQSQTS8h4Vo2l04ggBOfmkg3/OGGxggg++2p/qaq3ILkgZxUqRWdtW95UcBFpEjtx2eePBATrNk1AeT1ZGlAMZ5OTd6yZ6LK75sigJgj9pPPcshGVv5A/B4XfqeW5auyxtDuFQIY2o5ENp82E0B2BG86kaj60mQNH15kmFdaS9KkZk9XtGMsqYa1dQIBvPqpq+n6P1xPv9n9N7rbZXyf+nHCmj38DFqYtAsCy62Nf6s6UQ6IwMs86yrzlfOZJqVuAsjrV9PG4GcwDefhY7zpBQ1911dOE3r8H5rfor3vNP9AIYB1SHKL+hQC+G+vmeSLIhtVEy6SEsNPKkZzRYwl1fDIw1EfLwjfJiyb4yZtAgYBvO6Z6+j2PW636bZbWzVHJGv3WOOikr2yPGxoC/no16+f1fxAANFX2fOh+sqpZmHfBNCXaZSDabA+fEBC0+XrA7dJApiV9iZdXk/1g2Z5ZoxAlmP4uE4/NEIArY4RadxmAsjVAOo6IPM0JKpmj1+e6cMn1lQqeKJirKjRKQTwmqevIfz57R6/NT7cinJEZqUNqjKQqxRHugQQc0ubhUEE0Z41RlXmb3JvE6ZRjmjH2KbVRKqulc3yaiBG1T5M789Le6PmUcS5C6KHM5cvDhSJNZG0EEBTiZF2CQJCAP/l5Au5jOyp2j0dwhlrKhUmgOxwHdNj1gkawGufvpaufvpqbQLIDvJqcBHn10unX6kSpJG3764IIDRcmHOZBlCdh2oaZG2Qj1q5rIX0qVmGOwPWhg9L9o/jaOG6NF0+y+ul5ass6IXTBXEeRTVlED8D+Bs/j8k/UAhgTG+YAOfaZgKIgxkHgg4hU7euKGdZVsk0k22PNZIWa40xnx5rAEES6nLWN5GDsjZpEzAIIAJB7hhxR2bTIhcElfDVlTaoSQLIgGAObDL08bJvwjSKZ5ArYqjpUkD+yiKky2Qu7/c+k2un54CPN52gl6KUQYzTpEmTaI011qDBgwebQuGtnRBAb1B35kBCAIsJIJM9VUOS9n1i0leVSBZJVKyBFFhTjMEUmDe0CNjnmAkg/P+uevIqunPEnQvqqKr59lh2s5Ir+zjhXBJADjgxmTf2mjU/dZtImyKAMMWqZ5JuhLQJnmjjM7VOFgHMyoeYt5aiOssnnXQSDRo0iIYNG2YKhbd2QgC9Qd2ZA7WZAHI2eT4k02QPv08nqK2D7GVJVqyBFEIA/Z4TrAFE7WXI6nVPX0c/f/rndMtOt3STXTXfnt9ZLhwtFALIPmPApG4TqW/fOJxj+AhLE0DeBZPE2Try4jO1Tno+WG/VkoCqf6CqGT3iiCNoxIgRCQkM/RICGPoOBT6/thNAmEpYQ6KSvXR9XN/bGGsgBXCK0ZcuJg2gmlwZL1322cNLbPLzk+na2dfS7cNvT/zjXGqlXTwDrgggmxtVh/4q81ODBuo2kfr2jSsjgIxTOkq2ij9lFtY+I6uzCKCpOZ/9A99++206/fTTkw+nI488kgYMGFBFpBq5VwhgI7B3zqBtJoCccBkvTpNqBHVKQax+dDETQJACvKyhTQvpKkquDNnF7zFnkL0bZt1Alz9+Od29590hLWHBXIAvtDWocmNzsdbOlABm1cpVAwVcmoWbIoA6tYdVs3C6ikbV/clKxVK1D9P7cV7maTx1+3zzzTfp2GOPpSlTptB+++1HZ599dvDuIEIAdXdX7stEoO0EkPNlhSYesfrRxaRJS+95CAQwHU0OLQ1X0shKrpwOAkEVkMsev0wIYMkDnUUAuQn2ALLAUaFluQ3Lzg7fwRGYP7TwOgSQ5461sjbZlPzmpWIpw8f297oaT91xvvGNbyQfUy+99FKiEdx3332D06TzWoQA6u6q3CcEMIUAp4UIzUyGaYIA4vKZOsLVIxJjMAXW7psAFiVXTufby0vdkUUAf/r4T2n6ntNdbafTfkLSAALjvEoZ6fxx8C8zPSdiIIC8yUXBEWWCUESqy9ra/J4JYBXCWzTelltuSQ888AD9+te/pttuu42uuuqqYJNECwG0kRxp2+o8gDg4+Ks1NFGI1Y+uCSLlau/SZMpVv+inruTKmDNkuE+fPsl0b5x1I/3ksZ/Q7/b6ncvpO+srFgKoasbUsnMmFSN8R8eyBtA0mj0vOKJMCMpy8ZW1N/29icazaKyBAwfSrFmzgiV96tyFAJpKjbRLEGizCZgJILQrdSVHNRWzWLVoQgDnk72sfHvAxnVyZZALyAoTwEmzJtElj13S8QSQTbQ2PoBFGsD0c6tqxjiPnu6Z4ZsAuqo9nE6ejHUXrVk3F5/pmZjXzpbwpvsFAZw9e7bVNOFLCA0izMgg4tAqwqdwpZVWWtDvqquuSnPnzk200MAa2N5www00dOhQ7bGFAGpDJTdmISAE8KPkwdM9zH1JkW9zpMt11alJcznPdF+m81aDNDhfJPvt1Z1cOU0Ab5p9E1386MVCAEsExYSssGYMclIlYMJ3ehTXpefUCirQgIKwZJ2XwLRKLj5Xz7Lr9boggMcffzztuuuutPbaayf+mKNGjUq0io8//viCZa+22mp04oknJgEnppcQQFPkpJ1oALscnwFEiAQQL/fevXtHJ6mmRKrpherMu6gKDJM99t/zIVNZBPCiRy6ie/a+p2k4M8fHfPFCtI0CttUAmhBAXpAaMFFEiPh+3+lR6io9x/1CrrOInkkuPhdC6nK9kM+tttqKnnrqKRdTW9DHk08+maSVeeeddxZo60EAx40bR/vvv7/xWEIAjaGThkCgzRpArB8vkhAJoA4ZCVWC06Qk1Hmm55WedzpIIysxeNPJldNzvnn2zfTjR34cNAFUTdamsuGCANpqq9Jm4bw8ek0QQMgF0qK4voqqiXD9YVOzvOlcXVZaQS7APffck+6//37T6WS2g/n30ksvpRdeeGERDSCeBcx/hRVWoL322osOP/zwSvWthQA63ab2dSYEMEwCGCuJwhMU49xZq4MDGcSAk4ND26GmXwktuXIa6/999n/pgocvoHv3vjfIw8yVbGCfcJmSDVfmSh2zsO/8eC4JUZ4QZVUTAQHk+sM+hc9lpZUXX3yRxo4dS1OnTnW2hDvvvJO+9a1v0eTJk2nIkCEL+r3vvvsSrSAwmzlzZlJ9ZPjw4TR+/HjtsYUAakMlN2Yh0HYCyP45Psx1VSTQVbRklTFd3RvD3POSKwMDLinFZC802VD3KYsAnv/Q+XTfPve52k6n/XQaAWRwisqr+c6P55IQlW2+qgUFGW6KAIL0Ymzb6+mnn6YLL7wwCcZwcSGNDDR7EydOLK0tjHvgO/jKK69oDy0EUBsquVEIYHcEhAC6fy5CI4BFyZXVfHscPWnrn+Ye0fwe04Rq8rOT6byHzut4AsiuG6a5+eryV8syCzdBAF0RIh1ZVs3C2A+UZDPdF53x0ve4zLM4Y8YMuvnmm+myyy4zmcoiba677jo65JBD6KabbqKtt966tL+rr746qUTyf//3f6X38g1CALWhkhuFAGYTQBAEnweWjiS6qpmqM5bre5qcO5vkOBoXc+H9LUuuHBpx1dmXNAH85bO/pHMfOpfu38etD5POXHTucaUBDJUAAoO0nxzkD7IH1wIfl0tCpDtfTsaMdeKZM60mojueep/LNDu33357Yo6dMGGCyVQWtLnooouSAA9oADfddNNufT3//PP0+uuv0wYbbJDIxUMPPZSYgHfZZRc655xztMcWAqgNldwoBLA7AnxYhkYAQWDee+896tevX3SC64sAliVXVgmfzv52CgGcMHMCPbDvA0HKTUgEEJoqUx9CHXBVszDGwXg+3AlcEiKddeIeNRkz+9PiZxxoU+e6XQbZQPv38ssv00knnaS79Mz7cN6ABMOdhD8KgMG0adMSQvjII4/QgQceSH/5y18SmVhxxRVp7733pjFjxlSSSSGAVtskjdvuA8iF2nUIgk9pweE5b948Wnrppb28NFyurQ7yqpNcWY3INXnhdAIBvOWPt9A5M85xQgBBJBAVucwyyzjTXqUrl5jKHYJAsMemz63PiFWu6oP5chJp03XrtGuSAHL1Ef44w37XvW6XQTYo+4bzC9G4MVxCAGPYpYDnKATw48RkYfoiqWtrO4EA2pDXJpIr+9JcupSZtEbt1j/eSmfNOIse3PdB42GA/TGnHUNTfz+VPlziQ+r5UU8aOmAonXnCmdbPiav0RrYE8MMPP/QWsMA1crEh2C82B9d15vhOPI115VUfKUobYyygqYYufSwRALL88stb5eZztS6dfoQA6qAk9+Qi0HYCiJc+ND91HcamooeD8913300S5oY2t7I1VSWvanJlTr+i+u2p1TRMNHtl8+XfdwoBPPPBM2nGfjN0l93tvqNPOZoum3sZfbTy/BRJuJaYswSNXG4knX3i2cb9omEbCaCadFqtqsHR5q5l2qVJVHezy6pxFEVJ646Rdx8TbBc+lqeffjqtv/76SRWPGC4hgDHsUsBzFAIYJgGEyHDW+Dr9lOoQzSICmJdcGSRXzbeHf/smvp1AAKc8N4XGPzDemABCQzXgOwPo+Y2f7yYaa8xYgx676TErc7ArAghSBfkwlRFoAJEo2bR9lecmK+egWlXDtVm4CQKoW42DcxTiHGACXAXLrHtBAKvUdS4a75hjjqGddtqJttlmG9tpeWkvBNALzJ07SNsJIL5c8dLz8SKoKkXQAPbq1atSZviqY9RxP2sv+/Tpk3SPQ5//AO9QkyvX4btYB75qn93SwPxhMp1+x+k0Y/QMbaL2fx/8Hz3y6iP06GuP0n2z7qOHpz1Mn2z6Sbep93+iP808fyb179/feFlCABdClzaPghC50Aa6NInqbnSV5NPquqvUVM6bi6uk3uj/4IMPptGjR9NGG22ku/RG7xMC2Cj88Q8uBFAIoAsp5iANkCiY1FkLgb7T6VdAtl286FzMW+0jZgKIDwX47d008yZ689Nv0qo9Vs302/vgHx/QY68/lpA9Jn2vffgafXXZr9IGK2xA6y67Lp178rn08mYvd9cAzlyDHpskGsCqcleWc9C1WbgJAmiSfFqtqWyTNqYM3yr7hUhcmIG/+tWvVmnW2L1CABuDvjMGFgIYLgFEFPBSSy2VpBMI7eIgDTXfHg50NuOCACIiEHMPkexl4RkrAYQG5IwLz8j029u518602fDNFpC92W/NpuV7Lk8DVxhI6y+/fkL6BvQfQD0/03MBJDH4ANqYgDlnnS8TsE7EscuoWZc+cbrnDmdTMKnGoSbPNkkbo4Ov7jqQhw+RwCuttJJuk0bvEwLYKPzxD952Ashf3yGagJEHEAeqC+dmG0ktS66saviY7MXov8gE0CZ62QZnk7Z48cJVYPDIwfT8Rt399npM7UGbH7g5DVx54ALSt0KvFQqH4ijg6x+4nj5c8kNamVam7Qds7yQKGNopzBkaS5sLL31TP9EQCSBjgbnBrA+MTLViLn3idPfINvk0nzHop2raGJcR3ajYcccdd1Dv3r11l97ofUIAG4U//sGFAP4nMVeGSADff//9xFGak4n6kDY1SIO1e+y3p0bjcp3cvDnF6L9YNXrZx36UjQGi8MILL9C2J21Lr6/7erfbbfz2zrn/HHro+Yfo+j2ud/YRYkIA01Hi8DdjbTOejarPLhNAaNd9aKdNCAp/mJokU26KAGKuSHZtc6kEGGdMmV+kazIP3z/UA64qUzZrtmkrBNAGPWmLg7S7t3eLcAlZA1g3AVSTK3P6FfyNi8meaXJlIYB+HqIyDeAaFn57P3roR/T464/TNTtd42wxZQRQp7oLZBIfbfgwwR9oyKu4GsRAAAG4qVZMTTvjbONKOnKde1D1iyzaX9d7OXDgQJo9e7Yv2KzHEQJoDWG7O2g7AcQBwpnkfWgDqkjbBx98kLzYbL+qeUyd5Mqs2bPFImT/xbw9iFUDCHNong+gTe6+c2eeS0/MfaJWAqjKJEeKpz9AsrTNIDkwAbP/WBWzoWvSUPZM26acqWoWdhkVW7Y2/n1dqWfUdDnsH6jOSS1BZ3tmoV8hgLo7HsZ9PcKYRryzEAIYLgHEiwMvORPH6qaTK4MAwsm+af/FKk9mjMm3uXwdfJYQBTztsWn0wZIfUK+Peln77bkmgMAX5ARzBqnDy9004TcTQLz0qxIk16ShSMZcmih1gyVcRsXqPj91EUDWhEJmsqqouNxL9LXxxhvTrFmzdJfd+H2iAWx8C+KegBDAcAkgDnK84ECkyl4yajSu+mJVkyvjpeviK1lH4kMJYNGZK98TMwFExRhceEkiAKdfv37W5HvCzAn01BtP0dXDrq4CY3Jv2r2AXQzwO8ggtNqqe0HVAVQCqGq4oc3H2EVJhl2ShrJ5uySAjCvn3IOfWpYPpMuo2LL18e99pJ7JqiaCn8HnkWsQ68436z5YXHbeeWd6+OGHbbrx2lYIoFe4O2+wthNA7CgOL34xhbTDWQQw78WKl2pWvr2m1iME0A/yrAFkAuhy1HNmnENPv/m0FgHMcy9IyyQIKgiMTRQwaxKzPmhY8w2NVF6SYSaALkhDGd51mZuLtJ6dSgAZa1UTChcZyJSLvXz11VeTRNB33nln2bYG83shgMFsRZwTEQIYNgHEQQ8zqlpNA5IWenLlugNY6njaOkED6BIXEMBn3nyGJg6buEi3aqQ4y6WuKRfaGrzAbV7YRQRQ1QYy2UwHEXQCAcwiQ6z1NIk6tpUb35HHKtHH3F3kdPzjH/9IZ5xxBk2ePNkWDm/thQB6g7ozBxICOL9APQ4UX+bRPElKJ1eGdgcXm3HVv5uea9nTAAKIF6+rAJay8Vz9Prb8hXVqAM+ecTbNenMWXbnDlZnl/Ew0zr4IIMtDVs1dnwTQh7k5rfUEwXZBiKo8U74JIM9NrTpkmjeR+3r00Udp4sSJ9POf/7zK0hu9Vwhgo/DHP7gQwGYIoBqkwf57aS0Kp7mIJSmp+jS4jmD29aS1nQBCBlkez5l5Dj379rN00eCLFnyEcHog03J+vgkg5CZtLsWHFNw+bLSQuvLogwDyXLBOfMyC9NqSId318X1NRB5jbK5AAu0n1m6SN5HXMH369MT8e+GFF1ZdfmP3CwFsDPrOGFgI4HwCyOSrjl1VTWZ5yZWzHOLLcqbVMVdXfYIAYk0mEcyu5mDST5sIYJkp94LfX0B/evdPdNWwq5xpx5sggCwHeMY5SARr90kAfYzFZBc+gCDoZcEwJs9HXpumCKBagYTlGed5lbRAvKYpU6YkEcCoBRzLJQQwlp0KdJ5CAOdHToKYucj+ng7SYMKHAykrIrfIlIuDDH9i1ADapLBp8lGJLYF1FRNw1Zx7Zz54Jj339nP0s2/+zNmWNEkA09rAvCARZ4slSs4VV1GqOvNSo445WtjHOpsIPAEeOLvTFUiAQV7amCIMr7vuOkLw2tixY3WgDuIeIYBBbEO8kxACuNCMYEIA0y9VHPg4gNJkz8RkhsMNL48+ffpEJ2C6KWxCW1inEEDVxYADNdJyCRnFn7yPkPEPjKc/vfOnjiKAkDcmZZyLsGolkSoy65sApk3OWalT6vAfbooAFlUgqbr2n/zkJ0l0+qhRo6pscaP3CgFsFP74BxcCqE8AVf8ozmuGn/GLVK2V6+KQBQGEaaWOFB91S64QwLoRnt8/NB3QtuLFpeaCTNdvZtmsIpcggM+/+zxdueOVzhYDeQYRRR1e00snCriobw4MwRyygkRM55XVDvsAs7PNeqvMJy/ARU2dUpQjscpY6r1NRB5jfJ0E1LprP+ecc2jNNdekPfbYwxQG7+2EAHqHvLMGFAKYTQDL/KNUDV+Vl2oV6ali3qvSr497QQBx+XrxuVpTDBpAVesMGcELDpdavzmrfFpVjM544Ax64d0X6Iodr6jaNPf+0AggJlqUU8924b4JYJHG0dQ0WoaB62TXZeOpv9dNQK2uPc8kPm7cONp6661pxx13rDKFRu8VAtgo/PEPLgSQEi0ADpJ0MtumkytjXgimWHrppaMTNBcv+iYWHVoN47xocdY6w7UAsgsZcf0hcvr9p9Nf5v0lOALI1R8Q6WpysW9cusKOGiTiSkumahtN5lq1jQ7hrGoaLZtDkwQQLjJ4FnRLThZFSv/whz+kffbZh7bYYouyJQfzeyGAwWxFnBMRAjjfJ+itt95KgkDU3GYmfnsupQDzglMyynrFdrlw9m9izU0SwHQAEbsZ8IeI6mLA/qp1fiSAAL743ot0+Q6XO9sKFx8GdRFA1gYyaXMRPJFHNp0BmupIhwByE1fmbyaA0Pa7/ggpw8k0/2BWXeUDDjiAjjvuOFp33XXLhg3m90IAg9mKOCciBHA+AeTSUSHtIhPAOrQ7da9TCGA5wrrl04o+ROokgKfdfxq9/N7LdNkOl5UvRvOO0AkgL0PVFNkEifgmgFU1ji7Mwj5zHabFDPIETbCJNpi163/+859pzJgxtOyyyxL8AFdffXVNaW7+NiGAze9B1DMQAjifACLgwiQKuM7Nx8EKjVSMBDDWHIZ11TAu8yk1DSCqkwCeet+pNOf9OR1HAOE3iT9pE3DWs2yrJasylouzxJRw4qzBRzDOQjZ/62rzfFZWySKAIOh4fkwvBLCcffbZdMkll9Duu+9OEyZMSMhgDJcQwBh2KeA5CgGkxPcPh19oBBCkAUEJiAIObW5lIt1mAlhmylUDiGz3tW4C+MoHr9BPh/60bLu1fx+CBrAqKbMJEuFKFb4SopsSQBuzsO9UN6qwuUw/M3DgQPriF79I999/f5IMevTo0dpy3dSNQgCbQr5DxhUCGD4BRB5AkIaYrliTWJtoANPpgfASdpULsmzP6ySAp9x3Cr36wat06dBLy6ah/XsX6YE4WMNU62NKyvhDEX/rBomYjqUNaOpGF+OphBcYY61F2sAqfoem68pr5zL9DAjg7Nmz6Te/+Q09/PDDdOKJJ7qervP+hAA6h7RdHQoBDJcAQhJRmgyVQExfdk1Jc6cSQB1TLmv4dE1oNntUJwE8+d6T6bUPXwuSAMLH1MTvC1jbkCT2G2OfYZCjIi2uWqrMZp9129qsLT2Grlm4qt+h7lp07gMBhCnfVpOOsZgA6owbyj1CAEPZiUjnIQRwfh4wmCzxwvbx0q4iKjHkpctaT6xVTN5///1E44E/bMpVEyzjZZdV1s/FC6iKXPC9dRPA1//6Ov1k+5+YTC2zjSsNYFMEkBelGyTimwC6Ho8/eIrq69qanU2Fy3X6GVsCeOyxx9Kvf/1reumll5I601tuuWXiW7jSSistWOKcOXMS0/I999xDSyyxBO2222503nnnGX/gCwE0lR5plyAgBDBsAthkWhKbRyRGAogXCkzAbG73aco1xbpOAvg/9/4PvfHXN+iS7S8xnV63di4IIJscTTWALklSWZBIVq1aZ2BmdFTXeEV+kFV9Kl2t32X6GRBcJIF+4oknjKd3/PHH06677kprr712UsEJJeVmzZpFjz/+OL9r6b//+79pvfXWo4suuiix7iDp9ODBgxMSaHIJATRBTdosQEAIYNgE0MQnLQTxDr2KCWs20uXTgB0nljUpn+Yb+zoJ4En3nkRv/vVNIYAlm6qmUgEpRVQqWxLqImR5U6p7PNUPkqNvuda0r0AXXrvL9DPIA4sk0Pfee6+zR/jJJ5+kAQMGJEQPftzQ+m2zzTb0+uuvL0juP2XKFBoxYkRyj8kHjRBAZ9vVzo6EAM7fd5iAcYVmAgYBhKkAJsmYrtAIoJpzj19YwDNdPg0aKhzEwDyGq24C+Nbf3qKLt7vYGRShaAAhD673OB0kgg8JEDIQRNdj5W2ITm1c281kP0hOnQX3B6y9KQIIc6vt9cILLxA0eLfddpttVwvaw/x76aWXEvrGdeGFF9JPfvKTJNCEr9dee41WXHFFeuqpp2ittdaqPLYQwMqQSQMVASGAYRNA1SctJsmtk5iU4VBWPq0o5x5K7wkBnI/wifecSO/8/R26aLuLyiDX/r0rAgiiYxoYVaeWLB0kwn7Fvj7gfBBA3mzVLIx1IhjD5we0y+hjELCLL76Yrr/+em1ZLrrxzjvvpG9961s0efJkGjJkSHLraaedlvgIzpgxY0FTKB6AG1LPbLLJJpXHFgJYGTJpIASwuwyEqgGMjZAwsr4IYFnOPVXDp/Nyig3vOnEed884evfv7zolBvY1eAAAIABJREFUgIjahGbMRlvElXtCJIAqOQIZw/5AQ4b16sif7duJg9l8EU7MF2NycBTGxf76WKvL6OMHHniAbrnllkRjZ3tBi7jXXnvRxIkTadiwYQu6Ew2gLbLd2/dw32W7ehQN4Pz9xmENMuHj4KoiYS5emFXGc3VvXXWM06ZcjIN9U2s449+mdZxBANHehqC4wlCnn7oJ4LyP5tGPt/2xzlS07nEhz7YEkJ91H2ZZBANAZiGPTI60gDK8CWQMY8E/z9fFeLLJm9dad2S8y+jjadOm0SOPPJKUgrO5rrvuOjrkkEPopptuSoJK1Av+hfABhNkX1Z1wsQ/g22+/bbRnogG02S1pK1HAXTKAQ4wP6pDEAi9MHKQ6ZatCmreLOsY6OfeY+Lki7i4Iis99wEsQbgL9+vVzPuwJvzuB3v/H+3Ththc669sFvjERQDW9FEzP6SARZ8B2ddQEAVS1jjZVU6pi4TL6eNKkSfTqq6/SuHHjqk5jwf2I7EV7aAA33XTTbv0Am69//etJYAi0gQj82GmnnWjQoEESBWyIumgADYHjZqIBnI8Ep4ao+6u16na58JmqOqaL+6vWMdYx5XKC5Tr3yAVBcYGfbh91aVoxficTQKzPh5lUJWRZQSKuPlxYXpAfkaPYdWXI9r4s0skkHc+1btWUqvNwmfT6yiuvTKw/hx12WNVpLLgf5xIIPssVW5SgXWRCiDyASA/DeQD32GOPpPawSQQwBhYNoPF2SUMgIARwvhzwYVInuTCROBe1U03GtW1TRgCbLJ9WtDYhgAvRAQH84J8f0AXbXGArDgvau8CXfb9MX5o+AyXShKxqJZGqwGM8aMVNsak6Hu7PI511r9VlMM/5559PK6+8Mu27774mEDTWRghgY9B3xsBCAMMmgDhc8TXtItWBT4nF4Y8qJn379k2+rNPVNNjcrkbk4t+uNSJV1xybxrVODeDx04+nv378Vzp/m/Orwph7f9sJIAOjW0mkKvD4YAT5800Ai0hnXWt16ct56qmn0kYbbUS77LJLVcgbvV8IYKPwxz+4EMDwCSA0Hr169YpC2FRTLsgUzFEgKSGVTysCUgjgQnSOm34c/e3jvzklgC6CbNj53zQK2GekbJlGjlOZ4PlwESQCAsgJmn0dGLqk07VZ2KUm9+ijj6Zvf/vb3QI3fGFoOo4QQFPkpF2CgBDA+YKAlwrMwKGZgPGywrxCJYBqzj1OsIyfMfFDNC1eSKZRub4fUyGAixLAv3/8dzpvG7MyVVl75yLNDkx/eCZMtVw+AyXKCGDXGZysx0WQSFMEUJd0qlVTcEaA9JqeuS6JPPzyDj30UEI94JguIYAx7VaAcxUCOH9T8HXKme1D2iZ85eJP7969G5+WGpXLJl38jQOcAzTU8mlcAolr6za+AI0JgADiWmqppTTubv6WOk3Ax959LP3j3/+gHw35kbOFViWAeZHgmBBIB0hgVbcBnwRQVzuG9bgIEoH81hV0kScEJmNirThv8dEYwj4ib9+ZZ55Ja665pjNZ99GREEAfKHfwGEIAwyaAOCShRUAtSd+Xbvm0vC94+ABCc2lqqvO9XowXW9BNnQTwmLuPoX/++59eCWCWzIHgqQm9sU+cZBn/rmo69U0AdbVjrA3kIBcTDRnIGPIb+vzoshmTzcIm+6ijXdU9Q3beeWe65ppraIUVVtBtEsR9QgCD2IZ4JyEEUAig+uLBy4e1e3gZ40WiaveqZPkXAlj/uVA3Afz43x/TuUPOdbYQVQOYp91La5PT7gPsA4j7TEynPlOlmJpkTQMnEGQDtwufBNB2TNUsDKLPLiNlQldFu1rW1+DBg2n69OnRBdsJASzbWfl9IQJCAOfDw+YXU3+UusQMLzh8YSOa1tWlk3NPNeWajjtv3rzElGrqq2U6rk070QAuRG/sXWPp35/8myZsPcEG0gVt8YyBAEKjx+Qvrd3TiQRPB4GgX2j1dHPO+SSAJuZRFeyqQSIgY0ga7/McczVmVbOwKbnOEuYNN9yQ/vCHP1R2J3DyYFh0IgTQAjxpKkEgLAOhEkAXpb7qLp+W9xzFSABjS7tTpwbw6LuOpv988h8jApgODsI8IYe4QPLYT80kOCgrCljNOcf95/kGujQdlr1DbMyj3LeqISuqJIL7MJ5PAljHmGwCL4uMtiXX6t4h+GP27Nll2xnc74UABrclcU1INIBhawCrvuCbKJ+WJ/HvvfdeYo7yWZfU9ukTArgQQRBAyNM5W5fXR03neeTUP6rvHv4NDSDIn00VDi4BluVbyh9yGJ9JZpoIxkYA0x+pWCP7Paprq4OMlT1PPCY0/VWDcYr6TpuFsd50/y7INc9BCGDZTof5eykFZ7kvQgDnA4gDh53DLSF12ryopq6OKddH+TQhgE63vFJnVT8QqnR+1J1HJS/ds79x9iLNilL/qIQvS7uHusV1EkB+ljm4AHNIpxqJlQDy2lgDml5bXWSsSGZARmGKdU0A06Q3i9Db+h7yGOgbpdpgAo7tEg1gbDsW2HyFAC5KAPHCc/kla7vdakm1LO0e59wre/HazsOkvYuXvcm4Nm1ADmJKvF0nARxz5xharMdiNH7Q+AQT/pOn3dN5blzIRJEGUN37vEAKl8EDZbLmiqSkx8laG35WJxnLWmvdBJDHTJuFQX5dmbthqdh1111p5syZZdsZ3O+FAAa3JXFNSAhgmARQJXs41HHgpcungfRVicr1LZkuXva+5xx64u00Hq4JoKrdGzt9LPWgHnTSRid1y/No4ruHubuQCV0CmEUekCIFe+yrXJqrAIm850BNo4I1IT1OXdq4rDlgfHw0+ShVCdnkJOA4+0AKXaz1lVdeocMOO4x++9vf+j5urMcTAmgNYbs7EAK4kAByaSEdTYZLqWFTbtqPisun4aCDY7duegSXc7Ppq2rSX5uxXLVtEwEscyE44YET6DOf+gydvfXZzrTiTRBAyIZKHvBccfJhV3KT1Y8vnzzVXw7zcEGKdHHhKGWfidM56ht/myaRVtf37LPP0llnnUU333yz7rKDuU8IYDBbEedEhAAu3De8/HHVTQCr+lDFWFEDOLqo++r7qYqNAKouAmVyW1XujrjjiIQAnjn4TGfb0BQB5AWwxgpY1Z0w2RcB5LVBM4qPWCa4Oil1bDeWTbM+CSDmrO5jWbRw2Roffvhhuu666+hnP/tZ2a3B/V4IYHBbEteEhADWSwBVU65O+bQs6YkxoTLWAfMXTNSIBI7lCqn0ng5meQSwTLun+ozmEUcQwMU/tTiNHzxeZypa98DfCsSrrihgnUnAdwxyCfJSlFZFp6+ie3wHZTApArZc1tKm1q7O+jkgBRYKnxevFcRTrQ0NjWDZh1B6nnfddRf97ne/o/PPP9/nEpyMJQTQCYzt7UQI4MK9x8sfh3bVA0SVHtvyaVmSGGM+PSaA8BXz/XKweZpjJYBIFJ52IbANEDr8t4fTkp9eks7Y6gwbSBdp6yI1UFUfwPTkOX8cZLNKAumqIPgmgKo2Li8Apuoayu5vkgBi71jzqNZR5tJ7uuf4LbfcQs899xydeuqpZcsN7vdCAIPbkrgmJARwUQLIgRY6u5g2qXGyW069ov6texhljevipamzHtf34EWLdQsBdIusqt3jUmgYwaSqRtHMfvjbH9JnP/3Z4AigqvExQVZNIMzPMIh/WQLpqmP5ipDleWWRMZtauzrrhfxhXN9a/qy18l5W1X6iBjBk4qijjtJZclD3CAEMajvim4wQQD0C6MKkZiodMRNArNm3f5ApzmiHlweiGvv06WPTjdO2Rb57+MjAnHv37u08IhwEcKlPL0Wnb3W6s/W4kGWsFwQgKxG0zkSzEgjrJJDW6Vu9JwQCiPmoQSKuSW5TBJC1wFkfl2rAj46J/+KLL6all16aDjrooKpb3Pj9QgAb34K4JyAEcOH+4cWCL2ZOuZLOfYaDhX2n1ATLNto9Helx4TivM47re2KrqxsCAaz6oVElCKTq/h7228Oo12d60WmDTqvaNPf+UAkgE6WiBNJVQWAC6CNFCuZWRIrwexszad7acWaiX/h1+rx0iCfvJZ6prMopPF9EAK+11lo0fPhwn0twMpYQQCcwtrcTIYAL9x5mIESusikXRFB1lm8q516M6VSAamxl1ZoggFUjc9MnVZ0E8NDbD6Xei/cOjgDiOcUz6lIDqOLqyn+uCQJYZo41NZOGRgD5Y73M9Kya+HF+ZwXFnHDCCbTtttvS0KFDoyMCQgCj27KwJiwEcFENIMxDTPpAAEO4YoymFQLYXXKqavd0ZE8IoA5Ki96jW51DrT4BDVfV88BnkmTWAJYRQEbCFcnl3Kk2Ud3Vd3C+q0YVzaO63rRZ+NBDD6Xvfe97tNlmm5lMpdE2QgAbhT/+wYUALtxDHJ4wLVQ96OuWglgJYGw59fglio8ARNXaXrbaPZ3x6ySAP7j9B9R3ib506pbuoiMR0c5JzXXWl3UPSAfWDY2OyVWlOofqT1Y16bDvJMm6WjEVM9sgkaYIoOm4abMwPvb3339/GjduHK2zzjom4tRoGyGAjcIf/+BCAMMngDFG0wLVNhHAOrR7OqdLnQTwkN8cQksvubRzAoigIGhhTC+fBJDnaEKUmiCAVbRiqjaQo8mrBongGedEzKb7adLOZlz+MJszZw6dcsopiTsBcgCuuuqqJlNptI0QwEbhj39wIYAL9xAHAacQCGlnYwymAH6x5dSrogH0od3TkcG6CWC/JfvRKVueojMVrXtc5LRkTZcPDaC6KDWaVie61HeVDM5jahqQYRIkAiIGiwm0oz4vF+O+/fbbdNxxx9HkyZNpzJgxiRbQtynbFjMhgLYItry9EMA4CCAOZ1/RhK4eiVgJIEyESAuhakjSCb7xseA6754J7nUSwIN/czAts+QywRFAGw2gi/JsXIuWo0vzglF8J0k2NYumSS7PG8SurJIIAr1AxH0TQJfjrrfeekkUM/BDSpitt97a5FFspI0QwEZg75xBhQAu3Ev+Ag7NBzDGaFqgGmJOvbInFy8/pN3p1atXkmuO/9hW1Sgb1/T3dRLA0dNG0+eW+hydvMXJptPr1s6FBrBpAohF6SSQjpEAqh89wBlrKPJ9xNkEAmxj0jcRLpfjDhw4kJ5++mm65JJLaNasWXTppZeaTKmRNkIAG4G9cwYVAhg+AYzRly4WApj23YMvFEhVCNo9nVOmbgL4+aU+T/+zxf/oTEXrnlAIIPwQXeTvLDKbluXl0wKswk02fnF5w5T5PsI9BeTPNwHEuFzyrQJEmbeCAM6ePdu2m0baCwFsBPbOGVQIYPgEMEZTKlDFC9BVRK2rJ67Mdw/aX2gXYAJ2QRBczTuvnzoJ4Khpo2i5pZYTAliyiXm59XSSFbuUDxd+cVnzKaok4pKIVcHC1bhY24YbbmhNAG+88cbEfPzkk08SXEjS2SRwrsDMDG0pxsTZMmPGDPra175WZdnd7u3RowdC4f/T9YvFu/79sVWnETXuEdFcg5yqEMDwCWCMptQQCKBJZC40HqhW0a9fvyCf1/SksMZ33303SVvj2nXh+1O/T8v3XJ5O2uIkZ1hgrjCvmyZxxkRAdNgkX3Vi7APoSgOojp/OrYffQZ7KkhVXXUPe/S794rLGyNJ2gojBT9BmP03Wn1XOz6QfYLbddtvR73//e5PmC9rccccd9M477xDwOOCAAzIJ4F133UVbbbWV1ThqY5DO4cOHr0VEfyAi5K06noh6EREe2LnOBgq4IyGAlpsjBHAhgDjA2YwSkvYnVgII/yFUMVEDKizFtbB5mXZPTfCdt79CABdCDAK4Qq8V6MTNT3S2bU0TQB/1eTn6F6BBzrLq1ToDVOnIpV9c3vzS2k4muKYR2aY46CbzLuv/jTfeSJJA/+53vyu7Vev399xzDw0ePDiTAN55553J71xdX/jCF2jOnDkbEdFDRHQ5EUGdCI3gc0R0ABIxuBor1H6EAFrujBDA8AlgiKZUHbGrkwCaaPd05iwEcCFKB009iFbstaIQQB3BSd0D+QQhA+GsmkDaYLikiQ8CyHNTtZ1Vcweark9tVyWZd9F4f/7zn+nEE0+kKVOmuJgWFRHA/v37J8RwlVVWoe9///uJptDmwof1vHnzmAO9TkTrEtE7RPQiEX2BiP5l038MbYUAWu6SEMBFCSCnUghJA1gnkbIUn8LmLsmUC+2ezlrr9KnTGb/qPXWagEf+eiSt3HtlGrf5uKrTyr0/FA2gj5RKnK8Qe4QLptI6NWVNBGSAiOGs5GTQda5PJZ8wAUOzauv28MQTT9BPf/pTuvbaa53IeB4BnD59Om2yySbJ/sNcPGLECBo/fjwddNBBRuOCSK600kr0xhtvLE9EaxLRJUT0VYgZEb3VZQo26jumRkIALXdLCOCiAMIEjCs0AojUJLH4pTGipgSwLu2ezqMiBHAhSiCAX+jzBTphsxN0oNO6xwUBhKYLlwnZYBOwLwKI8UD8uNKGTgJpLSAzbnIVGKE7PvtTwseRk+j70Aa69OO877776LbbbktSwLi48ghguu+TTz45IYL333+/0bBQVBx22GEgr5O6yN69RHQmEa1HRDcT0WpGHUfWSAig5YYJAQyfADKRiiUylRHVJVO+tHs6j4runHX68nFPnRrAA399IK3SZxUhgIYbma7MoZtA2nC4JOLeZ0BGmoiZVBIxWatLP86pU6cmASBnnXWWyVS6tdElgChBd/vtt9MDDzxgPO5LL72E8nVXE9FrXQEg/0VEI4lodSI63LjjiBoKAbTcLCGAiwLIh3ZIGsDYSEkRAWxSu6fzqMSGdZ0EcL9f7kfLLbYcnbL9Kc4qPbjQALKW3sT8h48paBB9aACzKnPoJJDWkdOse1xFxuqOn0XEsD7OHahTSUR3LPU+l3t4ww03wIxKxx+PAFrzC1hAywsCuP322yfBb1whBWZm4LL22msnJmtEA+++++5JHeKDDz7YfND5lqpWc6BWL95KcroaCwEMnwDW+ZJ3IUN5ffC8kXJDLaXGKTw4Khd/42AM4SyLDes65ou9Oua0Y+iqe6+iT3p/Qv3/05+GDhhKZ55wprXPFVJl9OnTx8h8y3IWMwFUP464ogknNLaV/6YIYBaZhlzCBxKkyHUQDAggZADniu11+eWXJ0msf/CDH1h1NXHiRNpvv/0WnGGc6w++f3DfOfrooxGxm4yFIJDRo0fTgQceWGlMEEmMc95559GLL76YVCw566yzDiWi97qCP/A3/CPeIKKXK3Ue6c1CAC03TghgdwKIF6CJdsFyK3Kb80ve9sVZ1/y439C1ezrrr4NQ6Yxrek8d8z36lKPpsrmX0Ucrz/eHxbXEnCVo5HIj6ewTzzadatLOhACmXQRAKkx9zVyShzIgyipzpFOqlNXdLRvPVWqUsnH49zqaONYGYq1IhGzit5meD6fZcUEAf/SjH9Fqq61Ge++9t+6yG7vv8ccfp8mTJ9Opp55KDz74IO2yyy40d+7cPxJRHyJasisFDFjxnUS0TWMT9TiwEEBLsIUALgogR+6FRABNX5yWolHaXMd3D1qJ0ImrutA6CFUpkBY3uJ4v5H/AdwfQ8xs9321Wa8xYgx676TErc3AZAcz7iMDzyBpjtT5zVZ833wQQ84YGrOjCmrnuLq/HRBvoKjWKrjjqYon1cRCMKXFX5+SyxjKCMTbbbDPaeeeddZfd+H2qgkIxAX+6KwJ4ia5qIEgH0/GXEEDLLRYCuCiAXL4pNALownfKRlRMtXtlL3ybOdXRNhZtK6/dNQF87bXXaOPDN6bX10VasUWv/k/0p5nnzyTkMzO90vLAPmNM6vD8ZbkIqJojjgLmoIMqpEKXtJiuT21XtTQba7ZA/qAtq3IGcUCGi9QoumuvqolzFSTissTemDFjaLfddnOaoFkXP5P72LSMABD8e7XVVgMHWoyIkGsIf5AGBn//06T/2NoIAbTcMSGAcRDAefPmJT4vvoqu62j38OItM+k0TVxNHo+YSKtrAlioAZy5Bj02yV4DCJKi+oSC8Kj+oPh3lgYMbbBeJlaQPZVU6GgDq5IWE/nhNlUJINqZ+s4xAayjxF0eBiaaOCb80HiaBomwlcZFiT0kZD788MNp/fXXt9lqb23xAQO5R91hRDBPnTp1uS6fP8wB2j+EM8MX0F35Hm+rqz6QEMDqmC3SQgjgogDiUEsX8raE2ElzEEC8OMvMSSaDmWr3dMYSAqiDkvk9rgkgZuLKBzAtV3iu2HzFhA8fNFkBQLgPF/7mP6z9YCKI3+NlCLLIxK5MG2hCWkx3x6Y2L/vOYWydBNJNEEDsJ/6YlLozJbrAAwQQMgAtqe2FhMwTJkygL33pS7ZdeW3/9NNP06hRo5BG5taulC+oAXweEYEQIrpkhtcJNTSYEEBL4IUAxkEA33vvvaSovAsCWKbdw0uZI3MtxQulirxqLm3ni/Zt1gAy6VKjgJf/z/K0/YDtS6OA8+SKyR7IGnxC+/bt2828yaROJXtM+LjSBP5msygIkmou1tUG+iaAWLup1l71nStLIO0yN57uM+TCFGsSJJLOr6g736z7hg0bRr/4xS+s3Bpsxjdpyx9RIMKLL774dCL6SpfZF/XsxhDRhyb9xthGCKDlrgkBXBRAzmhfxf/Gcgu0miOVADQB+FPl0nGqx8szz+xWZayse2MkgDFpLev0Wdxz8p602uKr0bgh4zI/PNiMy0QAz45qzgVpYQ0dZEPVVvL/0UbV6DHZ4+ev6Dnk8VlbqKMNjIkA8vOkk0CaCaCP/IY8L1em2KpBIln5FU3PqUGDBtG9997rJKWM6RxM2z333HP05S9/+Qoi2qEr7QuSP0PzB140v/5gh19CAC03WAhgHAQQiUXxQi0ze5RpYVgb44vgutRcWoq6dvOYCCAWVZfGcu8pe9Pan1ubjtr4qIS8gaxxsAb+BungjwdVrtL+e0zQ0AaRqpBhJnqYv6rZM5HLKtpAG7OltgB13eiyNi8/1yA/WWbupgigK1MsIGN/TuxnUTR0WXqdKvs0cOBAmjVrVhA5SHXmzdq/66+/nk4//XTM/RYiOpKIRhHRbl3m39t1+uqEe4QAWu6iEMB4CCAOftXxWUe7x4EaJmklLEUraS4E0AWKxX3UQQAhW3vfujd9td9X6eB1D06IHy7Vd68sWCNtzkV71hayNtuVXOpqA9nH18RvrepO1lGbNy+SVicnX9X5l93v0hTLY+kEiZgE1+StBQRw9uzZZUsN5vdMABG5vN5669HYsWNVDnQYEZ1KRIOJ6NFgJl3jRIQAWoIrBHBRAPmANdFEWG5FYXNoTjAnaAFVLQwOzHQEZUhzNzVd14llWd+xma1tCWDeh8Tou0fTOp9bh47Y8IhExlRzrvrC5vYq4cPv88y5kF+QI8ip67QlZdpArAHzdRFBWiZHdRBAjMnaQJhgOZKWo6NdJEcuWxf/3qUpNj1mUZAIgmtsfCvVsWIjgDx3WCm6asOnOdB+RAQN4Ku6+xjzfUIALXdPCGCYBDD9UsZhj5+pCXGb1u7piJ4QQB2U7O6pSgBZy8LaOBAy/IzNuRwEtM+v9qF1l1uXjtwIFqb5lxqswTLKwRpM+iCjZR8hTFgg1zAJI7ipDm0gfyCpkcKYp2vimbWDCHjRSU1juvtYGyeQxlmAffTpA+jSFJuHQVaQiCvTOvDafPPN6ZlnnjHdgsbb9ejRA1VAkAfwYyL6NxEtLN/T+Ozqn4AQQEuMhQCGQQDLfPfYwd7nAW8pWklzXd9FF2O56qPTNIBqzj3WHuvk3tvr1r1o3c+vSz8c+MPE/48JHxO9rOjcqnsAEgqNji9tINenxVpsqm7orLNuAshz4BQ4WJMPYsvjujTFFuGZDhJRfQR19iHvHmjRhg8fnpRVi+3Ch/U111xDhxxyyKVE1LMr8TPqACN/0tiumsCxLavyfIUAVoZs0QZCALvhkSSaVZ3ULSHu1tzEdw9fvXiRx0gA076LrvF03V/MBJBlS9Xusd8Qa/Y4xU9esAabclkDeOh6h+aac11gjzmDBGLOMM1innVpAxkfjGGTjFhn3SCArurflo0H7NgkC22qSwzzxrbJc1i2nqzfq0EiZWlxdPqfM2cOHXHEEfSb3/xG5/ag7kEJu0suuYTeeOONXxDR8K76v5sS0ZNEtGWXRjCoOdcxGSGAlqgKAayfAJZp93Qic3HY4ss3NgII30WYFn34XFk+CguaxxS4AtmCJgPaLNb06fqFluXe2+e2fWj95denwzdEdon6L9YGsryUmZGrzIh9AzEGLmjKVBNqHdpA3wQQa8M6VN+8sko9VTBM3+vSF093Htgz4IoLa8N6TeUE0b/nnnsuTZo0SXf4IO4DBssvvzxNmzaNBgwYAA70FhEtS0R7EtGaRHRCEBP1MAkhgJYgCwF0SwBNtHs6WwitJA74Xr2Q8D2ei4NXfERdukIlZAII0qZq90BscEEjwhq+rGAN3MOETzf33l5T9koI4GEbILjQz+VSG8gfXpy+hrECPuzvCPLAJlTT0mR5yED28eFTJwnjsdWkzKrJ1IWmLG99rnzxqkoW48oR3aYaz4ceeohuuOEGuuIKpNKL54JbzSqrrJKkf+rRo8cyRPQ8EfUjoqW6/r18PKuxm6kQQDv88BXcioSRVWAC2cKlY4Zyod3TmRu+6vGnd+/eOrcHcw++1oGjEMDqW8LBGmW590BY+/TpswjR4Nx7bM5l8scyrZN7b89b96QNVtjAKwFUCQ2bGEGiyrQ8wCpN+Nj0zWQPf6MfNWUMk8E6tIEgKr588rKSMuskkK4ulQtb1BXlXDQn1gAyrmqQSNWAmzvuuIPuu+8+Ou88VFCL55o7dy5tvPHG9MQTT+C5/zwR3UtE2xHR0kR0BxF9Lp7V2M1UCKAdfkIAM/DLI4B1afd0thDkD/PCiz6mi801PtNT2OIDQgXfrapVV2zHNQ3WgCYAmmEmN0x2d8GlAAAgAElEQVT2ODrXNFhjxK0jaMMVNqRDNzjUdmlG7Yu0geqzyBo+/EzV7jHhyxocGKEdB7ewX6RLbaBvApiVlJlJcV4CaaON6WrkK8hFnSMTQJwn/DGTDhLBc6vz8T558mR64YUXCP50MV3wUT7//PNp6NChtOGGG6Ig8gQi2oyI/kZEfyaivWNaj81chQDaoDc/p5RoAFMYcoJT/FjVvnC6jCby7uELHxqR2AggtAQQsZgIoI/UNbYfE6pmD0SDzb9VSqmVHR0ggButuBH9YP0flN1a6+/VSGGQOiZuGJRTIZmmRGLyCDxdagPTmqpaAUII6D//mWg28yoF5SWQtpmXTx9HnifWgTNFJYDq73B2l1US4fsnTpyYWFWOPHJhmiMbPHy2BQ54H/Ts2RMcaLkuv7+3u8ig1AL2uRkxjyUEsPvu4WDDS5VNSCrhy/OvqlsG8BLEvPr27Vv3UE77jzF6uQ4CaOMqUJZ7j81gIIEwl+poP3Q2eY9b9qCNV9q4EQLI2lCVoPGc2a/N1bNYhzYwS1Olg7npPTpVOVgG1QTSZab1ovn49HFME8C8YDh2mwAeeA5AiPPWeNFFF9HnPvc5OuCAA0xhb7xdD1cPe+MrMZuAaADNcFvQSghgdwDxZYVDEs7FNgek5dYs0hzaRzj/Ivt7TFeM0csuCKCpORd7qwZrsG8bK+ohj2ktH7dhbStIID5abK/db9mdNl1pUzpk/UNsuypsX8WcW3eksFrjmKuGcLLlKpHCTRBAgKzjtuDK39GniZsFCB8EcIUpsyhgjZzzMS8QZvz48bTuuuvSd7/73Vrlu87OFQIILtQ6a54QQEvpEgLYHUB2qA6F/GGGsRLAGKOXqyav1g3WYPKmSlxesAbuqWrO5ZceMHdRaxcEcLOVN6OD1zvY8pRZtLmKF2v4cIeuOZeDG/BMcN5AVxN0pQ0sMlW6mqvaj0lVDvZ3LNOUZc3Xt4mb58BzLiOAKmFk7Wg6SOS4446jHXbYgbbbDvETcV6iAYxz34KZtRDA7lvBKRVCIoB4USI4oav+YzDyUzaRTiSArsy5WcEawFOnlFoR7pAVaANxIVrSNA3J8F8Op82/sLk1Acwy53IlEjUdS1VrFj7UIF8gjkWmvjIZzfo9p9tJ+wayVqks9UgTBBByg3lVuVRNWdma1H59azhVAog9qJJVIC9I5NBDD6UDDzyQNtlkkyqQNX4vB3d1fSS2WgnW6sW7kEQhgHEQQLxQEP0VGwGMMX2NqgF0EazBGi/uq+vgTjR8/JHh+mODzXzA37TW7m6/3I22/MKWNHq90dpHTZ45l2tYq4RPu9OCG9kZHqTXtzawSHPGBNBX4nbbsmzsRwqooSkr+2hoigDi4xx/qhBAFh8OhEH7u+++m2655ZYkAnittdZyIYq19/HWW28lacBA1JkEpjSAn+oqBdcaU7AQQEuxEwIYBwHEA4+KDwgCcU0WLEWosHlsBBA4gwCy+RUvC/yMiQu0TfApytqDPHNuldx7rvcCJjNoA01q7YIADlplEI0aMCp3WmXmXMatqnavCg6s4QlJG+ibALooy6ZqysoSSPvWcLI8qAmvq8iIei9SvyCFSr9+/eiCCy6gwYMHm3blpR0HI2KuyP03YcIEWmaZZZJzabHFFgMHWqyL+MFXYy4R3exlYgEMIgTQchOEAHYHkDPMh0S0YiWAoaevyQrWgERwVQiOAM8iMGp0bpY5NytYw/JxNWoO2TGptfvdX36Xtlplq0UIIPvI4RnhdCwuzLlGC0s1akIbyEEJaW0gft6VpsPF0kr7cFmWjX0sITd5yZV9E1wGoCzdTSlQXTcg0GvIkCH04osv0pgxYwj+gHkpdHT7rOs+JoDDhw9Pytbtt99+dMYZZ9Byyy2HD1VwIER8/YuIbiWie4joR3XNJbR+hQBa7ogQwO4A4vDmVAmW8DptjoS/6YoPTgeoobOQCGDanAttQjrVDzQf0JiB+KXrF6vRufxvQFY1WKMGmLW6rBpB+93J36VBXxhE31v7ewnZ4zyYaXMur19rEjXfxFosECLXaXEwdV3fQCZRusEKtrC4LsuW5zfH89SNxrVdV7q9Trob3TFRTeNnP/sZjR49mj7/+c/T1KlTdZt6vQ9YQ5O+zTbb0Nprr02oYQxijjQ2K6+8skoA7yaiiV1/vM6xqcGEAFoiLwQwHgIIEzAqPrhI8WEpNtrNm8xfaBqsgfQWIDUggFwpgglfk+ZcbdALbizSkqXNuSNuG0GDVh5EB6xzwCIRunWac12skYkapyDy5RuoagNBPvHx45MAwjfM9dnAfnP4m/vH/jdJALG/OuluymRp4MCBNHv27GQtr7zySlJfN8SLP1LXWWcduuyyy2iNNdagbbfdllZccUWaMmXK6kT0l655P0ZEKGsyJcR11DEnIYCWqAoBjIcAIggELxS8XGK5fBJANueynxAOdjZPsu9eXvJg1ZwL4gAyBJw5UCMUc66LfVe1ZMAFa2PTrmrO3eNXe9CQ1YfQ9wd838Ww3vtoWhuIBWdVrKgDiDrr8vKHFLRveH5AviAvVaNxXazbJN1N3rhMAE3ndeONN9LFF19MTz75ZFI4AOeO6jb01FNP0Q9+8AN67LHHEt9tRByfdNJJlYdjAvilL32JrrjiCtpiiy0SwrrbbrvRgw8++Fsi+iERzSaiZ4loZFdt4MrjxNhACKDlrgkB7A4gf/WG5AOIWcZIAOvKX6hqq7hcH/ZNDdbg+q5pjVVesAYwxr0cQYv/26RRsXw0nTZn8zebcvE348AaFWh4VHPurpN3pW1W24ZGfh3vlHgvX76BQIjrD4McqRU3yqJqbdH1UZeXnws8b3i2IEO+NJyMj220M/eDtWy44YaJBtD0uuOOOwhuOSDfqCaiEkAQQhC2/fffn0488UR67rnnaPvtt0/8DQ877LBKQzIBXHXVVWnatGn0la98JWmPPe/Zs+d0HFNENISIniSinYnoqUoDRHyzEEDLzRMCGA8BRB5AmLOq5vqyFBGr5q4IIGuoWLuHfnGxZk83WIOJkJJGIeknnXvPRRoVK+AsG6fNuWzKZoLMf2MYzqeXTh797f/9Nm23+nZ04NcPtJxN8819awNZfiCXkNkqOfZM0PJZlxfPHogYLnwg+fxQdhHtzORpxx13pEcffdQE7kXa3HPPPUkksUoAUWd47Nix9Oqrry7A58ILL6Qf//jH9Kc//anSmKqf8l/+8hf4/S3wXe7RowcigOG8uBQRbUZEKxHRq5UGiPhmIYCWmycEMB4C6KJEmaW4VG7OCayRckH3SgdrcMQpBx8w2Ssz56r+exibtVtVzLmcRgVjgXz7fNnp4oX78qJzVcJXVDuXk0ez7yPu3eV/d6HtV9++IwggY8nRq/gb5MWlzxzvAUdH8xhVc+xV2Xe+1ycB5I8GTpFUN7lV8XAV7Tx37lwaOXJkkg/Q9soigEcccUSiXYTGjq8ZM2bQZpttliT0N8kPedBBByVpa9RoZSUP4C+IaDci6kNEH9iuKZb2QgAtd0oIYHcAQUDY1yQkh/eqJcosRcNJcx0CyNoqVbvHuffgh8eEr6nce6oJ0TVpMAE5z5wLfFTCl1V6rmg8lntoBPGS2f1Xu9PQLw6lA9Y9wGSawbbBOlnrCfKCtdo+51kfLZwahmsKl9WmtQEMJkd8oNRtauY5crlM4AffQFw6CaRt1oi2rnwdoYU75ZRTkmTQtlcWAYRJGKT8F78AL5t/Pfvss/S1r32N5syZQyussELlYXE+pv2/U4mgh3ZpAyv3HWsDIYCWOycEUAigpQgVNgd5Slcw4WAN9t3D32qwhq45lwM3ysy5LtanmhBdkQbdeTFBVv33mCBz/Vz2PdPts+g+1nruOW1PGvalYXTA1zuLAPLabbSBaRO76pKg7gXLKPuj1qUNBAH0aY5V8/GpKWPKEkjbyqcrX8ff//73dOWVV9LVV19tOyXypQHMmqjUArbevnZ3IAQwHgKIQ55NkbFILWsA8XJSgzWgnUpr94qSLXPQAl42uJrKvZdlKnW9F6opkc3fWK+uOdfFfIDzsEnDaNsvbEsj1xsZld9plfXragM5ElYl4Tp7kpc3ENockCgXhAlzAzHySQCz8vFx7kPMJy+BdJW9ybrXlakbpA3mWUTx2l5ZBBDE8uijj3biA1g0PyGAtrvX8vZCALMFgJ2cbU1DLsULhx/mY1IH0+U8ivriF6Wq3cPPWKvXtDnXBQ6qqZRzzJnKSV3mXBfr3PnmnWmH1Xeg3b64W7J/MJWG6gNpu16u3IH9YF9PJt/4mx3xTUzsKqHnZwE4sjYQPwO2puZbJoC+Us4Aa9Xsq2KvagMhMyCCps9G1p66MnXfdttthDQt48ePNxYdJvcggIjwhYsO9hAWApzVX/7yl5Mo4OOPP56ef/552mGHHQi+gVWjgIUA5iMgJmBj8Z3fUAhgXAQQs/WdeqFIxPgQZMLHufdYu4cDEQdjVg1jNfdeljm3SrCG5WNg1LxqZY2u521BCTUmGGzOTZMLo0k5bLTTTTvRzl/amfZZe5+krBn21nVSZYfTNe6KSTj2k6vDoDM16MiFib0ubWATBLAsHx+n0sLf7BtoSwRdajqvv/76JIXLscceayw3iPRFWTZeF7uiTJ8+PcnV98wzzyRVRpAHEBWcRo0aRePGjTMeL6uhaACdwtm+zoQAxkMA4QCNQ6YpAqj6PRXl3ktrMriEHSccxkuBCR/Qb8qc6+JpLwsQMTUdupibbR/DbhpGu3x5F9p3nX0TuWPC69sH0nYd6fZlPpWQR45wBeGtK1JY1Qaq5tOq2kD2ZfSpAdTJx8eyryaQttEguyS6P/3pT5OPmYMPPti1eHntTwigV7g7bzAhgNl7yj4utl+tLiWGtTAmKQRM5uEqWAMaQGgB1KjUdIUNk/mF0ibtR4Z1MnY2psOm16cSQJ5L2lTqkhzVtV4TEq7rG2g6Z5faQCaAvs4FrLlKPj5gifMUH43sG2hyrrokuhMmTEhKqu25556mWxhEOyGAQWxDvJMQAphPAPnlHcru4qsbmgnUA3Z9sRlM9d3Dy9409x76Y5MIm9bSiYZdr8F3f2lNEkeCYh4wgeOPC9Oh73XxeN+c9E3adc1daZ919llkCvxCx0s9xD1l8s0BGzYkvE7Cm+cbWFUbyHP0TQA5CbuufOL5gMxwepyq2kCXBBAl2QYNGkTDhg3TnX6Q9wkBDHJb4pmUEMDsveI8V1UPqTp3Hocn/vTu3dt6mDqCNTCpPHMupxbBSwOmFxMNgPWiLTso0iSx/x7kBXsE+bENELGcrnXzHSftSN/5yncSH8Csy0dEdNkiioJoOEUOp2Ap6yvv93UTXlttIPYBH4c+XUPgjsIfOVVwZc2qSXUUl0QXwRgjRoxISGDMlxDAmHcvgLkLAczeBE5K3CkE0JU5NytYAwimS6llocr+cvg79Bq7rME0jQRlf7mYCW8ZAcQeAyeQD04ezfWE6zrayvz3mIjX8YHRtDYwL7VKUwQQe23qAmCSD9HlOlEF5KijjqIBAwbUJape+hUC6AXmzh1ECGA8BBAvWfjeIKKs6NIN1sirFMEkL6+UGpNiE3KsalPg7F43YdB9clUTOJsO8TMQCtPo3LIAEd25NXXfDjfuQLt9dTfae+29S6dQV8k8E/+90sla3NC0NjArtQqbVn1qAF0kZObAIt18iFgn7nWRBmv33Xen888/n774xS9aSEPzTYUANr8HUc9ACGA8BBBaJRy8SKmiXnWYc1mDwsEarOVzJex1EQbd+WURC7RVzYZFtXOrjMNlx0L0lytax9Abh9LuX9ud9lprL63lAlN8oGBvTdPFsF8ca145rVDanFuHhk9rkV03sfkb/3WtzS7yDYR7AadWYe2bS2Kki4GrhMwYT/V5LEog7XKdO+64I02aNImWW2453SUHeZ8QwCC3JZ5JCQHM3iscNiBcJlquunYf80FELTSAtsEaaioWDtZg/z2V9NW1Fj74ObK57hq7WYEBXH5O9d+ri1io/nI+KzbY7F9VAshj6Zq/ffjv2ay/rK1PbSC7WEA+WePH2kA+q1xoxsrWzL93lZCZ+1O1gXkJpNktBx8XtteWW25JDzzwQPKhEvMlBDDm3Qtg7kIAszcBL2xobpomgKo5F/PhSFMmLZxwOW+eqjk3xNx7aroNVybhOsy5Lh5V1V8OLx6Yv0O+tr9xexrxtRG051rVU2Vkmb+b9N+rE+c6tYGYN4gPu2NwQAvwZW0gzgJg65PM1FV7WF1XOoE0B+a5WOfAgQNp1qxZUQajqbIsBLDOJ7sFfQsBDIsAFgVrcITp0ksvnXlwMcFL/123OdfFY2JjElZJMvvvYU6uzbku1skvdGg+Qw8Q2f6G7RPyN2KtEUZL55c5XtyQQexTyPtitMiuRk1rA7lEZF0abBUbrLXO2sPsnpFOIA05gkzhQ9H2AgGcPXu2bTeNtxcC2PgWxD0BIYDNEUBVU8XmDc5Zxjm2+Iufq2jMmzePmACqRE+NzsWKOMDDlznXxVOg+pAVmYSbNue6WGsMASJVCWCe/x40VOzL57qyhou9cNkHPmRA7vHcYa2m9X3z5sSuH3hW+GwAUcL5gTGLfOhcrZMJYN2VR5hUcwJpyBAuIYALd1IIoCupbmk/QgCzN561Fy5NwLbBGmj/3nvvJfm+8G/WqMRcSi2NvmoSxssMZtJ0wAb+zwmqVf+92B7h9FqxXh8aHF2ctrthuyQCeI+v7dGtia7/Hstm3Roy3TX5uE9dqyu3BnXe6gcQngMQI/wMhBBkMM+HztXaMRbyANZNAHm+7POI/+N5tyWA0CRutdVW9NRTT7mCpLF+hAA2Bn1nDCwEsD4CyAc1a/fUiEb23cuLNM0y5zIp5Uz6MVeZyHt62JyLQxq48cXm3DrzvDX1RIcaILLtL7ZN6gAjEtiVX2XdGrKm9jBr3LrXysEf+Js1jmkfOtM8fUU4MgH0WXkE8se10PFRiPPT9GPp7bffTkrA3X///SGJi9FchAAawSaNGAEhgG4IoOqHxmYaHJRMWHAQq+bc9KhqsAa/bHGPGpnL/+ZUG3VHzvp4SvLMhowVyBH+mKYV8bEGF2OEFiCC+YAA7vnVPenba3x7QfCRC7/K9FptXuYusK+zD3WtLrSBRUQcOLLrRzpS2JQsZWHjsiJHFezZtI4zAxcHiVTpA/e+9NJLdPTRR9PUqVOrNg3ufiGAwW1JXBMSApi9X3xwF0XX4iBk7R5H56q+e/h31sHLBxinYmHypxusoZoOXbxUfEls3ssrbc5losvz4gTYseXRM8FVN4WKSd9lWh0OoGHS/a0p36J919o3SQZd9PFiOhdeKz6SQPBduluYzqmudqbaQP6wVPcGP1M/LNnHEmOovoF1aQNdVuSogjcHTkEWITu6CaTTYzzzzDN0wQUX0A033FBl+CDvFQIY5LbEMykhgMUEkElZOjoXhyATF9bu6Zhz1WANlejolFJLz1SNnIU20OVXvgsJVrWianSuWlkjjySnxw/VTOoCp3QfbGIDfnUETbD/aFGZO+zLtjduSwf89wEJAazrwlpRSs4meXRdc3Pdr442MO+ZUc+YonMGOAJTDv5S8waiHT6ibIl2E5VHsBfp+sMsO8CsSvDLjBkz6KabbqLLL7/c9RZ7708IoHfIO2tAIYD5BBBJlzn3Hn91s+9eUYF51ZzL/8YodQRrcDQp/nZdkaCqpBdFgao+fKZElV+g+Ppvg0nYVQURU/+9IdcPoQPWrZcAqlpeEMHQU+NUfSay7k9rA9PPDZ4PVcOXV7Ixby5ZkcIYg88yJkumz6HLihxV8AQBTNcfhmyzNlA3+OX2228nkMBzzz23yvBB3isEMMhtiWdSQgDzCSCSnULzxF/fReZctW4uDiVdc64LSVGjDn0lGK4aBepinSpZgDkILwOYwE1fZC7nVFdfKlnQrSBSpEVSta9luG19/dY08usj6btf+W5dy1uk3xhS49gCwWSPXUewV7jYdYQDu8r2pmwe6UhhtjCw9g7/N9UGYu7447PyCNZbVH4ube4uKuN4880308svv0wnnXRSGYzB/14IYPBbFPYEhQDm7w80Eqy547vU6Nwsc25ay+dz99mnClpK18QoTSqY8JqYc11gwo7omFfTmk8X6ynqA2ssqrGL36vmXI42t9EiYT4ggAd9/SD6zle+U/cSF/Sv+rd2AsFXiRibZ1WfVywc5wx+pkvwq2xGljaQPxg5v56uGwaP67IkW5W1lJWf4+cgnUA6PcZVV12VfNgffvjhVYYP8l4hgEFuSzyTEgJYTACzCB+TQjXJsq1fjSuJUf3HkKfLdF51m3NdrDcdTRp6aTXbNePFy35QIHdMLvA39lkl41XNhllz+8Z136DvD/i+VwLI84iR4Ke14hyUgX1J742Kt45voI3suNYGuizJVmVduuXnygjuhRdeSMsvvzztv//+VYYP8l4hgEFuSzyTEgKYv1f4QkTJoKFDhyY3MeEzJVW+pEJ9oUCrAI1gmYYpTfjqIhV1YFCn5rOO+VbpM+2/l86NCNJbVz7IwdcNptHrjaZd19y1ypSd3au6NoQY7a7uDWtg1Qjdqjkr646K5qwFaqRwGVnK2kyXJdl0hQXzrFp+js3dnDeVz+3TTz+d1l9/fdp112bkWnfNOvcJAdRBSe7JRUAIYL5wvPrqqzR8+HDaZJNN6Pjjj3de1qluscxLn8Lm3LzUEqyxCJ3oqvipms+YTcJle8PBR9hbmLrqJEYggAevdzB9e81v1y2qhf2b+EHWMWFXvpVlH2Mw96uBTrb+gOnnhMkqB5vgOa/iGwi5Axa2FTmq7BETwKrVR9ilAHhyAuljjz2WdtppJ9pmm22qTCHIe4UABrkt8UxKCGDxXuFFe+SRR9Kf/vQnuvLKK5M6vDFdnD4FcwZ54BxvaqQhEz6XL5omMEoHw8SQYLjMf69ob5gY4QVeRx69ra7dig5Z/5DGCSBkKW3u97G3KuFLk6ayxO628h+yNhAEEBeCSHxd/IFXlQDy/HDuvfXWWzRq1ChaaaWV6KCDDqKNNtrI1/RrG0cIYG3QtqNjIYDl+4wXwdVXX00TJkygK664gtZee+3yRg3dkfZD4jqhPB18BeOPCx+xhpZYOmxTyZRLJ0a0wG+Pta+2pvayABGdOeXdM+jaQXToBofSLl/exaYbp23rJEZ5fq9qDj6fzw3vbWjaQASt4GOxCQJoU34O88YZjiTQe+yxB1100UXeI5mdPgzz3ZJ6uO4zpv5avXgXGyUEUB/FRx99lPbZZx866qij6Dvf+U4Q6UeKTIbplB+cV65Os6E+mvXeGYJJOC8oQE0g7sp/j839LiNnQQAP2+Aw+taXv1XvZlXsXU0XY5MPMi9CNx09XXF6zm+vk/RislV9Azlq2WfQlcvqI9tuu23iPvHee+/RZZddRoMHD3a+Z746FALoC+kOHUcIYLWNhRkBX49rrrkmnXrqqaUBFtV6L7/bxmSI3kOvHlKOgP4dvoMIyvz3qgYF6K90/p2uSe+W125JP9zgh8ERQKwVWKvBPyCCRcqQPM14HWS86r7p3B+SNrAJAuiy+sjWW29N06ZNo+uvv57uv//+qEvCCQHUeXrknlwEhABWFw4cRieccALNnDmTfv7zn9PnP//56p1otMChnyZ8tiZDJgpwNA+heogGDNa31EV6bcm49cIyOnBJere4Zgs6YuARtPOXd65jqk76ZNLLsgxzLRPEtIbPJkLXyWQddNKUNhAaZg6kwPMEH8yy7AIOlrugC5fVR+D799RTT0UX1JeFpxBAl1LWwr6EAJptOl4myCiPbPKXXnppklbA9tI157qIzk0HTPg059jiZNLeRZUJ1UdMrbnalI9YEQ4q6TUNEAEBPHLDI2mnL+1kArm3NqosQ8vKHzn4OZcg5L87wWUKcsj1k+HO4TogRiXOWZHCwBVj+vQBdFl9BKm9Zs+e7Uw+Tz755MQahOwDwAaYffOb36TrrrvO2Rh5HQkBrB3izh5ACKDd/v7hD39ITMKIKoN/YJUXTJEGqUrJLpsVMFFoQw1WTgmBl2eZH2SZyZD3xwUZt9m/ora2ASKbX7M5jdlwTJAEMCtCl7HgvG+uiVFd+2Tab1PaQOTjw8VpVaqceTZrxVmFjxnbqw4CeNddd9G9995rO7XK7YUAVoZMGqgICAG0l4d58+Yl5G/ZZZelc845JzM/Vl3mXPvZu/cdczGnOvvI0o417b9X13pVX7mqASKbXb0ZHb3R0TTsS8Pqmp52v3kfS6qGj8k4HPzrzpGoPfGab3QVEJM3TbXaDO7Bhw8+oIA7CGg6yXJdy3WVfBrr2XjjjWnWrFnOpgoNoBBAZ3BW6kiigCvB1f1mIYCWAHY1x8GCDPNTp05NUsbAL/DJJ5+klVdemXr16pUEX7APUlFZKDezqd4L5oaDHQetTvWQ6iOE1YJ9xxBdCOKA/+NSzblFBeXDWk35bExKq4EAjt14LH1zjW+WD+D4jixzu1rujuvX5mmfQkke7RiW3O44wh+4QLvtWjOtRgqD+PEYqm9gnRpXV8mnP/jgA9p5553p4YcfdrY1IIBIL4NzE39QOADvglVXXdXZGHkdiQawdog7ewAhgG729/3336cZM2bQxIkT6Y477khqtuIwRpDIlltuucAXyYe5xGZFXG+2qrbIZkwfbbNyvGFcJn9YL3yaXL84faxNd4yqASIb/2xjGrXmKBq+/vDE3FfXpWrHOeEyBztlafh051F35KzuPHzdV5c2kN0hcDbw/nAQCJ4XTtHCuQHZD9Plul0ln37ttddo9OjRdOeddzqbHrSJ+MjHxz76R5owBAgi0ASEsM5LCGCd6LagbyGA9ps8ZswYOu+882iVVVahTTfdlNZYY43EH2TIkCF08MEHR0cquHoIDnQcYLGRoqr+e7zeuipq2EuY2x7KAr4gZXUAACAASURBVERAJI49/Vi67J7L6LPLfJaW/XhZ2u7r29H448c7kQXeHyYTWdpx1vC5WHndvnIu5uiqDzb5s5nWRBuo7o9a45jJOJM+zJkr1bB/rVpyzeXHrqvk088991yinZs8ebIryLv1A61onz596Fe/+hUh5UydlxDAOtFtQd9CAO03GWXiUKJohRVWWNDZhx9+SCNHjkzMvhdeeGHy+5guNYAAJJDTa4S4hrwXlmpqL0u4HNN6XexBUYDI2FPH0hVvXkEfrfzRgqGWmLMEHfC5A+iscWdVHr7Mv9JHhG5d2rHKYHhqUGW96f0B6cNVFEGd5RvIxFDV1rnSBrrKPYhk/rDKwFJT1wUC2LdvX7r11lsTJUCdlxDAOtFtQd9CAOvbZBySKDt07bXXJgfO6quvXt9gNfSsBhCURc3WMHxul2oEKJdUK3th6cxPXS/MwfjjUouhMwef92QFiECDs8HwDej5jZ/vNpUvzvgiPXLDI6Xm4KL9YVLRhH+lTUCMz31xNZa6XphsOVm2y/1RfQPr1AYibylkxzb34PTp0xMXnR//+MeuYKabbropqSayzDLL0Ny5cxMTMBJMP/3007V/+AsBdLaN7exICGD9+3733XcnpuDx48cnX4SxkQoc8kj9gAMe2kDf8y+q0aqmY3E1r9hN4FUlWg0QgS/r5kdvTnPXndutm/6P96cHfvQA9e/ff5Hf6UboutqfqutL369WTAEpClm7bbtWtOf9VQOeOL8fBz3Z1Dj2oQ2ET7WL5NNTpkxJIoBhBnZ17bTTTonPH87IpZdemrbYYoskL6CPD34hgK52saX9CAH0s/Evv/wyDR8+nLbZZhuCz2BsfnWqSQnmbFemnTT6RQEBao1WvMDqJBRFJlI/EuN3FA4QQZTkN0Z+g/68yZ9zNYAgDax5xd/4g70IMSF2HorsswbTYqdpe1UNH/vwAQc8P9grzvnp+gwq0waCwCGYyOS5BQFEW1uyjuTMqAE8duxYvw9YTaP9f3vnHWxVdbbxlZkkk4wosRAR0aAgqKhYsWGJDaRYY0VsSBBs2BCRYsGCBQRFLEAUNQiaYEMTGzGxgZVIE0gQsaBiRcf43ze/lW/dbA7n3HvO7mufZ83cuZS991rrefc5+9lveV4RwISArZfLigCmZ2keNuedd54NE9CEfIMNNkhv8hhmClaR4jmJQ/ahmoKApvL3YthaxUuQz0P4qWhV0ZU2DGG49KpLzX1f32d+3PLHhsPIATx9o9PNlRdfaSVzXA9dHwSxG7s/nLeXY/BuJ/Vik+Q92pgHNli4AfGqJTcwzJqD3kDWxfxx5AbiXYOoRyWAEydOtBW7AwYMCLO93J0jApg7k/i1IBHAdO3FlyLk74477jBTpkwx2223XboLiGG2KN1Dksrfi2FbFS9RTyFhlzd22ajLzHP/fM5898vvTLMfmplDdjrEjLpslCXCWRLyJOwcfLHJU65rY95LPoPOu+dCu9V6yCvlBsaJbSVvIDmmvFTV6g2EAGKbqAQdof5tt93Wdm8qwhABLIIVM9yDCGA24KMZ2LdvXzN8+HBzxBFHhAqLZLPy/84azKNqzHNSKX8v+LCKkn+UFgY8NIsolF2pghqbQDBWr15tRc3xVocJ3aVlnzjmcS827D1P8kfViGKHCee6zzC/k6j0b8obyL1XLalDVSEOm/B9izRLz54947hlMr+GCGDmJvB7ASKA2dlv1apVNi9wjz32sEQwangj7Z2UI0XBRvI8UF24sLT7ia9kwneh7Fo9sEHvJ2H/qB6YtO/RWudzuZ/YOa40h1rXUOkzFEUUuzFvousiklSag8sXZV/BSuFqvYHYBA9gHATwwgsvNKeeeqot1CjCEAEsghUz3IMIYIbgG2P7aSIbsGDBAhsSRkrAl+G8R+h+sQ833Jd8MP/Ilz1Vs85qvZ/VXCvpY8oVBNRaARok+lmRoqRxKr2+E49OqrVacD5H+Mp1QUnrM5SGN9AVDAVzA5kXz3pj3kBHACk+i/rieNZZZ5nLL7/c7LzzzmnfUonMJwKYCKz1c1ERwOxtzRcc1WnIxEyaNMl06tQp+0WVWYEjE+6N3gnGupwwVw0ax5t6LgEILKqUFCXZKq0WLBqTzCktCKjluhwb7KiRhRxQreuNenwSBROlVe5Jd0GpBYNgZXSevIGOnMZBAE844QSrAdi2bdtaoMntsSKAuTWNHwsTAcyPnd5++20bnhg0aJANDUd92426s0rVhaUdNtw6g9IpSeQURd1PEucHPUVOaDeJeSpds6mQu6vCjGtNQVJUDzYOFkyEIUXOSx58aeLfgp+hONvexWHnoC5kEjqJ7iWFearxBjoC2KxZs8jb6969u20D16JFi8jXysMFRADzYAWP1yACmC/jffnll6Z3795mq622Mtddd12TXRfiXH1TZMJ5+poipk46pWj6ao2RMHTKeJglKSVSSiZ4gAYlWdIKFwY9RfVo48ZIUbCoxpG+IOFLo+1dHN8JefIGupeOOAjgfvvtZ+bMmWMlZYowRACLYMUM9yACmCH4FabmwTFy5Ejz97//3fatLO28EMeKK3kmnL5bVDLhige4Hg/MMFWKcewzrWuAJ7mQ/MSVJ9cUmXBepKYIeVIY1GOBiLOxI75gW5rD5yPhq3SP5MEbiGQMnvY4+ql37tzZLFq0KKmPROrXFQFMHfJiTSgCaMz06dPNhAkTzLx58wxyA3zZBAnLP//5Tyvg/Oabb9om3/369bMELcnBQ2TmzJlm2LBhdm177rlnpOlK8/dc+CXJUBRz4hljrnoIF2KgKCHhSjYKVn9m0UO3sRuv3gpEnGcMIsif3cizjSJ9cRhj95l1pTB7iCMHUAQw6t2Qr/N/kq/l+LcaEUBjm4MTeoWsUCUWJIAQwvbt25szzzzTjBgxwixZssQcfvjhtp3bBRdckLjBeVs96aST7PzoBlbr7ak1fy+pjQQfHj6I7MaBQ7VVwo7wBUV9gxW6rpq6WpvHsfaw14hCfMPOmcZ5QRu5kC7zOjkc/q1e7uusvIGQT374HETtBiICmManJr05RAAjYi0C+D8AX3zxRXPQQQetRQDvu+8+2zfy448/bvAKjh8/3laSLV26NCL61Z3+7bffmjPOOMO2MBozZox94JSOcmKxeerPGqV7SHUo5euoYEjYEQRW6KQ+3G9no2BLNR8IXzm0i1Ag0hQpd0U1zkbuvsZ+9ZbqkFT+J/cRLxRON9D9nVAwnldswNy1fk44FxHod955J19fFhFWoxBwBPB0qnXv/y+OUeeAlCOAF110kc0ZefrppxvQoYtHly5dbFPxOBKTq4GdL8HRo0ebRx991OYF4q18+eWXzdFHH20LRYLFAHntz1qtZ6waPHw4hv3iueDB4wapBdW27PJhj6Vr9K1ApBLhKxVdboxsBKvfg2TfR/tVu+ZgD+WkK4Wd3BTz8Jni88TvWr2BX3zxhVVZILe6KEMEsCiWzGgfIoCNewAJCaNCP23atIYDFy9ebDp27GhWrlxpWrVqlbjleBtGIoYvLiQM+DMPnV133dXQ3LxNmzb2rbjWN+LEF15mgtJiibzo50XFgn25sHupoC+Ez+Vc1ksuZF77J1dKjeDzE5dOItfJQhIo6j1c6/nBz3Kc3sBg8ZNLj+DFiTn4LDkb1uoNXL58uRk6dKh58skna91qbo8XAcytafxYmAhg4wQwDx7AXXbZxaxYscJ6HfnZeuutDU3NjzrqKFuc4mOFbRFaqpXK5rjqz1IPH3dYPeZClhaIZEH2S0m5Eyt3hM+9OMX18lSEMHitT66gNzCMDFI5wscanI34fnPH8NuF4Wv1BlLMd/vtt6/1Ml/rXvN2vAhg3izi2XpEABsngFOnTjWDBw/ONAfwk08+MZtuuulaRA+v5Nlnn23bKFElnFYoOs7bO69eonJ7LH1IlVZRV6vvVm85Y2CZZoFIuVzY0rB70i9MaVTNxvk5jONatXgDmyJ8lYqfSnMDa/UGkjKDssJdd90Vx5ZzcQ0RwFyYwd9FiAD+V8eLhxQ5gFT4rlmzxoYa8FhAtDp06GCrcK+44gqzbNky06NHD4NnMI0q4MbuLNbNGy05gfy0a9fOuxsxmD/l9PPysIlK1Z/BUGFYSRauXW/yOEl5xiqJl5fm8GVxTwWrZsN4xrJYc9Q5y3kDK708hfksNdZFpKncQPK4X3/9dRs9KcoQASyKJTPahwigMVT6UmUbbGnGn2fPnm32339/M3/+fDNw4ECrA9i8eXMzYMAAM3z48Iwstu605Ab279/fjBo1ynTr1s2LXMDSXWTdPaSx3LAkKnR9K5aI42aPY8+lostZdEKpBYtaPGO1XDfPx2ITIhNOTou/M8IQvkr7DOMNnDFjho3k5Om7O6odRQCjIljn54sAFuMG+PDDDw2Nzn/7299a2RqnU+bT7tLsHhIMFTJvaW5YtW3vouLrUxg86l7d+dXuubSwhvB5Y3mWca0viesUuWtKY+kRfM54mU66Uhibuc9spdzAyZMn27VkHbmJ8/4SAYwTzTq8lghgcYxOCIQvN8jg3XffbbuW+DaSCo/mOVSY1zB4kvdOuQIRRySc4HKQ8AVDunEVbCS5v3LXDu7ZZ/HoWkK6QQ9oUntuyhvo0nnQbt1iiy3M6aefnrbpE5tPBDAxaOvjwiKAxbIzX7hTpkwx48aNs7+333577zYYtWK2MSIRbH2XdDFALcCzZlcsEaekRi1rSPvYoJ0hdfzdeXKC4UJfCV8lPH0rBKqF8DW25x9++KHBGxh3hCKYG1jqDaSbE4oJqCl07drVHHvssWnf6onNJwKYGLT1cWERwGLaee7cuTavcciQIeaYY47xMi+w2u4hTVXoOtLnA5GoNjzq411byU5O5oM91YtOYp69vnEQvqw8oOW8gazlT3/6ky3c44X4kUceMS1btvTxI7TOmkUAC2HG7DYhApgd9knP/Nlnn9k+wp06dTJXXnmlTcL2bZTrHuIqdIOhQvYVDBOGrdDNAz55Jge14FOLneIoEKllbXk5luInCiayFI9OivDlzRuIkgPdm9544w0bITnllFO8fDEO4ioCmJdPsqfrEAH01HBVLpuw4uWXX27eeustKxWzySabVHlmfg4LVhW6UCG/g4LLeJF88PDVgqqrjEaOiPypvO/PEb5gv2NHzB05b4qYc64LFeINzFOYvhbb1XJsUhI5ldaQNuHLizeQ3L/rr7/evPfee2b69OnmwQcf9P7+EgGs5ZOmY9dBQASw+DcFX/h84V1zzTVWBJUWcnkelSp0IQN4/WgKDyGqB3KQ55BwkPA50hcHMS+KB7SWz1jQAxo34c8D4cvaG4juZvfu3c0TTzxhWrduXYtpcn2sCGCuzZP/xYkA5t9Gca2QVki9e/c25557bq7CH5UqdEs9fODgQsL8uV48RMHqUfYMAc5iVCJ8paLLcXkqXbtA9lsPvXWxaRzi0XkmfGl5A/Geo9uKRio/n376qVlvvfVsH2C6KsU5Ro4caSZNmmS+/fZbs9tuu9nOTPSKT2OIAKaBcoHnEAEssHHLbO2rr74yffr0Ma1atTKjR4+2DdbTHKUVujzwahXzdYQIgpCn7iFJ45h2/2RwDoZzs9BKLJcDmjTOWV8/KJ1STUW4b4SvMW8gnjo8+7W+3HGfkubiCB9SWJ07d7a6qPy0adMmEbPSVYRuTHQZadu2rbnqqqsM7UOXLFli95D0EAFMGuGCX18EsOAGLrM9HuRXX321ef75520XlM022ywxEIIPJ1e0wb8F5VjwIIXxGmXdPSQx0Bq5cJKEyBE+R/pKCZ+zUxhbRcEqSIiS0pKLsr6kzq2UD1kUwhfFG8i9OW/ePNu+8x//+IdZvny59b5B9g466CCz9dZbh/pOqdWWzEN1MVEV58Hl+3Ts2LE22pL0EAFMGuGCX18EMH0D85ZIPh5viHyZ80Dt1auXTUpOazDv448/bmViEEjdZ599Ypm6tPKTL2r+LakK3TS7h8QCUAwXCYaE8YCSMxZmBHMtIRvOE1su9B7m+nGf4wgRHiL2XQ85oC4fEu8vnyFH/txnqtrimrhtkfT12C9t24YNG2a/K7fccktDCgsePgjf0qVLra6fI3zbbLNNKoQvuG9Cvojtv/rqq2bPPfds+C+0BnfccUdz8803Jw0Te/5J4pPkeIK63nwcdhEBjAPF2q4BAcT7xpdZ1oOKOKRiCAv369ev5odqucrPYCEAZKKpys+oGASLBupFRw7MnHB0tRIiee6GUu09UA8FIpU8fGAE6cULGtZrXi3OWR/HvYpcy5gxY+x3ZbNmzcy+++5rvXv8bLfddqkTvlJMCDNDTBctWmQ6dOjQ8N8nnnii2WCDDWw3pqSHCGDSCBf8+iKA6Rs4TwSQ3a9Zs8b07dvXepJuvfXWRnNXGssLc56jLCRZglWU9RQmbCwk7AifC+nWmmuZ/iej+hl9k8hpbGeNhXSDqRLO84s9i5b7yt4WL17ckMO3YMECK9qMh488yFGjRpkddtjB3HPPPbadWx6GPIDZW0EewIg2EAGMCGCI0yGAhAfwVvFD+PXaa69NLFG5miVCDm655RYzY8YMmxfokqYRqeUhxEOnUpgQj19eIhHVdg+pBhNfjgmGhKmYdV5Zl2sZDOnmxU5xYJtkPmQc66t0jWoJXzlbca7z/PpcHc0+COMSziUSQni3ffv2DUUbiNcHQ/xff/21zbVj0OIyL6NcDiAFdngulQOYvJVEACNiLAIYEcAQpy9cuNCsv/769k32k08+MZdeeql57bXX7JdgGpVjlZbMA5U8xMsuu8zstddedj2EOKZNm7ZWDl/ec6+csC6/wTPuvqMhTB77KY5EBLuh8G8M7IPXBIJQJMJXDkQfCkSiEL7GPqtUzLp7PO9dfsCAQg1Xpfv222/bQg2Xw0c+XzWfU17w8rRXXuSpAp41a5bdD55KqoBJrUnju1wh4Ni/WuvrgiKA2dubcFbz5s2tSOkhhxyS+oKoprvxxhvt2ziElARmwsGQwAsvvNC0aNEi9TVFnTBIDKIUSkRdR1znB0lEuWpqVwzgcuSKTH7LYeo8v5CIrAtEkiB8lcivayUXt3h0HPftihUrGoo20OTjhdcRPsTos9KzjGNvwWvQZhOBfVJpdt99d+kAxg1wI9eTBzAi2CKAEQGM4XS+xKkme+yxx8yhhx4awxVruwRJzHQK2X///W01G4KptOMaMGCAFTedOHGi9Vj6OILhMh/aqTmMK5GIYDi3UnGND16xJO6lrApE0iJ8lTBzlfD8f5Ye748++qhBlmXu3LlWXsoRvj322CN0tXoS90pRrikPYFEsmdE+RADTB/7hhx+2lWwbb7yxVagnBPzSSy+Zd99915KvvAwebHfccYdVuf/DH/5gc3R8HD50D3F5e8GQLlhHkc/Jk1csrfsmmCOXlFcsa8JXyRv4448/Gn7SKoIiWuBkWebMmWP7jDvCx4tk2iLzad1jeZpHBDBP1vBwLSKA6RvtyCOPtDl/33//vdlwww2t5w2tK3JI8jggp0jEULzSo0cPL/PKXKFEXrqHOMIX7LThCF+c2m4uHxJiWU8SOXG0VGvKGxuFnCf1Oa8kHh3HfJ999llD0QbfX6StHHjggfZldu+997ahd410ERABTBfvws0mAlg4kyayId72jz/+eNOlSxczdOjQqhK2E1lIxItm1T0kSPgc6QvqJUImkpLPqVeJnLCh8Dx6+Gq57YNV4U4uJkwx0OrVq21kAi8fYse8QDjCh3JBnqIVteBTpGNFAItkzQz2IgKYAeieTgl5Qoph2bJlZvLkydZ76eNwOVM8FGvtOVrtfisRvqDXKCnCV2mN9dhJAyyaCoX7Tvgq2dvlv1ZbGEOf8JdfftkSvldeecWmHxxwwAHWw8eLn695wNV+Zn08TgTQR6vlaM0igDkyhgdL4WGJTiCagZBAxFl9HMGCgThCo1wvGM4t7aPLQzhtwlfOLnHv2xfbs29kU7CLqxIO2ov/z2NINyq+LgUAMoisE+kmbnzzzTeW6EH48PTxQsT/Q/j2228/G+LVyDcCIoD5tk/uVycCmHsT5XKBtGk67bTTbAHLcccd521eoJPRqDVx3hE+RyJKCZ9r1RUm9Ja0wYOFEiTq85PHdcaFg/PwQYKcvbh2NRXVca0hy+uwfwrMDjvsMCsztfnmmxuqdMEDokfhBsRvo402ynKZmjsEAiKAIUDTKf9DQARQd0NYBMgRoo8wfTkpYvFV1ysYIsQbWI4M4UkJVui6tmpBEpF3gexSO6cRCg97b0U5r5JmovPwYSeqZRlZyqZE2WM15+LxJHfPefi4V8nlpfiMbhrdu3ev5jI6JscIiADm2Dg+LE0E0Acr5XeNkKcrrrjCehSQivn1r3+d38U2srLS7iGQwGCIMNhHN9jz2MvNBhadlXZenLg1Rfgc8QsS+7AFInGuO+5rod2JHItrr4aGJ8UahHQp3th0001t55CxY8eaESNGWPH3c845J+5l6HopIiACmCLYRZxKBLCIVk13TzxMH3nkETNy5Ehz5513WjV83wYPRkJihIT5MwNPEeQh6DnybV/Vrjer6uhq1xc8LgzhqzRPUwUiYdaX1jl4MV9//fWG9mpffPGFlWMhpMsPPWkrjfnz59v7fKeddkpruZonAQREABMAtZ4uKQJYT9ZOdq8LFiwwJ598sunfv7/ND8xrXhkEIpjDBwng73j2XHcNCBHEj4KBvO4jbmvmNSRcifDFlcPni1Yi9yQt1Vw/XUTkEVx2hI9Waxr1hYAIYH3ZO/bdigDGDmldX/Drr7+25I/+wTfddFMuugE4AhHM4XOEL1j5GSR6rnsIx6F35lt+X9ibMA+C2UkTvnLYBAtjkuogUqtNeDF5++23GwjfypUrDS3VXLeNNm3a1HpJHV8wBEQAC2bQtLcjApg24v+djwdOUT1LEK3rrrvOPPXUU2bq1Km26jDNEReBCArqUizga5FLGOxdSDgNMhSXvcLss/ScoBcU7y9exrQGc8+bN6+hn+7y5cvNbrvt1kD46BRU1O+MtDAu2jwigEWzaMr7EQFMGfDAdEUmgext1qxZ5pJLLjHjxo2zchNJjSCBcIUbQQ9fuSKAWtbiU35cLftq6tg426kF58oT4avkDfzPf/5j80GjdNJoCl+8zMizuH66S5YsMTvvvHMD4aP3tghfZRTRNRwyZIh55513zKpVq8xzzz1nC16Cg4gEhS68jIIlrSxvv/32wmgcigA29SnT/zeKgAhgujfIjBkzzP3332/4nXTvTIoyJk2aZKgGxJMwYcIE07Fjx1Q3vHTpUnPiiSfanwEDBsQSSoVAQE6CIV02laSQb17z45I2ZtALyv2KR7DWkXfCV2k/wU4aleSBasECwrdw4cKGkO7ixYvNjjvu2ED4kFMS4aseUfCjcwmkuXPnzubZZ59dhwBC+LDj9OnTbdTlhBNOsCkdjz76aPUT5fhIEcAcG8eHpYkApmslkrjR3+LNP0nJFPLveNN9+umnTdu2bc1VV11lw7F4GXiYpTm+++47069fPzvl+PHja+4h6ghfUJbFET5H+lzxRpL7CkqmxNE9JMm1xn1tR4aqKYzxlfCVwyxKgQg4vPfeew2Ej8pbSJ7L4aOLTr3klsZ9P5ZeDxxLPYAffPCBIU8ST6HrWMSfIYz8X+vWrZNeVuLXFwFMHOJiTyACmK59+ZIibIFWV6kH0GnNxbEi8oXo23vuuefay+HB2myzzawGWO/eveOYoqZrsLdbb73VPPjgg7aVHOurNIKEz5E+PCOlostZeEtYW9juITUBlsODg4UxQQHlIhG+crAHbd5Y5xSOo0+2q9Iln48wriN8SK6kmVOYw1sosSWVI4CPP/649fihjxgcdP1Btqpnz56JrSetC4sApoV0QecRAUzXsIR/KZBYtGiRnRiPHPIpRx99dGwLIeT7q1/9ynYBQCbCja5du9qQ08033xzbXLVciAfk7NmzzcCBA83o0aNtWypIHPlWeJYge0HCFwzp5qGPbnCv1XQPqQUbX44NhoSxj3u5iDPnMq9Y8BKF1t7gwYPN0KFDzTbbbGMo1HA5fFTsbrXVVlZ0mVy0XXbZxd7XGrUhcMYZZ9iXRL4buK9KB/i+8MILa/1zOQL4wAMP2FaVdD8JjpYtW5oxY8ZYySrfhwig7xbMeP0igOkZgObrhGHvueces++++9p8IAgg45ZbbontC+nDDz80W265pSWZHTp0aNggeXgbbLCBufvuu9PbdJmZ2Pexxx5r2rVrZ5O3CY3xQ/P5oOhyFh6+WoAp7R5SVO9OJQ8fWPHgxaPieh/Xgp+Px5LTOmrUKFtUwGeJnFrIHj/k2dZTpXhS9qOFHS+FlQYYr7/++k0SQDyAfOdxveCQBzApy6V/3Z+kP2WxZhQBTM6eEATEWt944w2brEzYgdAZZKdbt26mV69etgk7XoM48/Ly6AFkTfQLfvHFF81bb71lEK3dcMMNbX4ilcI8SH3Mh4Ic0ZGBn7BFEsndgeGuXG1Il+N4uPK7qD11P/roowZZFrpu4D0ipIutybPlz3S/weOukR0ClXIA+W4lFB/MAcQzu2LFCuUAZmeu2GYWAYwIpQhgRAArnM5DcdiwYfbhwMORcOdee+1lyR9eP95OySdiJCEHUy4HkNZQhD6yyAEkZHr++edbzyekFwLIvu+66y4zceJE20d42223TcYYKVzVhYSrKZJIYTk1TeEIXyWh7MZkdIIEGM8KVcJ599w2Bg7hQvJz+XnttdfMxhtv3JDDRzoFe3SDl7vTTz/d5tZOmTKlJsx1cDwI8OLlXkAoeCM87O5XZuAlmwImco85ju8+vo9nzpwZzwIyvopCwBkbwPfpRQCTsyBfPOQFQcY22WQTOxHVuP/6179sKDjOoo/SXZDnRxUwWnzMT9iKOalKjNPbGAd65Cr27dvXDB8+B/2jqAAAGNVJREFU3BxxxBHeEohKRRJxYBTnNaIQvkrr8DUn8rPPPrNkjzw+CB9pCJAIPHv77LNPk1JN2Pz7779fJyQZp710rfII4MXDw1f6woH81YgRI+xJ6ABSCPfkk0/a4yCEfC8Svi/CEAEsghUz3IMIYPLgBz18aOERVsIDmPS48sorrYdtzZo1Zvfdd89EB7DaPZILSMUeel4QQV+T54NFEnnpHpIE4Stn1yiSKdXeJ1GPo4jjpZdesoTvlVdesQTPFW3gnUYjTkMI+IKACKAvlsrpOkUA0zGMI4GDBg2yla68hfK7EtFBasSJ7ibpKUxn99XNgseUqj2qogmpEX7zdbAX8uPSaKVWilFahK+cbfImk/PVV1/Z/FsIH78pIDjggANs0UaXLl3kufP1A6Z1WwREAHUjREJABDASfDWffNJJJ9lzpk2bVvFcKg3JiUM0tk+fPvY48rOKWmUaBAICQb7ODTfcYKulO3XqVDPGeTkhre4hWRK+SlgHQ8J42dIq8KHYCM8ehA9PH9iQcwrhox2hijXy8unQOuJAQAQwDhTr+BoigOkbf+7cuTbU6UZpEQiJ6E888YS5/vrr7cMLTax6G1QKn3rqqebCCy+0Ug6+FhZgW4RoIURxdQ/JI+Gr5A3ECwoRjmvvpfPQZQbC5wo38LxC9CB8fHY22mijevvoxLJfqvXJg2zWrJm9HvccVft00NDIDwIigPmxhZcrEQHMzmylxI/qYB6WeCmoLOT/kSygMOLqq6/ObqEZzUy+FlV7FLEgnh2mD21GS19rWuzoWqk11kmi0lp9IXyVSKDrnBJm76XXhFBSNOQ8fBRgEMqF8BHabdGiRR5M7v0aIIBgyouLry9f3huhig2IAFYBkg6pjIAIYD7uDlrEUSBCVdvKlStt5do555xjxo0bZ55//nkzY8aMtSQo6iUvEEJMRR8ennvvvdfqsPk62AuEhVA+HrFKD1afCV8l27hwOKHgWkLCCALPmTOnob0aIV6qcyEnFG9suummvt4OuV63I4CQ93pIPcm1MRpZnAigr5bLybpFAPNhCKp1H3roITN+/HiDNAXhT/L/aF7OFzAhYQbSB7/5zW/yseiUVgEhQrcLXcUJEyas1d4upSXENo0TT4YQUXGKbYtI+Cp5A104HBJYrmsGum4ILrv2aqtXr7b6mYQj+dl8881js4UuVBkBRwBbt25tRc5pIUl1PmF1jfwgIAKYH1t4uRIRwHyYDVkYPIB/+9vfbI9RBmFgSAKt2/B4MOgZTGEEEi/1NmhtRxENmoFnnnmmt6EpvLc8VJ13BTLIgAxSFd6Y8LLvNnfh8LPPPtt2YhgyZIh9yYHw8UP+K4LLjvDR0lAjPgSq7bOLyDUvonTogbQjaM8LGN7YnXbaKb4F6UqREBABjASfThYBzM89QOUrP3zRLl682IZ9CX/269fPCtQyzjrrLPvgDBJAHqr8pFVpmSVi9FPmIYaQK11Ngp0ZslxXY3NX8vBhL8ig6x5SD/Yjpwxx9L/85S/W441MCy83PXr0sL9JgdBIDoEwfXbdaiDlaCUiKq+RDwREAPNhB29XIQKYL9MtXLjQ5rvhDTzvvPNsn1zaprmBWDIt0+gogueIwhHkYtx49913rWfM9b7M1+7iWQ2kCaL82GOP2QrpvHmJagnp+tI9JKzluEfx8BFS5L7+97//bXbddVfr4SO0e+utt1pRdOwICdTILwIHH3ywtdm1116b30XW2cpEAOvM4HFvVwQwbkSjXw9pixtvvNH87ne/WyvcQgs5vINIMVApvGzZMlulh2agy83hQYrGIB6WIg9I1l//+lcrE4MnkP1nVa1YC+ErZ5M8dg8Je+9AaHkJcTl8vKCQsgDhw8PXoUOHdeyE7iM2pLrX10rvsHjl9bxnnnnGtG/f3uYbU4hDGgrhesS0IfAa+UBABDAfdvB2FSKA+Tbd5MmT7YMR0ocnhXAhuYE9e/a0WoKuQX2wv6+TlymVmcn3TsOtDlKMTuAxxxxjPaZphFGjEr5KO82ye0g49I0NYZOb6XL4+DPeZ0f4tt9++6qIeb1UtYfFOe3zCPMixI4UE98tFIGQjoLUjkZ+EBABzI8tvFyJCGC+zfbnP//Z3H///eaoo46ynhRCwhA/dPHc4A0dnUAanr/xxhu2mCAL6YasxGORVqGoAByoEnbitXFZNinCV259aXUPCYsNWLz33nsNhG/+/Pk2BcEVbUAU0iDhYdev84RAkRAQASySNTPYiwhgBqBHmPK0006zRPCiiy5quArE77jjjrPJ2RdffPFaV0+zhVyW4rF4kOivjFYgP+3atQuNsiuqIbzufvi3tKp0k+geEhYM1kKqAfl7ePnmzZtnsXUePu7FLF42wu5H5wmBIiEgAlgka2awFxHADECPMGX37t3N7rvv3tAZhLDw4Ycfbg477DCbC4i0yGuvvWYFh/l3BiSG0HHSIw/isawBbyBkuFu3blWFH7MmfJXsgi2R4Iijg0a1tgeL999/v8HDR0s+KnMd4aMzTRr3UrXr1XFCoJ4REAGsZ+vHsHcRwBhATPESVE1SSYlg9Mcff2yoCkZTjv7CDHJ0yCWD9BEKffrppy2BSCMfMC/isXRSAReqFgcPHryOhyqvhK/cbRS2g0YttyT5pdjupZdesikEiC07wsfLRjnB5lquX4/Hjhw50kyaNMnQuWS33XazqQlo6mkIgTgREAGME806vJYIoH9Gx7uHQDQkZ/bs2TYni0btn3/+uS2IQCj55JNPtnp5FJBQ0RdFKsVH8VhI8QUXXGA+/PBDQ5eVL7/80pIcikXIUUszpBv1Dgt2DyEhP6oHjhcHJ8vCiwPt1Bzh22OPPewLg0Z4BG666SabjsDLV9u2ba1k09SpU61kU7BYK/wMOlMI/BcBEUDdCZEQEAGMBF9mJ3/99de2J+rYsWNN165dracBceRBgwYZZGTwPjBo3wQZDGoF1rpo38RjIUzLly+35Bgc0FYklIp8BZWNSFuQt5aVbEyt+HM8eyIkTKEL4tfIpVS7/lWrVjXIspAesNFGGzUQPnTdfBDTDoNZVudsvfXWNkeXft4MvLhU7vNZ7d27d1bL0rwFREAEsIBGTXNLIoBpop3MXISEEdOF/NFKi9w/wk5IyDhvYTIzN33VtMVjIb9Ij0B6kMg58MADTcuWLS3xo4KaVnrVEqemd5f+EYT2IeR4ASFu5Spu8QS7og08wLwYgAM6fHvvvbe8UAmajRcxNDrBnfvPDV7SqJC++eabE5xdl643BEQA683iMe9XBDBmQDO4HKGm/v37m9tuu80ceeSRNuxJz1yqYQlBpTXyIh5LLhvevmC4jb6mhMd33nln20Yvahg1LUzLzePElukWg4eTEC57pkr3lVdeMb/85S9tLiiEj9ZdccviZLn3vM/NZ490C/QQEb12g3sPIo6gsoYQiAsBEcC4kKzT64gAFsPw6AWSq0dnDMjOzJkzbe4fXoe0Rt7FYymOoZvBO++8YyumN9lkk7SgiXUewv+QPXpFQ/5btWplPZsQvi5duliioZENAvIAZoN7vc4qAlivlo9p3yKAMQGZg8vQFWPo0KE2P4z8QLyAhKM0/ocAuXQPPfSQlYmhOMSHtlaQCjx7kD48feyB1ncUbhDiHzhwoOnTp48NL6qVWvZ3e7kcQEg67e6UA5i9fYq0AhHAIlkzg72IAGYAesJTpiH5kvAWEr88+ok8jEnUP+WUU3KVF0geI4QPskcuHxXN++23n/XwEdqliCM4KHihb/Sll15qw9wa2SIAEacKeNasWQYyyMsGVcBU66sKOFvbFG12EcCiWTTl/YgApgy4pssNAkjD4Dlr3bq1ueGGGzKTP6Gog+pcPHwQPrx6hHLx8FG80aJFiyYxo0IYvT6fC1ya3KRHB5Bniod5zZo1VrhdOoAeGc+jpYoAemSsPC5VBDCPVtGa0kIAiQ502l544QVz3333WbmOpAdSLnPmzGmo1HWSPnj4XNVy0mvQ9YWAEPAfARFA/22Y6Q5EADOFX5PnAAFC5o899pi5/PLLbSU1+ZNxDkK4dNjAw8fP6tWrDfp7ePj4ofOGhhAQAkKgVgREAGtFTMevhYAIoG4IIfBfBMjRIofu1FNPNf369SursVcNVlQbv/nmmw0h3Y8++shqwrluG1G6slQzv47xA4FvvvnGirbzAoC0D5qO/HY5vOU0Hv3YmVaZFgIigGkhXdB5RAALalhtKxQC5GydeeaZNh9w3LhxVlOvqYE4M9Iyrr3aihUrDC3VnIdvq622Um5eUyAG/p+Q/DXXXGMLJhwZ6tWrl3nwwQdruEq+DyVn87jjjrO6lOxXQwiEQUAEMAxqOqcBARFA3QxCYG0E8MJQyfnwww/b6k1axwUHeYNUETvCh/wOcjLOw9euXTsRvgg3FYTo+eeftx7Uog3n6Su9n2hNyMBz/Mc//tHeW7x8oO9ZTRFQ0XDSfqpDQASwOpx0VAUERAB1awiBdRHA8/Tcc8+Z888/34wePdo+hKnQ5YdQcadOnRoIHx0fVH0b311UJALYlCTT3Llz7b2Ex5mXCoTcSRFA2Bu5nx122EFanvHdWoW7kghg4Uya7oZEANPFW7P5hcD7779v++cSqqPHMpW6HTt2FOFL0IwQQDywhID5oSjn2muvNW3atElw1nQu/cEHH1jvXs+ePW14m240U6ZMMaeffrpNPaCLz5NPPhmM0Nh7rSkimc7qNUveEBABzJtFPFuPCKBnBtNyU0dAD990IV+4cKFZf/31zRZbbGE++eQTK3CNTiIesiyElLE/o5KXl5QAhgvjBtFiL+utt15DGsFpp51m90QLP5cHSLeeBx54wMoQjR071hYM4WVmQBRp8bjxxhunawTN5gUCIoBemCm/ixQBzK9ttDIhIASMJUrNmzc3TzzxhDnkkENyDQlFRJBXxsqVKy15++KLL6xHEy8ynVwQHXcewJtuuskWG1Epzj4pICLvj37OEGA8gxdccIG54oorQlel5xowLS4SAiKAkeDTySKAugfyjABenyFDhtgq21WrVtm8PMKwwYGQ8jnnnGOeeuop66Xp0aOHbcUFadDwHwGIEV4ytBoPPfTQ1De0YMECG4IeMGCAbckX9Ahz71G0QX9pioHo+nHsscdaKSEGXV4geHfffbdtC/fVV1+Zt956q+EatPujr/Pnn39uvXxUlP/0pz9t2OO+++5rjjnmGHPxxRenvm9NmH8ERADzb6Ncr1AEMNfmqfvFLV682Lz88svWe9K5c2fz7LPPrkMAIXxo702fPt0+WE844QQbdnv00UfrHj8fAaD6GpIPIfr0009tCBii9O6771q7JjEcqYPE8eJAbh7E8+c//7mVpIF8IuZdWsX7+OOP25ZvRx11lM1V5O/Dhw+3x3LPukF4lxw/+k/fcsstDZW9hIMhjfwbGpTcsxBE1vHqq6+abbbZxkycONGSRw0hUIqACKDuiUgIiABGgk8np4gAwrilHkCS6ikOwFNIxSSDP/Pw5f/o86vhFwJHHnmkzfmjJ/KGG25oPWSQsKRJELIz/fv3N23btjX33nuvJYF0bWE9hGIRBy8dS5cutWQOD6UbCDv37dvXeq5dziIhYDzUXI97kl7BvNDQFrBr1662CviZZ56xLQkhfFSWd+/ePfauNH7dCVptUwiIADaFkP6/UQREAHWD+IJAOQKIxwWP3w8//LDWNn7xi1+YRx55xOZaaQiBahGgCrdPnz4NhRrk5iHJQgpCJT0+jiGXb+bMmdZryA9evcmTJ1uyB5Glgvz444+3XkA8mngUBw0aZC655BIbQmZe/q4hBGpBQASwFrR07DoIiADqpsgCAZLjCYs5iYvSNRx44IHWGxIc5Qgg1ZM8UAmlBUfLli3NmDFjzMknn5zF9jSnxwhQ1ct9Q/iZUOzZZ59tizDKDXL2kK1ZtGiRJXP0eL7//vvt8aQkICFEB5Nhw4YZKoJdZxnC3O3bt7cagBpCICwCIoBhkdN5FgERQN0IWSBAcjzhr0rjZz/7WUM1pTumkgeQ3CmuFxzyAGZhVf/ndLmAkEDy8q677jpbxIF8C/9WKvWyZMkSc/DBB1sB54suush68vjztGnTzJ133ml+//vf23DvZpttZsPL//+dKx1J/2+VXOxABDAXZvB3ESKA/tqu3lZeKQeQXrvz5s1bKwdwl112sZIa9ZIDiLdpwoQJFofvvvvOFsWAlxvkRZ533nm21Rj5auSzjRw5st5uoar26wo9li9fbqvLydWDxFXSg8RbiGA4Fb5Ivtx22232d7du3RLPW6xqQzqosAiIABbWtOlsTAQwHZw1S3gEfvzxR/vwJaEeAV3Cw0hlOG9Mr169LOEh1MZxVFpyLDlZ9TKojv7yyy+tJ/Sss85aiwBCCAk3kn82YsQIg9eKnDRClmjMaZRHAI8fRJn7j6IQvNLlBvmnFHjgdaYfdBZi1bJhfSIgAlifdo9t1yKAsUGpCyWAAF48PHylXRjwXkFmGGixnXvuubaFFsdBCNEBREy33gZtxpBQCXoAybW87LLLzMcff9zgFRw/frz1VFHFqrEuAs7bd/3115tZs2aZO+64w+y0005qyaabJVcIiADmyhz+LUYE0D+bacVCoBIC5QgguWkUKeA9dQONuS5duphvvvnGNGvWTICWIODCwFTrUk1OXt+uu+4qnIRArhAQAcyVOfxbjAigfzbTioVALQSQkDBSJBQmuIHAdseOHW27slatWgnQCgioD7RujTwjIAKYZ+t4sDYRQA+MpCUKgSoRkAewSqB0mBAoAAIigAUwYpZbEAHMEn3NLQTiRaAcAZw6daoZPHiwcgDjhVpXEwKZIyACmLkJ/F6ACKDf9tPqhQAIkLNG4QcEkArfNWvW2CppetkS/qW1GFXACBQvW7bM0D+Z3EBVAev+EQL+IiAC6K/tcrFyEcBcmEGLEAKREKDSl+4qrlra5a7Nnj3b9tKdP3++GThwoNUBbN68uRkwYIAZPnx4pDl1shAQAtkiIAKYLf7ezy4C6L0JtQEhIASEgBCoQwREAOvQ6HFuWQQwTjR1LSEgBISAEBAC6SAgApgOzoWdRQSwsKbVxoSAEBACQqDACIgAFti4aWxNBDANlDWHEBACQkAICIF4ERABjBfPuruaCGDdmVwbFgJCQAgIgQIgIAJYACNmuQURwCzR19xCQAgIASEgBMIhIAIYDjedJQSEgBAQAkJACAgBIeApAj/xdN1athAQAkJACAgBISAEhEBIBEQAQwKn04SAEBACQkAICAEh4CsCIoC+Wk7rFgJCQAgIASEgBIRASAREAEMCp9OEgBAQAkJACAgBIeArAiKAvlpO6xYCQkAICAEhIASEQEgERABDAqfThIAQEAJCQAgIASHgKwIigL5aTusWAkJACAgBISAEhEBIBEQAQwKn04SAEBACQkAICAEh4CsCIoC+Wk7rFgJCQAgIASEgBIRASAREAEMCp9OEgBAQAkJACAgBIeArAiKAvlpO6xYCQkAICAEhIASEQEgERABDAqfThIAQEAJCQAgIASHgKwIigL5aTusWAkJACAgBISAEhEBIBEQAQwKn04SAEBACQkAICAEh4CsCIoC+Wk7rFgJCQAgIASEgBIRASAREAEMCp9OEgBAQAkJACAgBIeArAiKAvlpO6xYCQkAICAEhIASEQEgERABDAqfThIAQEAJCQAgIASHgKwIigL5aTusWAkJACAgBISAEhEBIBEQAQwKn04SAEBACQkAICAEh4CsCIoC+Wk7rFgJCQAgIASEgBIRASAREAEMCp9OEgBAQAkJACAgBIeArAiKAvlpO6xYCQkAICAEhIASEQEgERABDAqfThIAQEAJCQAgIASHgKwIigL5aTusWAkJACAgBISAEhEBIBEQAQwKn04SAEBACQkAICAEh4CsCIoC+Wk7rFgJCQAgIASEgBIRASAREAEMCp9OEgBAQAkJACAgBIeArAiKAvlpO6xYCQkAICAEhIASEQEgERABDAqfThIAQEAJCQAgIASHgKwIigL5aTusWAkJACAgBISAEhEBIBEQAQwKn04SAEBACQkAICAEh4CsCIoC+Wk7rFgJCQAgIASEgBIRASAREAEMCp9OEgBAQAkJACAgBIeArAiKAvlpO6xYCQkAICAEhIASEQEgERABDAqfThIAQEAJCQAgIASHgKwIigL5aTusWAkJACAgBISAEhEBIBEQAQwKn04SAEBACQkAICAEh4CsCIoC+Wk7rFgJCQAgIASEgBIRASAREAEMCp9OEgBAQAkJACAgBIeArAiKAvlpO6xYCQkAICAEhIASEQEgERABDAqfThIAQEAJCQAgIASHgKwIigL5aTusWAkJACAgBISAEhEBIBEQAQwKn04SAEBACQkAICAEh4CsCIoC+Wk7rFgJCQAgIASEgBIRASAREAEMCp9OEgBAQAkJACAgBIeArAiKAvlpO6xYCQkAICAEhIASEQEgE/g8KUzzJi5a7fQAAAABJRU5ErkJggg==\">"
      ],
      "text/plain": [
       "<IPython.core.display.HTML object>"
      ]
     },
     "metadata": {},
     "output_type": "display_data"
    }
   ],
   "source": [
    "l1 = 10\n",
    "l2 = 10\n",
    "l3 = 2\n",
    "l4 = 5\n",
    "\n",
    "p0 = (0, 0, 0)\n",
    "p1 = (0, 0, l1)\n",
    "p2 = (0, 0, l1 + l2)\n",
    "p3 = (0, l3, l1 + l2)\n",
    "p4 = (0, l3, l1 + l2 + l4)\n",
    "\n",
    "points = [p0, p1, p2, p3, p4]\n",
    "\n",
    "plot_arm(points)"
   ]
  },
  {
   "cell_type": "markdown",
   "metadata": {},
   "source": [
    "Define all variables and angles. $l_3$ can be negative depending on design and assembly."
   ]
  },
  {
   "cell_type": "code",
   "execution_count": 10,
   "metadata": {
    "collapsed": false
   },
   "outputs": [],
   "source": [
    "theta1, theta2, theta3, theta4, l3 = symbols('theta_1 theta_2 theta_3 theta_4 l_3', real=True)\n",
    "l1, l2, l4 = symbols('l_1 l_2 l_4', positive=True)\n",
    "\n",
    "o0 = (0, 0, 0)\n",
    "o1 = (0, 0, l1)\n",
    "o3 = (0, l3, l1 + l2)"
   ]
  },
  {
   "cell_type": "markdown",
   "metadata": {},
   "source": [
    "Solving for $p_0$ is trivial. It is always at the defined origin."
   ]
  },
  {
   "cell_type": "code",
   "execution_count": 11,
   "metadata": {
    "collapsed": false
   },
   "outputs": [
    {
     "data": {
      "text/latex": [
       "$$\\left[\\begin{matrix}0\\\\0\\\\0\\end{matrix}\\right]$$"
      ],
      "text/plain": [
       "⎡0⎤\n",
       "⎢ ⎥\n",
       "⎢0⎥\n",
       "⎢ ⎥\n",
       "⎣0⎦"
      ]
     },
     "execution_count": 11,
     "metadata": {},
     "output_type": "execute_result"
    }
   ],
   "source": [
    "p0 = Matrix((0, 0, 0))\n",
    "p0"
   ]
  },
  {
   "cell_type": "markdown",
   "metadata": {},
   "source": [
    "To solve for $p_1$, account for $\\theta_1$ and $\\theta_2$."
   ]
  },
  {
   "cell_type": "code",
   "execution_count": 12,
   "metadata": {
    "collapsed": false
   },
   "outputs": [
    {
     "data": {
      "text/latex": [
       "$$\\left[\\begin{matrix}l_{1} \\sin{\\left (\\theta_{2} \\right )} \\cos{\\left (\\theta_{1} \\right )}\\\\l_{1} \\sin{\\left (\\theta_{1} \\right )} \\sin{\\left (\\theta_{2} \\right )}\\\\l_{1} \\cos{\\left (\\theta_{2} \\right )}\\end{matrix}\\right]$$"
      ],
      "text/plain": [
       "⎡l₁⋅sin(θ₂)⋅cos(θ₁)⎤\n",
       "⎢                  ⎥\n",
       "⎢l₁⋅sin(θ₁)⋅sin(θ₂)⎥\n",
       "⎢                  ⎥\n",
       "⎣    l₁⋅cos(θ₂)    ⎦"
      ]
     },
     "execution_count": 12,
     "metadata": {},
     "output_type": "execute_result"
    }
   ],
   "source": [
    "p1 = Matrix((0, 0, l1))\n",
    "p1_sym = symbols('p_1x p_1y p_1z')\n",
    "\n",
    "p1 = rotate(p1, theta2, o0, ny)\n",
    "p1 = rotate(p1, theta1, o0, nz)\n",
    "\n",
    "p1 = p1.expand()\n",
    "\n",
    "simplify(p1)"
   ]
  },
  {
   "cell_type": "markdown",
   "metadata": {},
   "source": [
    "To solve for $p_2$, account for $\\theta_1$ through $\\theta_3$ (inclusive)."
   ]
  },
  {
   "cell_type": "code",
   "execution_count": 13,
   "metadata": {
    "collapsed": false,
    "scrolled": true
   },
   "outputs": [
    {
     "data": {
      "text/latex": [
       "$$\\left[\\begin{matrix}l_{2} \\sin{\\left (\\theta_{2} + \\theta_{3} \\right )} \\cos{\\left (\\theta_{1} \\right )} + p_{1x}\\\\l_{2} \\sin{\\left (\\theta_{1} \\right )} \\sin{\\left (\\theta_{2} + \\theta_{3} \\right )} + p_{1y}\\\\l_{2} \\cos{\\left (\\theta_{2} + \\theta_{3} \\right )} + p_{1z}\\end{matrix}\\right]$$"
      ],
      "text/plain": [
       "⎡l₂⋅sin(θ₂ + θ₃)⋅cos(θ₁) + p₁ₓ ⎤\n",
       "⎢                              ⎥\n",
       "⎢l₂⋅sin(θ₁)⋅sin(θ₂ + θ₃) + p_1y⎥\n",
       "⎢                              ⎥\n",
       "⎣    l₂⋅cos(θ₂ + θ₃) + p_1z    ⎦"
      ]
     },
     "execution_count": 13,
     "metadata": {},
     "output_type": "execute_result"
    }
   ],
   "source": [
    "p2 = Matrix((0, 0, l1 + l2))\n",
    "p2_sym = symbols('p_2x p_2y p_2z')\n",
    "\n",
    "p2 = rotate(p2, theta3, o1, ny)\n",
    "p2 = rotate(p2, theta2, o0, ny)\n",
    "p2 = rotate(p2, theta1, o0, nz)\n",
    "\n",
    "p2 = p2.expand()\n",
    "\n",
    "pretty(p2, p1, p1_sym)"
   ]
  },
  {
   "cell_type": "markdown",
   "metadata": {},
   "source": [
    "To solve for $p_3$, account for the same rotations as $p_2$."
   ]
  },
  {
   "cell_type": "code",
   "execution_count": 14,
   "metadata": {
    "collapsed": false
   },
   "outputs": [
    {
     "data": {
      "text/latex": [
       "$$\\left[\\begin{matrix}- l_{3} \\sin{\\left (\\theta_{1} \\right )} + p_{2x}\\\\l_{3} \\cos{\\left (\\theta_{1} \\right )} + p_{2y}\\\\p_{2z}\\end{matrix}\\right]$$"
      ],
      "text/plain": [
       "⎡-l₃⋅sin(θ₁) + p₂ₓ⎤\n",
       "⎢                 ⎥\n",
       "⎢l₃⋅cos(θ₁) + p_2y⎥\n",
       "⎢                 ⎥\n",
       "⎣      p_2z       ⎦"
      ]
     },
     "execution_count": 14,
     "metadata": {},
     "output_type": "execute_result"
    }
   ],
   "source": [
    "p3 = Matrix((0, l3, l1 + l2))\n",
    "p3_sym = symbols('p_3x p_3y p_3z')\n",
    "\n",
    "p3 = rotate(p3, theta3, o1, ny)\n",
    "p3 = rotate(p3, theta2, o0, ny)\n",
    "p3 = rotate(p3, theta1, o0, nz)\n",
    "\n",
    "p3 = p3.expand()\n",
    "\n",
    "pretty(p3, p2, p2_sym)"
   ]
  },
  {
   "cell_type": "markdown",
   "metadata": {},
   "source": [
    "To solve for $p_4$, account for the all rotations."
   ]
  },
  {
   "cell_type": "code",
   "execution_count": 15,
   "metadata": {
    "collapsed": false,
    "scrolled": true
   },
   "outputs": [
    {
     "data": {
      "text/latex": [
       "$$\\left[\\begin{matrix}l_{4} \\sin{\\left (\\theta_{2} + \\theta_{3} + \\theta_{4} \\right )} \\cos{\\left (\\theta_{1} \\right )} + p_{3x}\\\\l_{4} \\sin{\\left (\\theta_{1} \\right )} \\sin{\\left (\\theta_{2} + \\theta_{3} + \\theta_{4} \\right )} + p_{3y}\\\\l_{4} \\cos{\\left (\\theta_{2} + \\theta_{3} + \\theta_{4} \\right )} + p_{3z}\\end{matrix}\\right]$$"
      ],
      "text/plain": [
       "⎡l₄⋅sin(θ₂ + θ₃ + θ₄)⋅cos(θ₁) + p₃ₓ ⎤\n",
       "⎢                                   ⎥\n",
       "⎢l₄⋅sin(θ₁)⋅sin(θ₂ + θ₃ + θ₄) + p_3y⎥\n",
       "⎢                                   ⎥\n",
       "⎣    l₄⋅cos(θ₂ + θ₃ + θ₄) + p_3z    ⎦"
      ]
     },
     "execution_count": 15,
     "metadata": {},
     "output_type": "execute_result"
    }
   ],
   "source": [
    "p4 = Matrix((0, l3, l1 + l2 + l4))\n",
    "\n",
    "p4 = rotate(p4, theta4, o3, ny)\n",
    "p4 = rotate(p4, theta3, o1, ny)\n",
    "p4 = rotate(p4, theta2, o0, ny)\n",
    "p4 = rotate(p4, theta1, o0, nz)\n",
    "\n",
    "p4 = p4.expand()\n",
    "\n",
    "pretty(p4, p3, p3_sym)"
   ]
  },
  {
   "cell_type": "markdown",
   "metadata": {
    "collapsed": true
   },
   "source": [
    "Graph some test conditions."
   ]
  },
  {
   "cell_type": "code",
   "execution_count": 16,
   "metadata": {
    "collapsed": false
   },
   "outputs": [],
   "source": [
    "def graph_fk(lengths, angles):\n",
    "    sub = [(theta1, angles[0]), (theta2, angles[1]), (theta3, angles[2]), (theta4, angles[3]),\n",
    "           (l1, lengths[0]), (l2, lengths[1]), (l3, lengths[2]), (l4, lengths[3])]\n",
    "    points = [p0, p1.subs(sub), p2.subs(sub), p3.subs(sub), p4.subs(sub)]\n",
    "    \n",
    "    plot_arm(points)\n",
    "    \n",
    "    return points"
   ]
  },
  {
   "cell_type": "code",
   "execution_count": 17,
   "metadata": {
    "collapsed": false
   },
   "outputs": [
    {
     "data": {
      "application/javascript": [
       "/* Put everything inside the global mpl namespace */\n",
       "window.mpl = {};\n",
       "\n",
       "mpl.get_websocket_type = function() {\n",
       "    if (typeof(WebSocket) !== 'undefined') {\n",
       "        return WebSocket;\n",
       "    } else if (typeof(MozWebSocket) !== 'undefined') {\n",
       "        return MozWebSocket;\n",
       "    } else {\n",
       "        alert('Your browser does not have WebSocket support.' +\n",
       "              'Please try Chrome, Safari or Firefox ≥ 6. ' +\n",
       "              'Firefox 4 and 5 are also supported but you ' +\n",
       "              'have to enable WebSockets in about:config.');\n",
       "    };\n",
       "}\n",
       "\n",
       "mpl.figure = function(figure_id, websocket, ondownload, parent_element) {\n",
       "    this.id = figure_id;\n",
       "\n",
       "    this.ws = websocket;\n",
       "\n",
       "    this.supports_binary = (this.ws.binaryType != undefined);\n",
       "\n",
       "    if (!this.supports_binary) {\n",
       "        var warnings = document.getElementById(\"mpl-warnings\");\n",
       "        if (warnings) {\n",
       "            warnings.style.display = 'block';\n",
       "            warnings.textContent = (\n",
       "                \"This browser does not support binary websocket messages. \" +\n",
       "                    \"Performance may be slow.\");\n",
       "        }\n",
       "    }\n",
       "\n",
       "    this.imageObj = new Image();\n",
       "\n",
       "    this.context = undefined;\n",
       "    this.message = undefined;\n",
       "    this.canvas = undefined;\n",
       "    this.rubberband_canvas = undefined;\n",
       "    this.rubberband_context = undefined;\n",
       "    this.format_dropdown = undefined;\n",
       "\n",
       "    this.image_mode = 'full';\n",
       "\n",
       "    this.root = $('<div/>');\n",
       "    this._root_extra_style(this.root)\n",
       "    this.root.attr('style', 'display: inline-block');\n",
       "\n",
       "    $(parent_element).append(this.root);\n",
       "\n",
       "    this._init_header(this);\n",
       "    this._init_canvas(this);\n",
       "    this._init_toolbar(this);\n",
       "\n",
       "    var fig = this;\n",
       "\n",
       "    this.waiting = false;\n",
       "\n",
       "    this.ws.onopen =  function () {\n",
       "            fig.send_message(\"supports_binary\", {value: fig.supports_binary});\n",
       "            fig.send_message(\"send_image_mode\", {});\n",
       "            fig.send_message(\"refresh\", {});\n",
       "        }\n",
       "\n",
       "    this.imageObj.onload = function() {\n",
       "            if (fig.image_mode == 'full') {\n",
       "                // Full images could contain transparency (where diff images\n",
       "                // almost always do), so we need to clear the canvas so that\n",
       "                // there is no ghosting.\n",
       "                fig.context.clearRect(0, 0, fig.canvas.width, fig.canvas.height);\n",
       "            }\n",
       "            fig.context.drawImage(fig.imageObj, 0, 0);\n",
       "        };\n",
       "\n",
       "    this.imageObj.onunload = function() {\n",
       "        this.ws.close();\n",
       "    }\n",
       "\n",
       "    this.ws.onmessage = this._make_on_message_function(this);\n",
       "\n",
       "    this.ondownload = ondownload;\n",
       "}\n",
       "\n",
       "mpl.figure.prototype._init_header = function() {\n",
       "    var titlebar = $(\n",
       "        '<div class=\"ui-dialog-titlebar ui-widget-header ui-corner-all ' +\n",
       "        'ui-helper-clearfix\"/>');\n",
       "    var titletext = $(\n",
       "        '<div class=\"ui-dialog-title\" style=\"width: 100%; ' +\n",
       "        'text-align: center; padding: 3px;\"/>');\n",
       "    titlebar.append(titletext)\n",
       "    this.root.append(titlebar);\n",
       "    this.header = titletext[0];\n",
       "}\n",
       "\n",
       "\n",
       "\n",
       "mpl.figure.prototype._canvas_extra_style = function(canvas_div) {\n",
       "\n",
       "}\n",
       "\n",
       "\n",
       "mpl.figure.prototype._root_extra_style = function(canvas_div) {\n",
       "\n",
       "}\n",
       "\n",
       "mpl.figure.prototype._init_canvas = function() {\n",
       "    var fig = this;\n",
       "\n",
       "    var canvas_div = $('<div/>');\n",
       "\n",
       "    canvas_div.attr('style', 'position: relative; clear: both; outline: 0');\n",
       "\n",
       "    function canvas_keyboard_event(event) {\n",
       "        return fig.key_event(event, event['data']);\n",
       "    }\n",
       "\n",
       "    canvas_div.keydown('key_press', canvas_keyboard_event);\n",
       "    canvas_div.keyup('key_release', canvas_keyboard_event);\n",
       "    this.canvas_div = canvas_div\n",
       "    this._canvas_extra_style(canvas_div)\n",
       "    this.root.append(canvas_div);\n",
       "\n",
       "    var canvas = $('<canvas/>');\n",
       "    canvas.addClass('mpl-canvas');\n",
       "    canvas.attr('style', \"left: 0; top: 0; z-index: 0; outline: 0\")\n",
       "\n",
       "    this.canvas = canvas[0];\n",
       "    this.context = canvas[0].getContext(\"2d\");\n",
       "\n",
       "    var rubberband = $('<canvas/>');\n",
       "    rubberband.attr('style', \"position: absolute; left: 0; top: 0; z-index: 1;\")\n",
       "\n",
       "    var pass_mouse_events = true;\n",
       "\n",
       "    canvas_div.resizable({\n",
       "        start: function(event, ui) {\n",
       "            pass_mouse_events = false;\n",
       "        },\n",
       "        resize: function(event, ui) {\n",
       "            fig.request_resize(ui.size.width, ui.size.height);\n",
       "        },\n",
       "        stop: function(event, ui) {\n",
       "            pass_mouse_events = true;\n",
       "            fig.request_resize(ui.size.width, ui.size.height);\n",
       "        },\n",
       "    });\n",
       "\n",
       "    function mouse_event_fn(event) {\n",
       "        if (pass_mouse_events)\n",
       "            return fig.mouse_event(event, event['data']);\n",
       "    }\n",
       "\n",
       "    rubberband.mousedown('button_press', mouse_event_fn);\n",
       "    rubberband.mouseup('button_release', mouse_event_fn);\n",
       "    // Throttle sequential mouse events to 1 every 20ms.\n",
       "    rubberband.mousemove('motion_notify', mouse_event_fn);\n",
       "\n",
       "    rubberband.mouseenter('figure_enter', mouse_event_fn);\n",
       "    rubberband.mouseleave('figure_leave', mouse_event_fn);\n",
       "\n",
       "    canvas_div.on(\"wheel\", function (event) {\n",
       "        event = event.originalEvent;\n",
       "        event['data'] = 'scroll'\n",
       "        if (event.deltaY < 0) {\n",
       "            event.step = 1;\n",
       "        } else {\n",
       "            event.step = -1;\n",
       "        }\n",
       "        mouse_event_fn(event);\n",
       "    });\n",
       "\n",
       "    canvas_div.append(canvas);\n",
       "    canvas_div.append(rubberband);\n",
       "\n",
       "    this.rubberband = rubberband;\n",
       "    this.rubberband_canvas = rubberband[0];\n",
       "    this.rubberband_context = rubberband[0].getContext(\"2d\");\n",
       "    this.rubberband_context.strokeStyle = \"#000000\";\n",
       "\n",
       "    this._resize_canvas = function(width, height) {\n",
       "        // Keep the size of the canvas, canvas container, and rubber band\n",
       "        // canvas in synch.\n",
       "        canvas_div.css('width', width)\n",
       "        canvas_div.css('height', height)\n",
       "\n",
       "        canvas.attr('width', width);\n",
       "        canvas.attr('height', height);\n",
       "\n",
       "        rubberband.attr('width', width);\n",
       "        rubberband.attr('height', height);\n",
       "    }\n",
       "\n",
       "    // Set the figure to an initial 600x600px, this will subsequently be updated\n",
       "    // upon first draw.\n",
       "    this._resize_canvas(600, 600);\n",
       "\n",
       "    // Disable right mouse context menu.\n",
       "    $(this.rubberband_canvas).bind(\"contextmenu\",function(e){\n",
       "        return false;\n",
       "    });\n",
       "\n",
       "    function set_focus () {\n",
       "        canvas.focus();\n",
       "        canvas_div.focus();\n",
       "    }\n",
       "\n",
       "    window.setTimeout(set_focus, 100);\n",
       "}\n",
       "\n",
       "mpl.figure.prototype._init_toolbar = function() {\n",
       "    var fig = this;\n",
       "\n",
       "    var nav_element = $('<div/>')\n",
       "    nav_element.attr('style', 'width: 100%');\n",
       "    this.root.append(nav_element);\n",
       "\n",
       "    // Define a callback function for later on.\n",
       "    function toolbar_event(event) {\n",
       "        return fig.toolbar_button_onclick(event['data']);\n",
       "    }\n",
       "    function toolbar_mouse_event(event) {\n",
       "        return fig.toolbar_button_onmouseover(event['data']);\n",
       "    }\n",
       "\n",
       "    for(var toolbar_ind in mpl.toolbar_items) {\n",
       "        var name = mpl.toolbar_items[toolbar_ind][0];\n",
       "        var tooltip = mpl.toolbar_items[toolbar_ind][1];\n",
       "        var image = mpl.toolbar_items[toolbar_ind][2];\n",
       "        var method_name = mpl.toolbar_items[toolbar_ind][3];\n",
       "\n",
       "        if (!name) {\n",
       "            // put a spacer in here.\n",
       "            continue;\n",
       "        }\n",
       "        var button = $('<button/>');\n",
       "        button.addClass('ui-button ui-widget ui-state-default ui-corner-all ' +\n",
       "                        'ui-button-icon-only');\n",
       "        button.attr('role', 'button');\n",
       "        button.attr('aria-disabled', 'false');\n",
       "        button.click(method_name, toolbar_event);\n",
       "        button.mouseover(tooltip, toolbar_mouse_event);\n",
       "\n",
       "        var icon_img = $('<span/>');\n",
       "        icon_img.addClass('ui-button-icon-primary ui-icon');\n",
       "        icon_img.addClass(image);\n",
       "        icon_img.addClass('ui-corner-all');\n",
       "\n",
       "        var tooltip_span = $('<span/>');\n",
       "        tooltip_span.addClass('ui-button-text');\n",
       "        tooltip_span.html(tooltip);\n",
       "\n",
       "        button.append(icon_img);\n",
       "        button.append(tooltip_span);\n",
       "\n",
       "        nav_element.append(button);\n",
       "    }\n",
       "\n",
       "    var fmt_picker_span = $('<span/>');\n",
       "\n",
       "    var fmt_picker = $('<select/>');\n",
       "    fmt_picker.addClass('mpl-toolbar-option ui-widget ui-widget-content');\n",
       "    fmt_picker_span.append(fmt_picker);\n",
       "    nav_element.append(fmt_picker_span);\n",
       "    this.format_dropdown = fmt_picker[0];\n",
       "\n",
       "    for (var ind in mpl.extensions) {\n",
       "        var fmt = mpl.extensions[ind];\n",
       "        var option = $(\n",
       "            '<option/>', {selected: fmt === mpl.default_extension}).html(fmt);\n",
       "        fmt_picker.append(option)\n",
       "    }\n",
       "\n",
       "    // Add hover states to the ui-buttons\n",
       "    $( \".ui-button\" ).hover(\n",
       "        function() { $(this).addClass(\"ui-state-hover\");},\n",
       "        function() { $(this).removeClass(\"ui-state-hover\");}\n",
       "    );\n",
       "\n",
       "    var status_bar = $('<span class=\"mpl-message\"/>');\n",
       "    nav_element.append(status_bar);\n",
       "    this.message = status_bar[0];\n",
       "}\n",
       "\n",
       "mpl.figure.prototype.request_resize = function(x_pixels, y_pixels) {\n",
       "    // Request matplotlib to resize the figure. Matplotlib will then trigger a resize in the client,\n",
       "    // which will in turn request a refresh of the image.\n",
       "    this.send_message('resize', {'width': x_pixels, 'height': y_pixels});\n",
       "}\n",
       "\n",
       "mpl.figure.prototype.send_message = function(type, properties) {\n",
       "    properties['type'] = type;\n",
       "    properties['figure_id'] = this.id;\n",
       "    this.ws.send(JSON.stringify(properties));\n",
       "}\n",
       "\n",
       "mpl.figure.prototype.send_draw_message = function() {\n",
       "    if (!this.waiting) {\n",
       "        this.waiting = true;\n",
       "        this.ws.send(JSON.stringify({type: \"draw\", figure_id: this.id}));\n",
       "    }\n",
       "}\n",
       "\n",
       "\n",
       "mpl.figure.prototype.handle_save = function(fig, msg) {\n",
       "    var format_dropdown = fig.format_dropdown;\n",
       "    var format = format_dropdown.options[format_dropdown.selectedIndex].value;\n",
       "    fig.ondownload(fig, format);\n",
       "}\n",
       "\n",
       "\n",
       "mpl.figure.prototype.handle_resize = function(fig, msg) {\n",
       "    var size = msg['size'];\n",
       "    if (size[0] != fig.canvas.width || size[1] != fig.canvas.height) {\n",
       "        fig._resize_canvas(size[0], size[1]);\n",
       "        fig.send_message(\"refresh\", {});\n",
       "    };\n",
       "}\n",
       "\n",
       "mpl.figure.prototype.handle_rubberband = function(fig, msg) {\n",
       "    var x0 = msg['x0'];\n",
       "    var y0 = fig.canvas.height - msg['y0'];\n",
       "    var x1 = msg['x1'];\n",
       "    var y1 = fig.canvas.height - msg['y1'];\n",
       "    x0 = Math.floor(x0) + 0.5;\n",
       "    y0 = Math.floor(y0) + 0.5;\n",
       "    x1 = Math.floor(x1) + 0.5;\n",
       "    y1 = Math.floor(y1) + 0.5;\n",
       "    var min_x = Math.min(x0, x1);\n",
       "    var min_y = Math.min(y0, y1);\n",
       "    var width = Math.abs(x1 - x0);\n",
       "    var height = Math.abs(y1 - y0);\n",
       "\n",
       "    fig.rubberband_context.clearRect(\n",
       "        0, 0, fig.canvas.width, fig.canvas.height);\n",
       "\n",
       "    fig.rubberband_context.strokeRect(min_x, min_y, width, height);\n",
       "}\n",
       "\n",
       "mpl.figure.prototype.handle_figure_label = function(fig, msg) {\n",
       "    // Updates the figure title.\n",
       "    fig.header.textContent = msg['label'];\n",
       "}\n",
       "\n",
       "mpl.figure.prototype.handle_cursor = function(fig, msg) {\n",
       "    var cursor = msg['cursor'];\n",
       "    switch(cursor)\n",
       "    {\n",
       "    case 0:\n",
       "        cursor = 'pointer';\n",
       "        break;\n",
       "    case 1:\n",
       "        cursor = 'default';\n",
       "        break;\n",
       "    case 2:\n",
       "        cursor = 'crosshair';\n",
       "        break;\n",
       "    case 3:\n",
       "        cursor = 'move';\n",
       "        break;\n",
       "    }\n",
       "    fig.rubberband_canvas.style.cursor = cursor;\n",
       "}\n",
       "\n",
       "mpl.figure.prototype.handle_message = function(fig, msg) {\n",
       "    fig.message.textContent = msg['message'];\n",
       "}\n",
       "\n",
       "mpl.figure.prototype.handle_draw = function(fig, msg) {\n",
       "    // Request the server to send over a new figure.\n",
       "    fig.send_draw_message();\n",
       "}\n",
       "\n",
       "mpl.figure.prototype.handle_image_mode = function(fig, msg) {\n",
       "    fig.image_mode = msg['mode'];\n",
       "}\n",
       "\n",
       "mpl.figure.prototype.updated_canvas_event = function() {\n",
       "    // Called whenever the canvas gets updated.\n",
       "    this.send_message(\"ack\", {});\n",
       "}\n",
       "\n",
       "// A function to construct a web socket function for onmessage handling.\n",
       "// Called in the figure constructor.\n",
       "mpl.figure.prototype._make_on_message_function = function(fig) {\n",
       "    return function socket_on_message(evt) {\n",
       "        if (evt.data instanceof Blob) {\n",
       "            /* FIXME: We get \"Resource interpreted as Image but\n",
       "             * transferred with MIME type text/plain:\" errors on\n",
       "             * Chrome.  But how to set the MIME type?  It doesn't seem\n",
       "             * to be part of the websocket stream */\n",
       "            evt.data.type = \"image/png\";\n",
       "\n",
       "            /* Free the memory for the previous frames */\n",
       "            if (fig.imageObj.src) {\n",
       "                (window.URL || window.webkitURL).revokeObjectURL(\n",
       "                    fig.imageObj.src);\n",
       "            }\n",
       "\n",
       "            fig.imageObj.src = (window.URL || window.webkitURL).createObjectURL(\n",
       "                evt.data);\n",
       "            fig.updated_canvas_event();\n",
       "            fig.waiting = false;\n",
       "            return;\n",
       "        }\n",
       "        else if (typeof evt.data === 'string' && evt.data.slice(0, 21) == \"data:image/png;base64\") {\n",
       "            fig.imageObj.src = evt.data;\n",
       "            fig.updated_canvas_event();\n",
       "            fig.waiting = false;\n",
       "            return;\n",
       "        }\n",
       "\n",
       "        var msg = JSON.parse(evt.data);\n",
       "        var msg_type = msg['type'];\n",
       "\n",
       "        // Call the  \"handle_{type}\" callback, which takes\n",
       "        // the figure and JSON message as its only arguments.\n",
       "        try {\n",
       "            var callback = fig[\"handle_\" + msg_type];\n",
       "        } catch (e) {\n",
       "            console.log(\"No handler for the '\" + msg_type + \"' message type: \", msg);\n",
       "            return;\n",
       "        }\n",
       "\n",
       "        if (callback) {\n",
       "            try {\n",
       "                // console.log(\"Handling '\" + msg_type + \"' message: \", msg);\n",
       "                callback(fig, msg);\n",
       "            } catch (e) {\n",
       "                console.log(\"Exception inside the 'handler_\" + msg_type + \"' callback:\", e, e.stack, msg);\n",
       "            }\n",
       "        }\n",
       "    };\n",
       "}\n",
       "\n",
       "// from http://stackoverflow.com/questions/1114465/getting-mouse-location-in-canvas\n",
       "mpl.findpos = function(e) {\n",
       "    //this section is from http://www.quirksmode.org/js/events_properties.html\n",
       "    var targ;\n",
       "    if (!e)\n",
       "        e = window.event;\n",
       "    if (e.target)\n",
       "        targ = e.target;\n",
       "    else if (e.srcElement)\n",
       "        targ = e.srcElement;\n",
       "    if (targ.nodeType == 3) // defeat Safari bug\n",
       "        targ = targ.parentNode;\n",
       "\n",
       "    // jQuery normalizes the pageX and pageY\n",
       "    // pageX,Y are the mouse positions relative to the document\n",
       "    // offset() returns the position of the element relative to the document\n",
       "    var x = e.pageX - $(targ).offset().left;\n",
       "    var y = e.pageY - $(targ).offset().top;\n",
       "\n",
       "    return {\"x\": x, \"y\": y};\n",
       "};\n",
       "\n",
       "/*\n",
       " * return a copy of an object with only non-object keys\n",
       " * we need this to avoid circular references\n",
       " * http://stackoverflow.com/a/24161582/3208463\n",
       " */\n",
       "function simpleKeys (original) {\n",
       "  return Object.keys(original).reduce(function (obj, key) {\n",
       "    if (typeof original[key] !== 'object')\n",
       "        obj[key] = original[key]\n",
       "    return obj;\n",
       "  }, {});\n",
       "}\n",
       "\n",
       "mpl.figure.prototype.mouse_event = function(event, name) {\n",
       "    var canvas_pos = mpl.findpos(event)\n",
       "\n",
       "    if (name === 'button_press')\n",
       "    {\n",
       "        this.canvas.focus();\n",
       "        this.canvas_div.focus();\n",
       "    }\n",
       "\n",
       "    var x = canvas_pos.x;\n",
       "    var y = canvas_pos.y;\n",
       "\n",
       "    this.send_message(name, {x: x, y: y, button: event.button,\n",
       "                             step: event.step,\n",
       "                             guiEvent: simpleKeys(event)});\n",
       "\n",
       "    /* This prevents the web browser from automatically changing to\n",
       "     * the text insertion cursor when the button is pressed.  We want\n",
       "     * to control all of the cursor setting manually through the\n",
       "     * 'cursor' event from matplotlib */\n",
       "    event.preventDefault();\n",
       "    return false;\n",
       "}\n",
       "\n",
       "mpl.figure.prototype._key_event_extra = function(event, name) {\n",
       "    // Handle any extra behaviour associated with a key event\n",
       "}\n",
       "\n",
       "mpl.figure.prototype.key_event = function(event, name) {\n",
       "\n",
       "    // Prevent repeat events\n",
       "    if (name == 'key_press')\n",
       "    {\n",
       "        if (event.which === this._key)\n",
       "            return;\n",
       "        else\n",
       "            this._key = event.which;\n",
       "    }\n",
       "    if (name == 'key_release')\n",
       "        this._key = null;\n",
       "\n",
       "    var value = '';\n",
       "    if (event.ctrlKey && event.which != 17)\n",
       "        value += \"ctrl+\";\n",
       "    if (event.altKey && event.which != 18)\n",
       "        value += \"alt+\";\n",
       "    if (event.shiftKey && event.which != 16)\n",
       "        value += \"shift+\";\n",
       "\n",
       "    value += 'k';\n",
       "    value += event.which.toString();\n",
       "\n",
       "    this._key_event_extra(event, name);\n",
       "\n",
       "    this.send_message(name, {key: value,\n",
       "                             guiEvent: simpleKeys(event)});\n",
       "    return false;\n",
       "}\n",
       "\n",
       "mpl.figure.prototype.toolbar_button_onclick = function(name) {\n",
       "    if (name == 'download') {\n",
       "        this.handle_save(this, null);\n",
       "    } else {\n",
       "        this.send_message(\"toolbar_button\", {name: name});\n",
       "    }\n",
       "};\n",
       "\n",
       "mpl.figure.prototype.toolbar_button_onmouseover = function(tooltip) {\n",
       "    this.message.textContent = tooltip;\n",
       "};\n",
       "mpl.toolbar_items = [[\"Home\", \"Reset original view\", \"fa fa-home icon-home\", \"home\"], [\"Back\", \"Back to  previous view\", \"fa fa-arrow-left icon-arrow-left\", \"back\"], [\"Forward\", \"Forward to next view\", \"fa fa-arrow-right icon-arrow-right\", \"forward\"], [\"\", \"\", \"\", \"\"], [\"Pan\", \"Pan axes with left mouse, zoom with right\", \"fa fa-arrows icon-move\", \"pan\"], [\"Zoom\", \"Zoom to rectangle\", \"fa fa-square-o icon-check-empty\", \"zoom\"], [\"\", \"\", \"\", \"\"], [\"Download\", \"Download plot\", \"fa fa-floppy-o icon-save\", \"download\"]];\n",
       "\n",
       "mpl.extensions = [\"eps\", \"jpeg\", \"pdf\", \"png\", \"ps\", \"raw\", \"svg\", \"tif\"];\n",
       "\n",
       "mpl.default_extension = \"png\";var comm_websocket_adapter = function(comm) {\n",
       "    // Create a \"websocket\"-like object which calls the given IPython comm\n",
       "    // object with the appropriate methods. Currently this is a non binary\n",
       "    // socket, so there is still some room for performance tuning.\n",
       "    var ws = {};\n",
       "\n",
       "    ws.close = function() {\n",
       "        comm.close()\n",
       "    };\n",
       "    ws.send = function(m) {\n",
       "        //console.log('sending', m);\n",
       "        comm.send(m);\n",
       "    };\n",
       "    // Register the callback with on_msg.\n",
       "    comm.on_msg(function(msg) {\n",
       "        //console.log('receiving', msg['content']['data'], msg);\n",
       "        // Pass the mpl event to the overriden (by mpl) onmessage function.\n",
       "        ws.onmessage(msg['content']['data'])\n",
       "    });\n",
       "    return ws;\n",
       "}\n",
       "\n",
       "mpl.mpl_figure_comm = function(comm, msg) {\n",
       "    // This is the function which gets called when the mpl process\n",
       "    // starts-up an IPython Comm through the \"matplotlib\" channel.\n",
       "\n",
       "    var id = msg.content.data.id;\n",
       "    // Get hold of the div created by the display call when the Comm\n",
       "    // socket was opened in Python.\n",
       "    var element = $(\"#\" + id);\n",
       "    var ws_proxy = comm_websocket_adapter(comm)\n",
       "\n",
       "    function ondownload(figure, format) {\n",
       "        window.open(figure.imageObj.src);\n",
       "    }\n",
       "\n",
       "    var fig = new mpl.figure(id, ws_proxy,\n",
       "                           ondownload,\n",
       "                           element.get(0));\n",
       "\n",
       "    // Call onopen now - mpl needs it, as it is assuming we've passed it a real\n",
       "    // web socket which is closed, not our websocket->open comm proxy.\n",
       "    ws_proxy.onopen();\n",
       "\n",
       "    fig.parent_element = element.get(0);\n",
       "    fig.cell_info = mpl.find_output_cell(\"<div id='\" + id + \"'></div>\");\n",
       "    if (!fig.cell_info) {\n",
       "        console.error(\"Failed to find cell for figure\", id, fig);\n",
       "        return;\n",
       "    }\n",
       "\n",
       "    var output_index = fig.cell_info[2]\n",
       "    var cell = fig.cell_info[0];\n",
       "\n",
       "};\n",
       "\n",
       "mpl.figure.prototype.handle_close = function(fig, msg) {\n",
       "    fig.root.unbind('remove')\n",
       "\n",
       "    // Update the output cell to use the data from the current canvas.\n",
       "    fig.push_to_output();\n",
       "    var dataURL = fig.canvas.toDataURL();\n",
       "    // Re-enable the keyboard manager in IPython - without this line, in FF,\n",
       "    // the notebook keyboard shortcuts fail.\n",
       "    IPython.keyboard_manager.enable()\n",
       "    $(fig.parent_element).html('<img src=\"' + dataURL + '\">');\n",
       "    fig.close_ws(fig, msg);\n",
       "}\n",
       "\n",
       "mpl.figure.prototype.close_ws = function(fig, msg){\n",
       "    fig.send_message('closing', msg);\n",
       "    // fig.ws.close()\n",
       "}\n",
       "\n",
       "mpl.figure.prototype.push_to_output = function(remove_interactive) {\n",
       "    // Turn the data on the canvas into data in the output cell.\n",
       "    var dataURL = this.canvas.toDataURL();\n",
       "    this.cell_info[1]['text/html'] = '<img src=\"' + dataURL + '\">';\n",
       "}\n",
       "\n",
       "mpl.figure.prototype.updated_canvas_event = function() {\n",
       "    // Tell IPython that the notebook contents must change.\n",
       "    IPython.notebook.set_dirty(true);\n",
       "    this.send_message(\"ack\", {});\n",
       "    var fig = this;\n",
       "    // Wait a second, then push the new image to the DOM so\n",
       "    // that it is saved nicely (might be nice to debounce this).\n",
       "    setTimeout(function () { fig.push_to_output() }, 1000);\n",
       "}\n",
       "\n",
       "mpl.figure.prototype._init_toolbar = function() {\n",
       "    var fig = this;\n",
       "\n",
       "    var nav_element = $('<div/>')\n",
       "    nav_element.attr('style', 'width: 100%');\n",
       "    this.root.append(nav_element);\n",
       "\n",
       "    // Define a callback function for later on.\n",
       "    function toolbar_event(event) {\n",
       "        return fig.toolbar_button_onclick(event['data']);\n",
       "    }\n",
       "    function toolbar_mouse_event(event) {\n",
       "        return fig.toolbar_button_onmouseover(event['data']);\n",
       "    }\n",
       "\n",
       "    for(var toolbar_ind in mpl.toolbar_items){\n",
       "        var name = mpl.toolbar_items[toolbar_ind][0];\n",
       "        var tooltip = mpl.toolbar_items[toolbar_ind][1];\n",
       "        var image = mpl.toolbar_items[toolbar_ind][2];\n",
       "        var method_name = mpl.toolbar_items[toolbar_ind][3];\n",
       "\n",
       "        if (!name) { continue; };\n",
       "\n",
       "        var button = $('<button class=\"btn btn-default\" href=\"#\" title=\"' + name + '\"><i class=\"fa ' + image + ' fa-lg\"></i></button>');\n",
       "        button.click(method_name, toolbar_event);\n",
       "        button.mouseover(tooltip, toolbar_mouse_event);\n",
       "        nav_element.append(button);\n",
       "    }\n",
       "\n",
       "    // Add the status bar.\n",
       "    var status_bar = $('<span class=\"mpl-message\" style=\"text-align:right; float: right;\"/>');\n",
       "    nav_element.append(status_bar);\n",
       "    this.message = status_bar[0];\n",
       "\n",
       "    // Add the close button to the window.\n",
       "    var buttongrp = $('<div class=\"btn-group inline pull-right\"></div>');\n",
       "    var button = $('<button class=\"btn btn-mini btn-primary\" href=\"#\" title=\"Stop Interaction\"><i class=\"fa fa-power-off icon-remove icon-large\"></i></button>');\n",
       "    button.click(function (evt) { fig.handle_close(fig, {}); } );\n",
       "    button.mouseover('Stop Interaction', toolbar_mouse_event);\n",
       "    buttongrp.append(button);\n",
       "    var titlebar = this.root.find($('.ui-dialog-titlebar'));\n",
       "    titlebar.prepend(buttongrp);\n",
       "}\n",
       "\n",
       "mpl.figure.prototype._root_extra_style = function(el){\n",
       "    var fig = this\n",
       "    el.on(\"remove\", function(){\n",
       "\tfig.close_ws(fig, {});\n",
       "    });\n",
       "}\n",
       "\n",
       "mpl.figure.prototype._canvas_extra_style = function(el){\n",
       "    // this is important to make the div 'focusable\n",
       "    el.attr('tabindex', 0)\n",
       "    // reach out to IPython and tell the keyboard manager to turn it's self\n",
       "    // off when our div gets focus\n",
       "\n",
       "    // location in version 3\n",
       "    if (IPython.notebook.keyboard_manager) {\n",
       "        IPython.notebook.keyboard_manager.register_events(el);\n",
       "    }\n",
       "    else {\n",
       "        // location in version 2\n",
       "        IPython.keyboard_manager.register_events(el);\n",
       "    }\n",
       "\n",
       "}\n",
       "\n",
       "mpl.figure.prototype._key_event_extra = function(event, name) {\n",
       "    var manager = IPython.notebook.keyboard_manager;\n",
       "    if (!manager)\n",
       "        manager = IPython.keyboard_manager;\n",
       "\n",
       "    // Check for shift+enter\n",
       "    if (event.shiftKey && event.which == 13) {\n",
       "        this.canvas_div.blur();\n",
       "        // select the cell after this one\n",
       "        var index = IPython.notebook.find_cell_index(this.cell_info[0]);\n",
       "        IPython.notebook.select(index + 1);\n",
       "    }\n",
       "}\n",
       "\n",
       "mpl.figure.prototype.handle_save = function(fig, msg) {\n",
       "    fig.ondownload(fig, null);\n",
       "}\n",
       "\n",
       "\n",
       "mpl.find_output_cell = function(html_output) {\n",
       "    // Return the cell and output element which can be found *uniquely* in the notebook.\n",
       "    // Note - this is a bit hacky, but it is done because the \"notebook_saving.Notebook\"\n",
       "    // IPython event is triggered only after the cells have been serialised, which for\n",
       "    // our purposes (turning an active figure into a static one), is too late.\n",
       "    var cells = IPython.notebook.get_cells();\n",
       "    var ncells = cells.length;\n",
       "    for (var i=0; i<ncells; i++) {\n",
       "        var cell = cells[i];\n",
       "        if (cell.cell_type === 'code'){\n",
       "            for (var j=0; j<cell.output_area.outputs.length; j++) {\n",
       "                var data = cell.output_area.outputs[j];\n",
       "                if (data.data) {\n",
       "                    // IPython >= 3 moved mimebundle to data attribute of output\n",
       "                    data = data.data;\n",
       "                }\n",
       "                if (data['text/html'] == html_output) {\n",
       "                    return [cell, data, j];\n",
       "                }\n",
       "            }\n",
       "        }\n",
       "    }\n",
       "}\n",
       "\n",
       "// Register the function which deals with the matplotlib target/channel.\n",
       "// The kernel may be null if the page has been refreshed.\n",
       "if (IPython.notebook.kernel != null) {\n",
       "    IPython.notebook.kernel.comm_manager.register_target('matplotlib', mpl.mpl_figure_comm);\n",
       "}\n"
      ],
      "text/plain": [
       "<IPython.core.display.Javascript object>"
      ]
     },
     "metadata": {},
     "output_type": "display_data"
    },
    {
     "data": {
      "text/html": [
       "<img src=\"data:image/png;base64,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\">"
      ],
      "text/plain": [
       "<IPython.core.display.HTML object>"
      ]
     },
     "metadata": {},
     "output_type": "display_data"
    },
    {
     "data": {
      "text/latex": [
       "$$\\left [ \\left[\\begin{matrix}0\\\\0\\\\0\\end{matrix}\\right], \\quad \\left[\\begin{matrix}0\\\\0\\\\10\\end{matrix}\\right], \\quad \\left[\\begin{matrix}0\\\\0\\\\20\\end{matrix}\\right], \\quad \\left[\\begin{matrix}0\\\\2\\\\20\\end{matrix}\\right], \\quad \\left[\\begin{matrix}0\\\\2\\\\25\\end{matrix}\\right]\\right ]$$"
      ],
      "text/plain": [
       "⎡⎡0⎤, ⎡0 ⎤, ⎡0 ⎤, ⎡0 ⎤, ⎡0 ⎤⎤\n",
       "⎢⎢ ⎥  ⎢  ⎥  ⎢  ⎥  ⎢  ⎥  ⎢  ⎥⎥\n",
       "⎢⎢0⎥  ⎢0 ⎥  ⎢0 ⎥  ⎢2 ⎥  ⎢2 ⎥⎥\n",
       "⎢⎢ ⎥  ⎢  ⎥  ⎢  ⎥  ⎢  ⎥  ⎢  ⎥⎥\n",
       "⎣⎣0⎦  ⎣10⎦  ⎣20⎦  ⎣20⎦  ⎣25⎦⎦"
      ]
     },
     "execution_count": 17,
     "metadata": {},
     "output_type": "execute_result"
    }
   ],
   "source": [
    "lengths = (10, 10, 2, 5)\n",
    "angles = (0, 0, 0, 0)\n",
    "graph_fk(lengths, angles)"
   ]
  },
  {
   "cell_type": "markdown",
   "metadata": {},
   "source": [
    "### Inverse Kinematics"
   ]
  },
  {
   "cell_type": "markdown",
   "metadata": {},
   "source": [
    "Given a 4 DOF system, there needs to be additional constraints aside from a point in space to avoid obtaining infinite solutions. For a general hand-like robot, it is helpful to define the direction of the vector created by the last two points. Redefine points $p_0$ to $p_4$ as $A$ to $E$.\n",
    "\n",
    "The directional constraint, $\\phi$, defines the angle formed by the vector $\\overrightarrow{DE}$ and the normal of the XY-plane (Z axis). The point $(x, y, z)$ defines the desired target point in space."
   ]
  },
  {
   "cell_type": "code",
   "execution_count": 18,
   "metadata": {
    "collapsed": true
   },
   "outputs": [],
   "source": [
    "x, y, z, phi = symbols('x y z phi', real=True)"
   ]
  },
  {
   "cell_type": "markdown",
   "metadata": {},
   "source": [
    "Given $\\phi$, it is possible to solve for $C$. Drawing out the diagram basically reveals two similar right triangles. Connecting all of the vertices reveals a trapazoid. The two diagonals are known. Two sides are known. Let the sides be $(a,b,c,d)$. $a = l_4\\sin{\\left(\\phi\\right)}$ and $d = \\sqrt{a^2 + l_3^2}$. The diagonals are $l_3$ and the distance of the target from the origin. $c$ can be solved using the equations detailed [here](http://mathworld.wolfram.com/Trapezoid.html)."
   ]
  },
  {
   "cell_type": "code",
   "execution_count": 19,
   "metadata": {
    "collapsed": false
   },
   "outputs": [
    {
     "data": {
      "image/png": "[encoded data removed]",
      "text/latex": [
       "$$\\sqrt{- a b + b^{2} + l_{3}^{2} + \\frac{b d^{2}}{a} - \\frac{b l_{3}^{2}}{a}}$$"
      ],
      "text/plain": [
       "     ________________________________\n",
       "    ╱                      2       2 \n",
       "   ╱          2     2   b⋅d    b⋅l₃  \n",
       "  ╱   -a⋅b + b  + l₃  + ──── - ───── \n",
       "╲╱                       a       a   "
      ]
     },
     "execution_count": 19,
     "metadata": {},
     "output_type": "execute_result"
    }
   ],
   "source": [
    "a, b, c, d = symbols('a, b, c, d', real=True)\n",
    "c1 = solve(l3**2 - (a*b**2-a**2*b-a*c**2+b*d**2)/(b-a), c)[1]\n",
    "c1"
   ]
  },
  {
   "cell_type": "code",
   "execution_count": 20,
   "metadata": {
    "collapsed": false
   },
   "outputs": [
    {
     "data": {
      "image/png": "[encoded data removed]",
      "text/latex": [
       "$$\\sqrt{a^{2} - a b + \\frac{a d^{2}}{b} - \\frac{a x^{2}}{b} - \\frac{a y^{2}}{b} + x^{2} + y^{2}}$$"
      ],
      "text/plain": [
       "     _________________________________________\n",
       "    ╱               2      2      2           \n",
       "   ╱   2         a⋅d    a⋅x    a⋅y     2    2 \n",
       "  ╱   a  - a⋅b + ──── - ──── - ──── + x  + y  \n",
       "╲╱                b      b      b             "
      ]
     },
     "execution_count": 20,
     "metadata": {},
     "output_type": "execute_result"
    }
   ],
   "source": [
    "c2 = solve(x**2+y**2 - (a*b**2-a**2*b-a*d**2+b*c**2)/(b-a), c)[1]\n",
    "c2"
   ]
  },
  {
   "cell_type": "markdown",
   "metadata": {},
   "source": [
    "Setting both of the above equations equal to each other allows the solution for $b$ to be found. We need to find $\\theta_0$, the angle difference caused by $l_3$. We can solve for the opposite leg of the right triangle and use it along with $b$ to find the desired angle."
   ]
  },
  {
   "cell_type": "code",
   "execution_count": 21,
   "metadata": {
    "collapsed": false
   },
   "outputs": [
    {
     "data": {
      "image/png": "[encoded data removed]",
      "text/latex": [
       "$$\\frac{b l_{3}}{a + b}$$"
      ],
      "text/plain": [
       " b⋅l₃\n",
       "─────\n",
       "a + b"
      ]
     },
     "execution_count": 21,
     "metadata": {},
     "output_type": "execute_result"
    }
   ],
   "source": [
    "u = Symbol('u', positive=True)\n",
    "u_soln = solve(a / (l3 - u) - b / u, u)[0]\n",
    "u_soln"
   ]
  },
  {
   "cell_type": "code",
   "execution_count": 22,
   "metadata": {
    "collapsed": false
   },
   "outputs": [
    {
     "data": {
      "image/png": "[encoded data removed]",
      "text/latex": [
       "$$\\frac{1}{2 a} \\left(- a^{2} - d^{2} + l_{3}^{2} + \\sqrt{a^{4} - 2 a^{2} d^{2} - 2 a^{2} l_{3}^{2} + 4 a^{2} x^{2} + 4 a^{2} y^{2} + d^{4} - 2 d^{2} l_{3}^{2} + l_{3}^{4}}\\right)$$"
      ],
      "text/plain": [
       "                     _________________________________________________________\n",
       "   2    2     2     ╱  4      2  2      2   2      2  2      2  2    4      2 \n",
       "- a  - d  + l₃  + ╲╱  a  - 2⋅a ⋅d  - 2⋅a ⋅l₃  + 4⋅a ⋅x  + 4⋅a ⋅y  + d  - 2⋅d ⋅\n",
       "──────────────────────────────────────────────────────────────────────────────\n",
       "                                          2⋅a                                 \n",
       "\n",
       "__________\n",
       "  2     4 \n",
       "l₃  + l₃  \n",
       "──────────\n",
       "          "
      ]
     },
     "execution_count": 22,
     "metadata": {},
     "output_type": "execute_result"
    }
   ],
   "source": [
    "b_soln = solve(c1 - c2, b)[1]\n",
    "simplify(b_soln.expand())"
   ]
  },
  {
   "cell_type": "code",
   "execution_count": 23,
   "metadata": {
    "collapsed": false
   },
   "outputs": [
    {
     "data": {
      "image/png": "[encoded data removed]",
      "text/latex": [
       "$$\\operatorname{atan}{\\left (\\frac{l_{3} \\sin{\\left (\\phi \\right )}}{\\sqrt{- l_{3}^{2} + x^{2} + y^{2}} \\left|{\\sin{\\left (\\phi \\right )}}\\right|} \\right )}$$"
      ],
      "text/plain": [
       "    ⎛          l₃⋅sin(φ)          ⎞\n",
       "atan⎜─────────────────────────────⎟\n",
       "    ⎜   _________________         ⎟\n",
       "    ⎜  ╱     2    2    2          ⎟\n",
       "    ⎝╲╱  - l₃  + x  + y  ⋅│sin(φ)│⎠"
      ]
     },
     "execution_count": 23,
     "metadata": {},
     "output_type": "execute_result"
    }
   ],
   "source": [
    "theta_0 = atan(u_soln.subs(b, b_soln) / b_soln).subs([(a, l4*sin(phi)),(d, sqrt(l3**2+(l4*sin(phi))**2))])\n",
    "simplify(theta_0.expand())"
   ]
  },
  {
   "cell_type": "markdown",
   "metadata": {},
   "source": [
    "We need to rewrite this equation because $\\phi$ can cause this equation to be undefined and it is known analytically that $\\phi$ does not play a role here."
   ]
  },
  {
   "cell_type": "code",
   "execution_count": 24,
   "metadata": {
    "collapsed": false
   },
   "outputs": [
    {
     "data": {
      "image/png": "[encoded data removed]",
      "text/latex": [
       "$$\\operatorname{atan_{2}}{\\left (l_{3},\\sqrt{- l_{3}^{2} + x^{2} + y^{2}} \\right )}$$"
      ],
      "text/plain": [
       "     ⎛       _________________⎞\n",
       "     ⎜      ╱     2    2    2 ⎟\n",
       "atan2⎝l₃, ╲╱  - l₃  + x  + y  ⎠"
      ]
     },
     "execution_count": 24,
     "metadata": {},
     "output_type": "execute_result"
    }
   ],
   "source": [
    "theta_0 = atan2(l3, sqrt(x**2+y**2-l3**2))\n",
    "theta_0"
   ]
  },
  {
   "cell_type": "markdown",
   "metadata": {},
   "source": [
    "The next step is to actually solve for C. We can define the vector $\\overrightarrow{V} = \\overrightarrow{CE}$. $C$ is really just $\\overrightarrow{OC}$. Therefore, $\\overrightarrow{C} = \\overrightarrow{T} - \\overrightarrow{CE}$. The vector $\\overrightarrow{CE}$ can be described as two rotations of $\\overrightarrow{{CE}_{0}}$ -- one rotation about the Z-axis and another rotation about a rotated Y-axis vector. $\\overrightarrow{D}$ can be solved in a similar manner. Let $\\overrightarrow{n}$ be the the Y-axis normal vector rotated by $R = \\operatorname{atan2}{\\left(y, x\\right)} - \\theta_0$."
   ]
  },
  {
   "cell_type": "markdown",
   "metadata": {},
   "source": [
    "The interesting thing to realize here is that there are two possible cases. In one case, the arm is not flipped. In the other case it is. We need to account for both cases."
   ]
  },
  {
   "cell_type": "code",
   "execution_count": 25,
   "metadata": {
    "collapsed": false
   },
   "outputs": [
    {
     "data": {
      "text/latex": [
       "$$\\left [ \\left[\\begin{matrix}- l_{4} \\sin{\\left (\\phi \\right )} \\cos{\\left (\\theta_{0} - \\operatorname{atan_{2}}{\\left (y,x \\right )} \\right )} + x\\\\l_{4} \\sin{\\left (\\phi \\right )} \\sin{\\left (\\theta_{0} - \\operatorname{atan_{2}}{\\left (y,x \\right )} \\right )} + y\\\\- l_{4} \\cos{\\left (\\phi \\right )} + z\\end{matrix}\\right], \\quad \\left[\\begin{matrix}- l_{4} \\sin{\\left (\\phi \\right )} \\cos{\\left (\\theta_{0} + \\operatorname{atan_{2}}{\\left (y,x \\right )} \\right )} + x\\\\- l_{4} \\sin{\\left (\\phi \\right )} \\sin{\\left (\\theta_{0} + \\operatorname{atan_{2}}{\\left (y,x \\right )} \\right )} + y\\\\- l_{4} \\cos{\\left (\\phi \\right )} + z\\end{matrix}\\right]\\right ]$$"
      ],
      "text/plain": [
       "⎡⎡-l₄⋅sin(φ)⋅cos(θ₀ - atan2(y, x)) + x⎤, ⎡-l₄⋅sin(φ)⋅cos(θ₀ + atan2(y, x)) + x\n",
       "⎢⎢                                    ⎥  ⎢                                    \n",
       "⎢⎢l₄⋅sin(φ)⋅sin(θ₀ - atan2(y, x)) + y ⎥  ⎢-l₄⋅sin(φ)⋅sin(θ₀ + atan2(y, x)) + y\n",
       "⎢⎢                                    ⎥  ⎢                                    \n",
       "⎣⎣           -l₄⋅cos(φ) + z           ⎦  ⎣           -l₄⋅cos(φ) + z           \n",
       "\n",
       "⎤⎤\n",
       "⎥⎥\n",
       "⎥⎥\n",
       "⎥⎥\n",
       "⎦⎦"
      ]
     },
     "execution_count": 25,
     "metadata": {},
     "output_type": "execute_result"
    }
   ],
   "source": [
    "theta0 = Symbol('theta_0', real=True)\n",
    "\n",
    "# Define CD vector.\n",
    "CD = Matrix((0, 0, l4))\n",
    "\n",
    "# Define D.\n",
    "D = Matrix((x, y, z)) - CD\n",
    "D_sym = symbols('D_x D_y D_z', real=True)\n",
    "\n",
    "# Define oE.\n",
    "oE = (x, y, z)\n",
    "\n",
    "# Rotate ny about Z-axis.\n",
    "R1 = atan2(y, x) - theta0\n",
    "R2 = atan2(y, x) + theta0\n",
    "\n",
    "n1 = rotate(ny, R1, o, nz)\n",
    "n2 = rotate(ny, R2, o, nz)\n",
    "n = [n1, n2]\n",
    "\n",
    "# Rotate D about rotated Y-normal.\n",
    "D1 = rotate(D, phi, oE, n1)\n",
    "D2 = rotate(D, phi, oE, n2)\n",
    "\n",
    "D1 = simplify(D1.expand())\n",
    "D2 = simplify(D2.expand())\n",
    "\n",
    "D = [D1, D2]\n",
    "\n",
    "# Output.\n",
    "D"
   ]
  },
  {
   "cell_type": "code",
   "execution_count": 26,
   "metadata": {
    "collapsed": false
   },
   "outputs": [
    {
     "data": {
      "text/latex": [
       "$$\\left [ \\left[\\begin{matrix}\\sin{\\left (\\theta_{0} - \\operatorname{atan_{2}}{\\left (y,x \\right )} \\right )}\\\\\\cos{\\left (\\theta_{0} - \\operatorname{atan_{2}}{\\left (y,x \\right )} \\right )}\\\\0\\end{matrix}\\right], \\quad \\left[\\begin{matrix}- \\sin{\\left (\\theta_{0} + \\operatorname{atan_{2}}{\\left (y,x \\right )} \\right )}\\\\\\cos{\\left (\\theta_{0} + \\operatorname{atan_{2}}{\\left (y,x \\right )} \\right )}\\\\0\\end{matrix}\\right]\\right ]$$"
      ],
      "text/plain": [
       "⎡⎡sin(θ₀ - atan2(y, x))⎤, ⎡-sin(θ₀ + atan2(y, x))⎤⎤\n",
       "⎢⎢                     ⎥  ⎢                      ⎥⎥\n",
       "⎢⎢cos(θ₀ - atan2(y, x))⎥  ⎢cos(θ₀ + atan2(y, x)) ⎥⎥\n",
       "⎢⎢                     ⎥  ⎢                      ⎥⎥\n",
       "⎣⎣          0          ⎦  ⎣          0           ⎦⎦"
      ]
     },
     "execution_count": 26,
     "metadata": {},
     "output_type": "execute_result"
    }
   ],
   "source": [
    "n"
   ]
  },
  {
   "cell_type": "code",
   "execution_count": 27,
   "metadata": {
    "collapsed": false
   },
   "outputs": [
    {
     "data": {
      "text/latex": [
       "$$\\left [ \\left[\\begin{matrix}D_{x} - l_{3} \\sin{\\left (\\theta_{0} - \\operatorname{atan_{2}}{\\left (y,x \\right )} \\right )}\\\\D_{y} - l_{3} \\cos{\\left (\\theta_{0} - \\operatorname{atan_{2}}{\\left (y,x \\right )} \\right )}\\\\D_{z}\\end{matrix}\\right], \\quad \\left[\\begin{matrix}D_{x} - l_{3} \\sin{\\left (\\theta_{0} + \\operatorname{atan_{2}}{\\left (y,x \\right )} \\right )}\\\\D_{y} + l_{3} \\cos{\\left (\\theta_{0} + \\operatorname{atan_{2}}{\\left (y,x \\right )} \\right )}\\\\D_{z}\\end{matrix}\\right]\\right ]$$"
      ],
      "text/plain": [
       "⎡⎡Dₓ - l₃⋅sin(θ₀ - atan2(y, x)) ⎤, ⎡Dₓ - l₃⋅sin(θ₀ + atan2(y, x)) ⎤⎤\n",
       "⎢⎢                              ⎥  ⎢                              ⎥⎥\n",
       "⎢⎢D_y - l₃⋅cos(θ₀ - atan2(y, x))⎥  ⎢D_y + l₃⋅cos(θ₀ + atan2(y, x))⎥⎥\n",
       "⎢⎢                              ⎥  ⎢                              ⎥⎥\n",
       "⎣⎣             D_z              ⎦  ⎣             D_z              ⎦⎦"
      ]
     },
     "execution_count": 27,
     "metadata": {},
     "output_type": "execute_result"
    }
   ],
   "source": [
    "# Define CE vector.\n",
    "CE1 = Matrix((0, l3, l4))\n",
    "CE2 = Matrix((0, -l3, l4))\n",
    "\n",
    "# Define C.\n",
    "C1 = Matrix((x, y, z)) - CE1\n",
    "C2 = Matrix((x, y, z)) - CE2\n",
    "\n",
    "C_sym = symbols('C_x C_y C_z', real=True)\n",
    "\n",
    "# Rotate C about Z-axis.\n",
    "C1 = rotate(C1, R1, oE, nz)\n",
    "C2 = rotate(C2, R2, oE, nz)\n",
    "\n",
    "# Rotate C about rotated Y-normal.\n",
    "C1 = rotate(C1, phi, oE, n1)\n",
    "C2 = rotate(C2, phi, oE, n2)\n",
    "\n",
    "C1 = simplify(C1.expand())\n",
    "C2 = simplify(C2.expand())\n",
    "\n",
    "C = [C1, C2]\n",
    "\n",
    "# Output.\n",
    "[pretty(C[0], D[0], D_sym), pretty(C[1], D[1], D_sym)]"
   ]
  },
  {
   "cell_type": "markdown",
   "metadata": {},
   "source": [
    "Given $C$, it is possible to use the law of cosines to solve for $\\theta_3$. $\\theta_3$ can either be positive or negative."
   ]
  },
  {
   "cell_type": "code",
   "execution_count": 28,
   "metadata": {
    "collapsed": false
   },
   "outputs": [
    {
     "data": {
      "image/png": "[encoded data removed]",
      "text/latex": [
       "$$\\left [ - \\operatorname{acos}{\\left (- \\frac{1}{2 l_{1} l_{2}} \\left(C_{x}^{2} + C_{y}^{2} + C_{z}^{2} - l_{1}^{2} - l_{2}^{2}\\right) \\right )} + \\pi, \\quad \\operatorname{acos}{\\left (- \\frac{1}{2 l_{1} l_{2}} \\left(C_{x}^{2} + C_{y}^{2} + C_{z}^{2} - l_{1}^{2} - l_{2}^{2}\\right) \\right )} - \\pi\\right ]$$"
      ],
      "text/plain": [
       "⎡      ⎛ ⎛  2      2      2     2     2⎞ ⎞          ⎛ ⎛  2      2      2     2\n",
       "⎢      ⎜-⎝Cₓ  + C_y  + C_z  - l₁  - l₂ ⎠ ⎟          ⎜-⎝Cₓ  + C_y  + C_z  - l₁ \n",
       "⎢- acos⎜─────────────────────────────────⎟ + π, acos⎜─────────────────────────\n",
       "⎣      ⎝             2⋅l₁⋅l₂             ⎠          ⎝             2⋅l₁⋅l₂     \n",
       "\n",
       "     2⎞ ⎞    ⎤\n",
       " - l₂ ⎠ ⎟    ⎥\n",
       "────────⎟ - π⎥\n",
       "        ⎠    ⎦"
      ]
     },
     "execution_count": 28,
     "metadata": {},
     "output_type": "execute_result"
    }
   ],
   "source": [
    "theta_3 = pi - acos((l1**2 + l2**2 - C[1].norm()**2) / (2 * l1 * l2))\n",
    "\n",
    "sol1 = pretty(theta_3, C[1], C_sym)\n",
    "sol2 = -sol1\n",
    "theta_3 = [sol1, sol2]\n",
    "theta_3"
   ]
  },
  {
   "cell_type": "markdown",
   "metadata": {},
   "source": [
    "We can solve for $\\theta_2$ by assuming that $B$ still rests on the Z-axis. Define $C^{\\prime\\prime}$ as the point $C$ with only $\\theta_3$. Define $C^{\\prime}$ as the point $C$ with only $\\theta_2$ and $\\theta_3$. $C^{\\prime}_z$ must be equal to $C_z$ to form a radius for $\\theta_1$ to complete. It is better to solve for the equation involving z rather than x and y, because $\\theta_1$ does not impact z."
   ]
  },
  {
   "cell_type": "code",
   "execution_count": 29,
   "metadata": {
    "collapsed": false
   },
   "outputs": [
    {
     "data": {
      "image/png": "[encoded data removed]",
      "text/latex": [
       "$$\\left [ - 2 \\operatorname{atan}{\\left (\\frac{2 \\left(l_{2} \\sin{\\left (\\theta_{3} \\right )} - \\sqrt{- C_{z}^{2} + l_{1}^{2} + 2 l_{1} l_{2} \\cos{\\left (\\theta_{3} \\right )} + l_{2}^{2}}\\right) \\cos^{2}{\\left (\\frac{\\theta_{3}}{2} \\right )}}{\\left(\\cos{\\left (\\theta_{3} \\right )} + 1\\right) \\left(C_{z} + l_{1} - 2 l_{2} \\sin^{2}{\\left (\\frac{\\theta_{3}}{2} \\right )} + l_{2}\\right)} \\right )}, \\quad - 2 \\operatorname{atan}{\\left (\\frac{2 \\left(l_{2} \\sin{\\left (\\theta_{3} \\right )} + \\sqrt{- C_{z}^{2} + l_{1}^{2} + 2 l_{1} l_{2} \\cos{\\left (\\theta_{3} \\right )} + l_{2}^{2}}\\right) \\cos^{2}{\\left (\\frac{\\theta_{3}}{2} \\right )}}{\\left(\\cos{\\left (\\theta_{3} \\right )} + 1\\right) \\left(C_{z} + l_{1} - 2 l_{2} \\sin^{2}{\\left (\\frac{\\theta_{3}}{2} \\right )} + l_{2}\\right)} \\right )}\\right ]$$"
      ],
      "text/plain": [
       "⎡       ⎛  ⎛                ______________________________________⎞         ⎞ \n",
       "⎢       ⎜  ⎜               ╱      2     2                       2 ⎟    2⎛θ₃⎞⎟ \n",
       "⎢       ⎜2⋅⎝l₂⋅sin(θ₃) - ╲╱  - C_z  + l₁  + 2⋅l₁⋅l₂⋅cos(θ₃) + l₂  ⎠⋅cos ⎜──⎟⎟ \n",
       "⎢       ⎜                                                               ⎝2 ⎠⎟ \n",
       "⎢-2⋅atan⎜───────────────────────────────────────────────────────────────────⎟,\n",
       "⎢       ⎜                         ⎛                   2⎛θ₃⎞     ⎞           ⎟ \n",
       "⎢       ⎜           (cos(θ₃) + 1)⋅⎜C_z + l₁ - 2⋅l₂⋅sin ⎜──⎟ + l₂⎟           ⎟ \n",
       "⎣       ⎝                         ⎝                    ⎝2 ⎠     ⎠           ⎠ \n",
       "\n",
       "        ⎛  ⎛                ______________________________________⎞         ⎞⎤\n",
       "        ⎜  ⎜               ╱      2     2                       2 ⎟    2⎛θ₃⎞⎟⎥\n",
       "        ⎜2⋅⎝l₂⋅sin(θ₃) + ╲╱  - C_z  + l₁  + 2⋅l₁⋅l₂⋅cos(θ₃) + l₂  ⎠⋅cos ⎜──⎟⎟⎥\n",
       "        ⎜                                                               ⎝2 ⎠⎟⎥\n",
       " -2⋅atan⎜───────────────────────────────────────────────────────────────────⎟⎥\n",
       "        ⎜                         ⎛                   2⎛θ₃⎞     ⎞           ⎟⎥\n",
       "        ⎜           (cos(θ₃) + 1)⋅⎜C_z + l₁ - 2⋅l₂⋅sin ⎜──⎟ + l₂⎟           ⎟⎥\n",
       "        ⎝                         ⎝                    ⎝2 ⎠     ⎠           ⎠⎦"
      ]
     },
     "execution_count": 29,
     "metadata": {},
     "output_type": "execute_result"
    }
   ],
   "source": [
    "C_pp = (l2 * sin(theta3), 0, l1 + l2 * cos(theta3))\n",
    "C_p = rotate(C_pp, theta2, o, ny)\n",
    "theta_2 = solve(C_p[2] - C_sym[2], theta2)\n",
    "theta_2"
   ]
  },
  {
   "cell_type": "markdown",
   "metadata": {},
   "source": [
    "It is not immediately evident which solution to pick for the non-flipped vs. flipped. In fact, it basically is not evident at all. Test shows that the first solution works for non-flipped and the second for flipped. However, they flip when $x^2 + y^2 < l_3^2 + (l_4 \\sin{(\\phi)})^2$ and $\\sin{(\\phi)} > 0$. This is an observed result from extensive testing. I am sure there is good mathematical justification, but it is probably to difficult to derive from equations."
   ]
  },
  {
   "cell_type": "markdown",
   "metadata": {},
   "source": [
    "$\\theta_1$ can actually be by solved using the forward kinematic equations for $C$. Assuming $\\theta_1$ is 0, compute the current angle with the x-axis. Then, simply swing around. It might be tempting to use $C$, but there can be issues because it can sometimes be on the Z-axis. Using $D$ is better as it cannot be on the Z-axis unless $l_3$ is zero (in that case it does't matter anyway since $\\theta_0$ will be zero)."
   ]
  },
  {
   "cell_type": "code",
   "execution_count": 30,
   "metadata": {
    "collapsed": false
   },
   "outputs": [
    {
     "data": {
      "image/png": "[encoded data removed]",
      "text/latex": [
       "$$\\operatorname{atan_{2}}{\\left (D_{y},D_{x} \\right )} - \\operatorname{atan_{2}}{\\left (l_{3},l_{1} \\sin{\\left (\\theta_{2} \\right )} + l_{2} \\sin{\\left (\\theta_{2} + \\theta_{3} \\right )} \\right )}$$"
      ],
      "text/plain": [
       "atan2(D_y, Dₓ) - atan2(l₃, l₁⋅sin(θ₂) + l₂⋅sin(θ₂ + θ₃))"
      ]
     },
     "execution_count": 30,
     "metadata": {},
     "output_type": "execute_result"
    }
   ],
   "source": [
    "theta_1 = atan2(D_sym[1], D_sym[0]) - atan2(p3[1].subs(theta1, 0), simplify(p3[0].subs(theta1, 0)))\n",
    "theta_1"
   ]
  },
  {
   "cell_type": "markdown",
   "metadata": {},
   "source": [
    "We can now solve for $\\theta_4$. Define two vectors, $\\overrightarrow{DE}$ and $\\overrightarrow{BC}$. $B$ can be solved using the forward kinematics equation. The dot product can be used to determine the angle. The sign can be determined using the cross product. Define $s$ as the sign. Account for multiple solutions due to inverse cosine. Testing reveals that the second solution applies to the flipped case."
   ]
  },
  {
   "cell_type": "markdown",
   "metadata": {},
   "source": [
    "$$s = \\operatorname{sgn}{\\left[ \\overrightarrow{n} \\cdot \\left( \\overrightarrow{BC} \\times \\overrightarrow{DE} \\right) \\right] }$$"
   ]
  },
  {
   "cell_type": "markdown",
   "metadata": {},
   "source": [
    "$$\n",
    "\\left[ \n",
    "s \\cdot \\operatorname{acos}{\\left( \\frac{\\overrightarrow{BC} \\cdot \\overrightarrow{DE} }{l_2 l_4} \\right)}, \\quad\n",
    "-s \\cdot \\operatorname{acos}{\\left( \\frac{\\overrightarrow{BC} \\cdot \\overrightarrow{DE} }{l_2 l_4} \\right)}\n",
    "\\right]\n",
    "$$"
   ]
  },
  {
   "cell_type": "markdown",
   "metadata": {},
   "source": [
    "For most constraint conditions of $(x, y, z, \\phi)$, there are at most four solutions (and usually four solutions). The kinematic solution is stable around singularities. In cases where less than four solutions exist (i.e. one or two), all four equations will agree on these solutions. There is no known case of three unique solutions."
   ]
  },
  {
   "cell_type": "markdown",
   "metadata": {},
   "source": [
    "### Jacobian Analysis"
   ]
  },
  {
   "cell_type": "markdown",
   "metadata": {},
   "source": [
    "We can define the forward Jacobian matrix to assist in computing velocities and torques. First, we need to compute the Jacobian for the linear velocity, $J_v(\\theta)$."
   ]
  },
  {
   "cell_type": "code",
   "execution_count": 31,
   "metadata": {
    "collapsed": false
   },
   "outputs": [
    {
     "data": {
      "text/latex": [
       "$$\\left[\\begin{matrix}- l_{1} \\sin{\\left (\\theta_{1} \\right )} \\sin{\\left (\\theta_{2} \\right )} - l_{2} \\sin{\\left (\\theta_{1} \\right )} \\sin{\\left (\\theta_{2} + \\theta_{3} \\right )} - l_{3} \\cos{\\left (\\theta_{1} \\right )} - l_{4} \\sin{\\left (\\theta_{1} \\right )} \\sin{\\left (\\theta_{2} + \\theta_{3} + \\theta_{4} \\right )} & l_{1} \\cos{\\left (\\theta_{1} \\right )} \\cos{\\left (\\theta_{2} \\right )} + l_{2} \\cos{\\left (\\theta_{1} \\right )} \\cos{\\left (\\theta_{2} + \\theta_{3} \\right )} + l_{4} \\cos{\\left (\\theta_{1} \\right )} \\cos{\\left (\\theta_{2} + \\theta_{3} + \\theta_{4} \\right )} & l_{2} \\cos{\\left (\\theta_{1} \\right )} \\cos{\\left (\\theta_{2} + \\theta_{3} \\right )} + l_{4} \\cos{\\left (\\theta_{1} \\right )} \\cos{\\left (\\theta_{2} + \\theta_{3} + \\theta_{4} \\right )} & l_{4} \\cos{\\left (\\theta_{1} \\right )} \\cos{\\left (\\theta_{2} + \\theta_{3} + \\theta_{4} \\right )}\\\\l_{1} \\sin{\\left (\\theta_{2} \\right )} \\cos{\\left (\\theta_{1} \\right )} + l_{2} \\sin{\\left (\\theta_{2} + \\theta_{3} \\right )} \\cos{\\left (\\theta_{1} \\right )} - l_{3} \\sin{\\left (\\theta_{1} \\right )} + l_{4} \\sin{\\left (\\theta_{2} + \\theta_{3} + \\theta_{4} \\right )} \\cos{\\left (\\theta_{1} \\right )} & l_{1} \\sin{\\left (\\theta_{1} \\right )} \\cos{\\left (\\theta_{2} \\right )} + l_{2} \\sin{\\left (\\theta_{1} \\right )} \\cos{\\left (\\theta_{2} + \\theta_{3} \\right )} + l_{4} \\sin{\\left (\\theta_{1} \\right )} \\cos{\\left (\\theta_{2} + \\theta_{3} + \\theta_{4} \\right )} & l_{2} \\sin{\\left (\\theta_{1} \\right )} \\cos{\\left (\\theta_{2} + \\theta_{3} \\right )} + l_{4} \\sin{\\left (\\theta_{1} \\right )} \\cos{\\left (\\theta_{2} + \\theta_{3} + \\theta_{4} \\right )} & l_{4} \\sin{\\left (\\theta_{1} \\right )} \\cos{\\left (\\theta_{2} + \\theta_{3} + \\theta_{4} \\right )}\\\\0 & - l_{1} \\sin{\\left (\\theta_{2} \\right )} - l_{2} \\sin{\\left (\\theta_{2} + \\theta_{3} \\right )} - l_{4} \\sin{\\left (\\theta_{2} + \\theta_{3} + \\theta_{4} \\right )} & - l_{2} \\sin{\\left (\\theta_{2} + \\theta_{3} \\right )} - l_{4} \\sin{\\left (\\theta_{2} + \\theta_{3} + \\theta_{4} \\right )} & - l_{4} \\sin{\\left (\\theta_{2} + \\theta_{3} + \\theta_{4} \\right )}\\end{matrix}\\right]$$"
      ],
      "text/plain": [
       "⎡-l₁⋅sin(θ₁)⋅sin(θ₂) - l₂⋅sin(θ₁)⋅sin(θ₂ + θ₃) - l₃⋅cos(θ₁) - l₄⋅sin(θ₁)⋅sin(θ\n",
       "⎢                                                                             \n",
       "⎢l₁⋅sin(θ₂)⋅cos(θ₁) + l₂⋅sin(θ₂ + θ₃)⋅cos(θ₁) - l₃⋅sin(θ₁) + l₄⋅sin(θ₂ + θ₃ + \n",
       "⎢                                                                             \n",
       "⎣                                            0                                \n",
       "\n",
       "₂ + θ₃ + θ₄)  l₁⋅cos(θ₁)⋅cos(θ₂) + l₂⋅cos(θ₁)⋅cos(θ₂ + θ₃) + l₄⋅cos(θ₁)⋅cos(θ₂\n",
       "                                                                              \n",
       "θ₄)⋅cos(θ₁)   l₁⋅sin(θ₁)⋅cos(θ₂) + l₂⋅sin(θ₁)⋅cos(θ₂ + θ₃) + l₄⋅sin(θ₁)⋅cos(θ₂\n",
       "                                                                              \n",
       "                         -l₁⋅sin(θ₂) - l₂⋅sin(θ₂ + θ₃) - l₄⋅sin(θ₂ + θ₃ + θ₄) \n",
       "\n",
       " + θ₃ + θ₄)  l₂⋅cos(θ₁)⋅cos(θ₂ + θ₃) + l₄⋅cos(θ₁)⋅cos(θ₂ + θ₃ + θ₄)  l₄⋅cos(θ₁\n",
       "                                                                              \n",
       " + θ₃ + θ₄)  l₂⋅sin(θ₁)⋅cos(θ₂ + θ₃) + l₄⋅sin(θ₁)⋅cos(θ₂ + θ₃ + θ₄)  l₄⋅sin(θ₁\n",
       "                                                                              \n",
       "                    -l₂⋅sin(θ₂ + θ₃) - l₄⋅sin(θ₂ + θ₃ + θ₄)             -l₄⋅si\n",
       "\n",
       ")⋅cos(θ₂ + θ₃ + θ₄)⎤\n",
       "                   ⎥\n",
       ")⋅cos(θ₂ + θ₃ + θ₄)⎥\n",
       "                   ⎥\n",
       "n(θ₂ + θ₃ + θ₄)    ⎦"
      ]
     },
     "execution_count": 31,
     "metadata": {},
     "output_type": "execute_result"
    }
   ],
   "source": [
    "wrt = Matrix((theta1, theta2, theta3, theta4))\n",
    "J_v = simplify(p4).jacobian(wrt)\n",
    "J_v"
   ]
  },
  {
   "cell_type": "markdown",
   "metadata": {},
   "source": [
    "We also need to define the Jacobian of angular velocities, $J_\\omega(\\theta)$."
   ]
  },
  {
   "cell_type": "code",
   "execution_count": 32,
   "metadata": {
    "collapsed": false
   },
   "outputs": [
    {
     "data": {
      "text/latex": [
       "$$\\left[\\begin{matrix}0 & 0 & 0 & 0\\\\0 & 1 & 1 & 1\\\\1 & 0 & 0 & 0\\end{matrix}\\right]$$"
      ],
      "text/plain": [
       "⎡0  0  0  0⎤\n",
       "⎢          ⎥\n",
       "⎢0  1  1  1⎥\n",
       "⎢          ⎥\n",
       "⎣1  0  0  0⎦"
      ]
     },
     "execution_count": 32,
     "metadata": {},
     "output_type": "execute_result"
    }
   ],
   "source": [
    "w = Matrix((0, theta2 + theta3 + theta4, theta1))\n",
    "J_w = w.jacobian(wrt)\n",
    "J_w"
   ]
  },
  {
   "cell_type": "markdown",
   "metadata": {},
   "source": [
    "We can combine the two results to get the full Jacobian matrix, $J_{ee}(\\theta)$."
   ]
  },
  {
   "cell_type": "code",
   "execution_count": 33,
   "metadata": {
    "collapsed": false
   },
   "outputs": [
    {
     "data": {
      "text/latex": [
       "$$\\left[\\begin{matrix}- l_{1} \\sin{\\left (\\theta_{1} \\right )} \\sin{\\left (\\theta_{2} \\right )} - l_{2} \\sin{\\left (\\theta_{1} \\right )} \\sin{\\left (\\theta_{2} + \\theta_{3} \\right )} - l_{3} \\cos{\\left (\\theta_{1} \\right )} - l_{4} \\sin{\\left (\\theta_{1} \\right )} \\sin{\\left (\\theta_{2} + \\theta_{3} + \\theta_{4} \\right )} & l_{1} \\cos{\\left (\\theta_{1} \\right )} \\cos{\\left (\\theta_{2} \\right )} + l_{2} \\cos{\\left (\\theta_{1} \\right )} \\cos{\\left (\\theta_{2} + \\theta_{3} \\right )} + l_{4} \\cos{\\left (\\theta_{1} \\right )} \\cos{\\left (\\theta_{2} + \\theta_{3} + \\theta_{4} \\right )} & l_{2} \\cos{\\left (\\theta_{1} \\right )} \\cos{\\left (\\theta_{2} + \\theta_{3} \\right )} + l_{4} \\cos{\\left (\\theta_{1} \\right )} \\cos{\\left (\\theta_{2} + \\theta_{3} + \\theta_{4} \\right )} & l_{4} \\cos{\\left (\\theta_{1} \\right )} \\cos{\\left (\\theta_{2} + \\theta_{3} + \\theta_{4} \\right )}\\\\l_{1} \\sin{\\left (\\theta_{2} \\right )} \\cos{\\left (\\theta_{1} \\right )} + l_{2} \\sin{\\left (\\theta_{2} + \\theta_{3} \\right )} \\cos{\\left (\\theta_{1} \\right )} - l_{3} \\sin{\\left (\\theta_{1} \\right )} + l_{4} \\sin{\\left (\\theta_{2} + \\theta_{3} + \\theta_{4} \\right )} \\cos{\\left (\\theta_{1} \\right )} & l_{1} \\sin{\\left (\\theta_{1} \\right )} \\cos{\\left (\\theta_{2} \\right )} + l_{2} \\sin{\\left (\\theta_{1} \\right )} \\cos{\\left (\\theta_{2} + \\theta_{3} \\right )} + l_{4} \\sin{\\left (\\theta_{1} \\right )} \\cos{\\left (\\theta_{2} + \\theta_{3} + \\theta_{4} \\right )} & l_{2} \\sin{\\left (\\theta_{1} \\right )} \\cos{\\left (\\theta_{2} + \\theta_{3} \\right )} + l_{4} \\sin{\\left (\\theta_{1} \\right )} \\cos{\\left (\\theta_{2} + \\theta_{3} + \\theta_{4} \\right )} & l_{4} \\sin{\\left (\\theta_{1} \\right )} \\cos{\\left (\\theta_{2} + \\theta_{3} + \\theta_{4} \\right )}\\\\0 & - l_{1} \\sin{\\left (\\theta_{2} \\right )} - l_{2} \\sin{\\left (\\theta_{2} + \\theta_{3} \\right )} - l_{4} \\sin{\\left (\\theta_{2} + \\theta_{3} + \\theta_{4} \\right )} & - l_{2} \\sin{\\left (\\theta_{2} + \\theta_{3} \\right )} - l_{4} \\sin{\\left (\\theta_{2} + \\theta_{3} + \\theta_{4} \\right )} & - l_{4} \\sin{\\left (\\theta_{2} + \\theta_{3} + \\theta_{4} \\right )}\\\\0 & 0 & 0 & 0\\\\0 & 1 & 1 & 1\\\\1 & 0 & 0 & 0\\end{matrix}\\right]$$"
      ],
      "text/plain": [
       "⎡-l₁⋅sin(θ₁)⋅sin(θ₂) - l₂⋅sin(θ₁)⋅sin(θ₂ + θ₃) - l₃⋅cos(θ₁) - l₄⋅sin(θ₁)⋅sin(θ\n",
       "⎢                                                                             \n",
       "⎢l₁⋅sin(θ₂)⋅cos(θ₁) + l₂⋅sin(θ₂ + θ₃)⋅cos(θ₁) - l₃⋅sin(θ₁) + l₄⋅sin(θ₂ + θ₃ + \n",
       "⎢                                                                             \n",
       "⎢                                            0                                \n",
       "⎢                                                                             \n",
       "⎢                                            0                                \n",
       "⎢                                                                             \n",
       "⎢                                            0                                \n",
       "⎢                                                                             \n",
       "⎣                                            1                                \n",
       "\n",
       "₂ + θ₃ + θ₄)  l₁⋅cos(θ₁)⋅cos(θ₂) + l₂⋅cos(θ₁)⋅cos(θ₂ + θ₃) + l₄⋅cos(θ₁)⋅cos(θ₂\n",
       "                                                                              \n",
       "θ₄)⋅cos(θ₁)   l₁⋅sin(θ₁)⋅cos(θ₂) + l₂⋅sin(θ₁)⋅cos(θ₂ + θ₃) + l₄⋅sin(θ₁)⋅cos(θ₂\n",
       "                                                                              \n",
       "                         -l₁⋅sin(θ₂) - l₂⋅sin(θ₂ + θ₃) - l₄⋅sin(θ₂ + θ₃ + θ₄) \n",
       "                                                                              \n",
       "                                                   0                          \n",
       "                                                                              \n",
       "                                                   1                          \n",
       "                                                                              \n",
       "                                                   0                          \n",
       "\n",
       " + θ₃ + θ₄)  l₂⋅cos(θ₁)⋅cos(θ₂ + θ₃) + l₄⋅cos(θ₁)⋅cos(θ₂ + θ₃ + θ₄)  l₄⋅cos(θ₁\n",
       "                                                                              \n",
       " + θ₃ + θ₄)  l₂⋅sin(θ₁)⋅cos(θ₂ + θ₃) + l₄⋅sin(θ₁)⋅cos(θ₂ + θ₃ + θ₄)  l₄⋅sin(θ₁\n",
       "                                                                              \n",
       "                    -l₂⋅sin(θ₂ + θ₃) - l₄⋅sin(θ₂ + θ₃ + θ₄)             -l₄⋅si\n",
       "                                                                              \n",
       "                                       0                                      \n",
       "                                                                              \n",
       "                                       1                                      \n",
       "                                                                              \n",
       "                                       0                                      \n",
       "\n",
       ")⋅cos(θ₂ + θ₃ + θ₄)⎤\n",
       "                   ⎥\n",
       ")⋅cos(θ₂ + θ₃ + θ₄)⎥\n",
       "                   ⎥\n",
       "n(θ₂ + θ₃ + θ₄)    ⎥\n",
       "                   ⎥\n",
       "    0              ⎥\n",
       "                   ⎥\n",
       "    1              ⎥\n",
       "                   ⎥\n",
       "    0              ⎦"
      ]
     },
     "execution_count": 33,
     "metadata": {},
     "output_type": "execute_result"
    }
   ],
   "source": [
    "J_ee = Matrix((J_v, J_w))\n",
    "J_ee"
   ]
  },
  {
   "cell_type": "markdown",
   "metadata": {},
   "source": [
    "From the Jacobian, the velocities and torque can be related. This ensures if a particular operation is possible."
   ]
  },
  {
   "cell_type": "markdown",
   "metadata": {},
   "source": [
    "$$\\dot{x} = J \\dot{\\theta}$$"
   ]
  },
  {
   "cell_type": "markdown",
   "metadata": {},
   "source": [
    "$$\\tau = J^T F$$"
   ]
  }
 ],
 "metadata": {
  "kernelspec": {
   "display_name": "Python 3",
   "language": "python",
   "name": "python3"
  },
  "language_info": {
   "codemirror_mode": {
    "name": "ipython",
    "version": 3
   },
   "file_extension": ".py",
   "mimetype": "text/x-python",
   "name": "python",
   "nbconvert_exporter": "python",
   "pygments_lexer": "ipython3",
   "version": "3.5.2"
  }
 },
 "nbformat": 4,
 "nbformat_minor": 1
}
